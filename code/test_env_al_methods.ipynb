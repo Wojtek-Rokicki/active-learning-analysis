{
 "cells": [
  {
   "cell_type": "code",
   "execution_count": 1,
   "metadata": {},
   "outputs": [],
   "source": [
    "# Benchmark Datasets\n",
    "\n",
    "from benchmark import Benchmark\n",
    "\n",
    "datasets = Benchmark.load_all_benchmark_datasets()\n",
    "\n",
    "df = datasets[\"ecoli\"]"
   ]
  },
  {
   "cell_type": "code",
   "execution_count": 2,
   "metadata": {},
   "outputs": [],
   "source": [
    "# Balanced dataset for sanity checks\n",
    "from sklearn.datasets import load_iris\n",
    "import pandas as pd\n",
    "X, y = load_iris(return_X_y=True, as_frame=True)\n",
    "\n",
    "# # Deleting one extra class to make dataset binary\n",
    "# i = y[y==2].index\n",
    "# X = X.drop(i)\n",
    "# y = y.drop(i)\n",
    "\n",
    "# # Formating the df\n",
    "df = pd.concat([X, y], axis=1)\n",
    "# df = df.rename(columns={'sepal length (cm)': 0, 'sepal width (cm)': 1, 'petal length (cm)': 2,\n",
    "#        'petal width (cm)': 3})\n",
    "df[\"target\"] = df[\"target\"].apply(lambda x: 1 if x != 2 else -1)"
   ]
  },
  {
   "cell_type": "code",
   "execution_count": 3,
   "metadata": {},
   "outputs": [],
   "source": [
    "# HTRU2 Dataset\n",
    "\n",
    "# import pandas as pd\n",
    "\n",
    "# column_names = [\"ip_mean\", \"ip_std\", \"ip_excess_curtosis\", \"ip_skewness\", \"dmsnr_mean\", \"dmsnr_std\", \"dmsnr_excess_curtosis\", \"dmsnr_skewness\", \"target\"]\n",
    "# df = pd.read_csv(\"../data/HTRU2/HTRU_2.csv\", header=None, names=column_names)\n"
   ]
  },
  {
   "cell_type": "code",
   "execution_count": 4,
   "metadata": {},
   "outputs": [
    {
     "name": "stdout",
     "output_type": "stream",
     "text": [
      "--------------------------------------------------\n",
      "General statistics: \n",
      "       sepal length (cm)  sepal width (cm)  petal length (cm)  \\\n",
      "count         150.000000        150.000000         150.000000   \n",
      "mean            5.843333          3.057333           3.758000   \n",
      "std             0.828066          0.435866           1.765298   \n",
      "min             4.300000          2.000000           1.000000   \n",
      "25%             5.100000          2.800000           1.600000   \n",
      "50%             5.800000          3.000000           4.350000   \n",
      "75%             6.400000          3.300000           5.100000   \n",
      "max             7.900000          4.400000           6.900000   \n",
      "\n",
      "       petal width (cm)      target  \n",
      "count        150.000000  150.000000  \n",
      "mean           1.199333    0.333333  \n",
      "std            0.762238    0.945968  \n",
      "min            0.100000   -1.000000  \n",
      "25%            0.300000   -1.000000  \n",
      "50%            1.300000    1.000000  \n",
      "75%            1.800000    1.000000  \n",
      "max            2.500000    1.000000  \n",
      "Columns types: \n",
      "sepal length (cm)    float64\n",
      "sepal width (cm)     float64\n",
      "petal length (cm)    float64\n",
      "petal width (cm)     float64\n",
      "target                 int64\n",
      "dtype: object\n",
      "Number of samples: \n",
      "150\n",
      "Classes distribution: \n",
      " 1    100\n",
      "-1     50\n",
      "Name: target, dtype: int64\n",
      "--------------------------------------------------\n"
     ]
    }
   ],
   "source": [
    "# Describe Dataset\n",
    "\n",
    "import pandas as pd\n",
    "\n",
    "def describe_dataset(dataset: pd.DataFrame) -> None:\n",
    "    print(50*\"-\")\n",
    "    print(f\"General statistics: \\n{df.describe()}\")\n",
    "    print(f\"Columns types: \\n{df.dtypes}\")\n",
    "    print(f\"Number of samples: \\n{len(df)}\")\n",
    "    print(f\"Classes distribution: \\n{df['target'].value_counts()}\")\n",
    "    print(50*\"-\")\n",
    "\n",
    "describe_dataset(df)"
   ]
  },
  {
   "cell_type": "code",
   "execution_count": 5,
   "metadata": {},
   "outputs": [
    {
     "name": "stdout",
     "output_type": "stream",
     "text": [
      "--------------------------------------------------\n",
      "General statistics: \n",
      "                  0             1             2             3      target\n",
      "count  1.500000e+02  1.500000e+02  1.500000e+02  1.500000e+02  150.000000\n",
      "mean  -4.736952e-16 -7.815970e-16 -4.263256e-16 -4.736952e-16    0.333333\n",
      "std    1.003350e+00  1.003350e+00  1.003350e+00  1.003350e+00    0.945968\n",
      "min   -1.870024e+00 -2.433947e+00 -1.567576e+00 -1.447076e+00   -1.000000\n",
      "25%   -9.006812e-01 -5.923730e-01 -1.226552e+00 -1.183812e+00   -1.000000\n",
      "50%   -5.250608e-02 -1.319795e-01  3.364776e-01  1.325097e-01    1.000000\n",
      "75%    6.745011e-01  5.586108e-01  7.627583e-01  7.906707e-01    1.000000\n",
      "max    2.492019e+00  3.090775e+00  1.785832e+00  1.712096e+00    1.000000\n",
      "Columns types: \n",
      "0         float64\n",
      "1         float64\n",
      "2         float64\n",
      "3         float64\n",
      "target      int64\n",
      "dtype: object\n",
      "Number of samples: \n",
      "150\n",
      "Classes distribution: \n",
      " 1    100\n",
      "-1     50\n",
      "Name: target, dtype: int64\n",
      "--------------------------------------------------\n"
     ]
    }
   ],
   "source": [
    "# Standardize Dataset\n",
    "\n",
    "from preprocessing import standardize\n",
    "\n",
    "df = standardize(df)\n",
    "\n",
    "describe_dataset(df)"
   ]
  },
  {
   "cell_type": "code",
   "execution_count": 6,
   "metadata": {},
   "outputs": [],
   "source": [
    "import numpy as np\n",
    "from config import RANDOM_STATE_SEED\n",
    "\n",
    "# Set our RNG seed for reproducibility.\n",
    "np.random.seed(RANDOM_STATE_SEED)\n",
    "\n",
    "# PCA decomposition\n",
    "from sklearn.decomposition import PCA\n",
    "\n",
    "X_raw = df.loc[:, df.columns != 'target']#.to_numpy()\n",
    "y_raw = df['target']#.to_numpy()\n",
    "\n",
    "# Define our PCA transformer and fit it onto our raw dataset.\n",
    "pca = PCA(n_components=2, random_state=RANDOM_STATE_SEED)\n",
    "transformed_df = pca.fit_transform(X=X_raw)"
   ]
  },
  {
   "cell_type": "code",
   "execution_count": 7,
   "metadata": {},
   "outputs": [
    {
     "data": {
      "image/png": "[encoded data removed]",
      "text/plain": [
       "<Figure size 1105x780 with 1 Axes>"
      ]
     },
     "metadata": {},
     "output_type": "display_data"
    }
   ],
   "source": [
    "%matplotlib inline\n",
    "import matplotlib as mpl\n",
    "import matplotlib.pyplot as plt\n",
    "\n",
    "# Isolate the data we'll need for plotting.\n",
    "x_component, y_component = transformed_df[:, 0], transformed_df[:, 1]\n",
    "\n",
    "# Plot our dimensionality-reduced (via PCA) dataset.\n",
    "plt.figure(figsize=(8.5, 6), dpi=130)\n",
    "plt.scatter(x=x_component, y=y_component, c=y_raw, cmap='viridis', s=50, alpha=8/10)\n",
    "plt.title('Df classes after PCA transformation')\n",
    "plt.show()"
   ]
  },
  {
   "cell_type": "code",
   "execution_count": 8,
   "metadata": {},
   "outputs": [
    {
     "name": "stdout",
     "output_type": "stream",
     "text": [
      "Train dataset:\n",
      "120 samples\n",
      "Counter({1: 80, -1: 40})\n",
      "Test dataset:\n",
      "30 samples\n",
      "Counter({1: 20, -1: 10})\n",
      "Init train dataset:\n",
      "12 samples\n",
      "Counter({1: 8, -1: 4})\n",
      "Pool dataset:\n",
      "108 samples\n",
      "Counter({1: 72, -1: 36})\n"
     ]
    }
   ],
   "source": [
    "# Dataset spliting\n",
    "from sklearn.model_selection import train_test_split\n",
    "from collections import Counter\n",
    "\n",
    "from config import TEST_SIZE, INITIAL_TRAIN_SIZE\n",
    "\n",
    "# Train and test split\n",
    "X_train, X_test, y_train, y_test = train_test_split(X_raw, y_raw, test_size=TEST_SIZE, random_state=RANDOM_STATE_SEED, shuffle=True, stratify=y_raw)\n",
    "\n",
    "print(\"Train dataset:\")\n",
    "print(f\"{len(y_train)} samples\")\n",
    "print(f\"{Counter(y_train)}\")\n",
    "\n",
    "print(\"Test dataset:\")\n",
    "print(f\"{len(y_test)} samples\")\n",
    "print(f\"{Counter(y_test)}\")\n",
    "\n",
    "# Initial train and pool split\n",
    "X_train_init, X_pool, y_train_init, y_pool = train_test_split(X_train, y_train, train_size=INITIAL_TRAIN_SIZE, random_state=RANDOM_STATE_SEED, shuffle=True, stratify=y_train)\n",
    "\n",
    "print(\"Init train dataset:\")\n",
    "print(f\"{len(y_train_init)} samples\")\n",
    "print(f\"{Counter(y_train_init)}\")\n",
    "\n",
    "print(\"Pool dataset:\")\n",
    "print(f\"{len(y_pool)} samples\")\n",
    "print(f\"{Counter(y_pool)}\")"
   ]
  },
  {
   "cell_type": "markdown",
   "metadata": {},
   "source": [
    "## Active Learning"
   ]
  },
  {
   "cell_type": "code",
   "execution_count": 9,
   "metadata": {},
   "outputs": [],
   "source": [
    "from config import WEIGHTED_TRAINING\n",
    "\n",
    "# Samples weighting\n",
    "if WEIGHTED_TRAINING:\n",
    "    from sklearn.utils.class_weight import compute_class_weight, compute_sample_weight\n",
    "    classes_weights = compute_class_weight(class_weight=\"balanced\", classes=np.unique(y_train_init), y=y_train_init)\n",
    "    CLASS_WEIGHT = {}\n",
    "    for c, cw in list(zip(np.unique(y_train_init), classes_weights)):\n",
    "        CLASS_WEIGHT[c] = cw\n",
    "    print(CLASS_WEIGHT)"
   ]
  },
  {
   "cell_type": "code",
   "execution_count": 10,
   "metadata": {},
   "outputs": [],
   "source": [
    "# Hyperparameters tunning of the initial model\n",
    "from sklearn.base import ClassifierMixin\n",
    "from sklearn.model_selection._search import BaseSearchCV\n",
    "from sklearn.experimental import enable_halving_search_cv\n",
    "from sklearn.model_selection import GridSearchCV, HalvingGridSearchCV, StratifiedKFold\n",
    "from config import PARAMS_GRID, VERBOSE\n",
    "\n",
    "from metrics import f2_score, pr_auc_score\n",
    "\n",
    "\n",
    "def tune_classifiers_hyperparameters(Clf: ClassifierMixin, X, y, params_grid, GridSearchMethod: BaseSearchCV,  scorer, weighted_training=False, random_state=13, verbose=True) -> tuple:\n",
    "\n",
    "    skf = StratifiedKFold(n_splits=5, random_state=random_state, shuffle=True)\n",
    "    # Any GridSearch assumes stratified folds if there is classifier\n",
    "    if issubclass(GridSearchMethod, GridSearchCV):\n",
    "        gs = GridSearchMethod(estimator=Clf(), param_grid=params_grid, scoring=scorer, refit=True, cv=skf)\n",
    "    elif issubclass(GridSearchMethod, HalvingGridSearchCV):\n",
    "        gs = GridSearchMethod(estimator=Clf(), param_grid=params_grid, scoring=scorer, refit=True, cv=skf, factor=2)\n",
    "    else:\n",
    "        raise ValueError(\"Unknown or unsupported BaseSearchCV\") \n",
    "    \n",
    "    if weighted_training:\n",
    "        sample_weight = compute_sample_weight(class_weight=CLASS_WEIGHT, y=y)\n",
    "    else:\n",
    "        sample_weight = None\n",
    "    gs.fit(X, y, sample_weight=sample_weight)\n",
    "\n",
    "    if verbose:\n",
    "        params_combinations = gs.cv_results_[\"params\"]\n",
    "        params_combinations_scores = gs.cv_results_[\"mean_test_score\"]\n",
    "        for i, params in enumerate(params_combinations):\n",
    "            print(f\"{params}\\n{params_combinations_scores[i]}\")\n",
    "\n",
    "    return (gs.best_estimator_, gs.best_params_)"
   ]
  },
  {
   "cell_type": "code",
   "execution_count": 11,
   "metadata": {},
   "outputs": [],
   "source": [
    "# # 1. Uncertainty sampling\n",
    "# from sklearn.svm import SVC\n",
    "# from sklearn.neighbors import KNeighborsClassifier\n",
    "\n",
    "# # Import active learning classes and methods\n",
    "# import os\n",
    "# import sys\n",
    "# # module_path = os.path.abspath(os.path.join('./active_learning/modAL/'))\n",
    "# # if module_path not in sys.path:\n",
    "# #     sys.path.append(module_path)\n",
    "\n",
    "# from modAL.models import ActiveLearner\n",
    "# from modAL.uncertainty import uncertainty_sampling\n",
    "# from modAL.random_sampling import random_sampling\n",
    "\n",
    "# Clf = KNeighborsClassifier\n",
    "# # init_model, params = tune_classifiers_hyperparameters(Clf, X_train_init, y_train_init, params_grid=PARAMS_GRID[Clf.__name__], GridSearchMethod=GridSearchCV, scorer=f2_score, weighted_training=False, random_state=RANDOM_STATE_SEED, verbose=False)\n",
    "# # print(f\"Optimal hyperparameters: {params}\")\n",
    "# # learner = ActiveLearner(estimator=init_model, query_strategy=uncertainty_sampling)\n",
    "# # learner.X_training = X_train_init\n",
    "# # learner.y_training = y_train_init\n",
    "# learner = ActiveLearner(estimator=Clf(n_neighbors=3), X_training=X_train_init, y_training=y_train_init, query_strategy=random_sampling)"
   ]
  },
  {
   "cell_type": "code",
   "execution_count": 12,
   "metadata": {},
   "outputs": [],
   "source": [
    "# # 2.1 Query-by-Committee\n",
    "# from sklearn.svm import SVC\n",
    "# from modAL.models import ActiveLearner, Committee\n",
    "\n",
    "# n_members = 3\n",
    "\n",
    "# Clf = SVC\n",
    "# init_model, params = tune_classifiers_hyperparameters(Clf, X_train_init, y_train_init, params_grid=PARAMS_GRID[Clf.__name__], GridSearchMethod=GridSearchCV, scorer=f2_score, random_state=RANDOM_STATE_SEED, verbose=False)\n",
    "# print(f\"Optimal hyperparameters: {params}\")\n",
    "\n",
    "# learners = []\n",
    "# for _ in range(n_members):\n",
    "#     learner = ActiveLearner(\n",
    "#             estimator = init_model\n",
    "#         )\n",
    "#     learner.X_training = X_train_init\n",
    "#     learner.y_training = y_train_init\n",
    "#     learners.append(learner)\n",
    "\n",
    "# from modAL.disagreement import vote_entropy_sampling\n",
    "\n",
    "# committee = Committee(\n",
    "#     learner_list = learners,\n",
    "#     query_strategy = vote_entropy_sampling\n",
    "# )\n",
    "\n",
    "# learner = committee"
   ]
  },
  {
   "cell_type": "code",
   "execution_count": 13,
   "metadata": {},
   "outputs": [],
   "source": [
    "# # 2.2 Query-by-Bagging\n",
    "# import numpy as np\n",
    "\n",
    "# # Set our RNG seed for reproducibility.\n",
    "# RANDOM_STATE_SEED = 121\n",
    "# np.random.seed(RANDOM_STATE_SEED)\n",
    "\n",
    "# n_members = 9\n",
    "# # from sklearn.ensemble import RandomForestClassifier\n",
    "# # model = RandomForestClassifier()\n",
    "# from modAL import ActiveLearner\n",
    "# from modAL import Committee\n",
    "# from sklearn.svm import SVC\n",
    "# Clf = SVC\n",
    "# init_model, params = tune_classifiers_hyperparameters(Clf, X_train_init, y_train_init, param_grid[Clf.__name__], GridSearchCV, f2_score, verbose=False)\n",
    "# print(f\"Optimal hyperparameters: {params}\")\n",
    "\n",
    "# learners = []\n",
    "# for _ in range(n_members):\n",
    "#     learner = ActiveLearner(\n",
    "#             estimator = init_model,\n",
    "#             X_training = X_train_init, y_training = y_train_init,\n",
    "#             bootstrap_init = True,\n",
    "#             stratify=True\n",
    "#         )\n",
    "#     learners.append(learner)\n",
    "\n",
    "# from modAL.disagreement import max_disagreement_sampling\n",
    "\n",
    "# committee = Committee(\n",
    "#     learner_list = learners,\n",
    "#     query_strategy = max_disagreement_sampling\n",
    "# )\n",
    "\n",
    "# learner = committee\n",
    "\n",
    "# # AFTER RELEARNING WITH ONE ADDITIONAL SAMPLE USE REBAGGING OR BOOTSTRAP ON TEACH!"
   ]
  },
  {
   "cell_type": "code",
   "execution_count": 14,
   "metadata": {},
   "outputs": [],
   "source": [
    "# 2.3 Query-by-Boosting TODO"
   ]
  },
  {
   "cell_type": "code",
   "execution_count": 15,
   "metadata": {},
   "outputs": [],
   "source": [
    "# 3. Expected Model Change TODO - probably use bayesian optimization - expected model improvement"
   ]
  },
  {
   "cell_type": "code",
   "execution_count": 16,
   "metadata": {},
   "outputs": [],
   "source": [
    "# 4. Expected Error Reduction\n",
    "from sklearn.naive_bayes import GaussianNB\n",
    "import functools\n",
    "\n",
    "# Import active learning classes and methods\n",
    "import os\n",
    "import sys\n",
    "module_path = os.path.abspath(os.path.join('./active_learning/modAL/'))\n",
    "if module_path not in sys.path:\n",
    "    sys.path.append(module_path)\n",
    "\n",
    "from modAL.models import ActiveLearner\n",
    "from modAL.expected_error import expected_error_reduction\n",
    "\n",
    "# Decorate EER with proper loss function\n",
    "def expected_error_reduction_with_loss(func, loss_type: str):\n",
    "    @functools.wraps(func)\n",
    "    def loss_wrapper(*args, **kwargs):\n",
    "        return func(*args, loss=loss_type, **kwargs)\n",
    "    return loss_wrapper\n",
    "\n",
    "Clf = GaussianNB\n",
    "EER_LOSS_TYPE = \"log\"\n",
    "# Hiperparameters tunning\n",
    "#_, params = tune_classifiers_hyperparameters(Clf, X_train_init, y_train_init, params_grid=PARAMS_GRID[Clf.__name__], GridSearchMethod=GridSearchCV, scorer=f2_score, weighted_training=WEIGHTED_TRAINING, random_state=RANDOM_STATE_SEED, verbose=VERBOSE)\n",
    "\n",
    "sample_weight = compute_sample_weight(class_weight=CLASS_WEIGHT, y=y_train_init) if WEIGHTED_TRAINING else None\n",
    "# Hiperparameters tunning\n",
    "# learner = ActiveLearner(estimator=Clf(**params), X_training=X_train_init, y_training=y_train_init, query_strategy=expected_error_reduction_with_loss(expected_error_reduction, loss_type=EER_LOSS_TYPE), sample_weight=sample_weight)\n",
    "\n",
    "# Default hiperparameters\n",
    "learner = ActiveLearner(estimator=Clf(), X_training=X_train_init, y_training=y_train_init, query_strategy=expected_error_reduction_with_loss(expected_error_reduction, loss_type=EER_LOSS_TYPE), sample_weight=sample_weight)"
   ]
  },
  {
   "cell_type": "code",
   "execution_count": 17,
   "metadata": {},
   "outputs": [],
   "source": [
    "# print(params) # default 1e-9"
   ]
  },
  {
   "cell_type": "code",
   "execution_count": 18,
   "metadata": {},
   "outputs": [],
   "source": [
    "# # 5. Variance Reduction\n",
    "# # from modAL.decorators import change_repr\n",
    "# from sklearn.base import BaseEstimator \n",
    "# from modAL.utils.data import modALinput\n",
    "\n",
    "# from modAL.utils.selection import (multi_argmin, shuffled_argmin)\n",
    "\n",
    "# from numpy.linalg import LinAlgError\n",
    "\n",
    "# # @change_repr\n",
    "# def fisher_information_sampling(classifier: BaseEstimator, X: modALinput,\n",
    "#                     n_instances: int = 1, random_tie_break: bool = False,\n",
    "#                     **uncertainty_measure_kwargs) -> np.ndarray:\n",
    "#     \"\"\"\n",
    "#     Fisher Information sampling query strategy. Selects the instances which influences the sensitivity of the model's likelihood function with respect to the model parameters least.\n",
    "#     Args:\n",
    "#         classifier: The classifier for which the labels are to be queried.\n",
    "#         X: The pool of samples to query from.\n",
    "#         n_instances: Number of samples to be queried.\n",
    "#         random_tie_break: If True, shuffles utility scores to randomize the order. This\n",
    "#             can be used to break the tie when the highest utility score is not unique.\n",
    "#         **uncertainty_measure_kwargs: Keyword arguments to be passed for the uncertainty\n",
    "#             measure function.\n",
    "#     Returns:\n",
    "#         The indices of the instances from X chosen to be labelled.\n",
    "#         The margin metric of the chosen instances.\n",
    "#     \"\"\"\n",
    "\n",
    "#     probabilities = classifier.predict_proba(X, **uncertainty_measure_kwargs)\n",
    "#     W_x = np.diag(np.prod(probabilities, axis=1))\n",
    "#     I_u = np.linalg.multi_dot([X.T, W_x, X])\n",
    "\n",
    "#     fi = []\n",
    "#     for i in range(W_x.shape[0]):\n",
    "#         I_x = np.outer((X[i]*W_x[i,i]), X[i])\n",
    "#         try:\n",
    "#             inv_I_x = np.linalg.inv(I_x)\n",
    "#         except LinAlgError:\n",
    "#             inv_I_x = np.linalg.pinv(I_x) # or other options such as: dropping the sample (singularity means low sensitivity of the model to that sample); regularization (adding small positive values to the diagonal of the initial matrix to stabilize the calculations); pseudo-inverse (this situation - it exists for all matrices)\n",
    "#         tr = np.trace(np.linalg.multi_dot([I_u, inv_I_x]))\n",
    "#         fi.append(tr)\n",
    "\n",
    "#     fi = np.array(fi)\n",
    "\n",
    "#     if not random_tie_break:\n",
    "#         return multi_argmin(fi, n_instances=n_instances)\n",
    "\n",
    "#     return shuffled_argmin(fi, n_instances=n_instances)\n",
    "\n",
    "# from sklearn.linear_model import LogisticRegression\n",
    "# from modAL.models import ActiveLearner\n",
    "\n",
    "# logistic_regressor = LogisticRegression(penalty=None, dual=False, tol=0.0001, C=1.0, fit_intercept=True, intercept_scaling=1, class_weight=None, random_state=RANDOM_STATE_SEED, solver='lbfgs', max_iter=100, multi_class='auto', verbose=0, warm_start=False, n_jobs=None, l1_ratio=None)\n",
    "# learner = ActiveLearner(estimator=logistic_regressor, query_strategy=fisher_information_sampling, X_training=X_train_init, y_training=y_train_init)"
   ]
  },
  {
   "cell_type": "code",
   "execution_count": 19,
   "metadata": {},
   "outputs": [],
   "source": [
    "# 6. Density-weighted methods"
   ]
  },
  {
   "cell_type": "code",
   "execution_count": 20,
   "metadata": {},
   "outputs": [
    {
     "name": "stdout",
     "output_type": "stream",
     "text": [
      "Full dataset model\n",
      "--------------------------------------------------\n",
      "accuracy: 0.8333333333333334,\n",
      "precision: 0.9411764705882353,\n",
      "recall: 0.8,\n",
      "f2_score: 0.8247422680412373,\n",
      "auc_pr_curve: 0.9651345125023867,\n",
      "auc_roc_curve: 0.925\n",
      "--------------------------------------------------\n",
      "Initial model\n",
      "--------------------------------------------------\n",
      "accuracy: 0.7333333333333333,\n",
      "precision: 0.7307692307692307,\n",
      "recall: 0.95,\n",
      "f2_score: 0.8962264150943396,\n",
      "auc_pr_curve: 0.9100685669542514,\n",
      "auc_roc_curve: 0.8300000000000001\n",
      "--------------------------------------------------\n"
     ]
    }
   ],
   "source": [
    "from metrics import method_eval, f2_score\n",
    "\n",
    "VERBOSE = 1\n",
    "\n",
    "# Evaluate model trained on the whole data\n",
    "# model = SVC(**params)\n",
    "# model = LogisticRegression(penalty=None, dual=False, tol=0.0001, C=1.0, fit_intercept=True, intercept_scaling=1, class_weight=None, random_state=RANDOM_STATE_SEED, solver='lbfgs', max_iter=100, multi_class='auto', verbose=0, warm_start=False, n_jobs=None, l1_ratio=None)\n",
    "# model = LogisticRegression()\n",
    "# model = RandomForestClassifier()\n",
    "#model = Clf(**params)\n",
    "model = Clf()\n",
    "\n",
    "sample_weight = compute_sample_weight(class_weight=CLASS_WEIGHT, y=y_train) if WEIGHTED_TRAINING else None\n",
    "\n",
    "model.fit(X_train, y_train, sample_weight=sample_weight)\n",
    "y_pred = model.predict(X_test)\n",
    "y_proba = model.predict_proba(X_test)\n",
    "\n",
    "print(\"Full dataset model\")\n",
    "print(50*'-')\n",
    "full_model_score = method_eval(y_test=y_test, y_pred=y_pred, y_proba=y_proba, verbose=VERBOSE)\n",
    "print(50*'-')\n",
    "\n",
    "# Evaluate initial model\n",
    "y_pred = learner.predict(X_test)\n",
    "y_proba = learner.predict_proba(X_test)\n",
    "\n",
    "print(\"Initial model\")\n",
    "print(50*'-')\n",
    "unqueried_score = method_eval(y_test=y_test, y_pred=y_pred, y_proba=y_proba, verbose=VERBOSE)\n",
    "print(50*'-')"
   ]
  },
  {
   "cell_type": "code",
   "execution_count": 21,
   "metadata": {},
   "outputs": [
    {
     "name": "stdout",
     "output_type": "stream",
     "text": [
      "0.8333 & 0.9412 & 0.8000 & 0.8247 & 0.9651 & 0.9250 & \n",
      "\n",
      "0.7333 & 0.7308 & 0.9500 & 0.8962 & 0.9101 & 0.8300 & "
     ]
    }
   ],
   "source": [
    "if len(full_model_score) == 2:\n",
    "    full_model_score = list(full_model_score[\"metrics\"].values())\n",
    "for x in full_model_score:\n",
    "    print(f\"{x:.4f} & \", end=\"\")\n",
    "\n",
    "print(\"\\n\")\n",
    "\n",
    "for x in unqueried_score[\"metrics\"].values():\n",
    "    print(f\"{x:.4f} & \", end=\"\")"
   ]
  },
  {
   "cell_type": "code",
   "execution_count": 22,
   "metadata": {},
   "outputs": [],
   "source": [
    "# Metrics for tracking active learning process\n",
    "CHANGE_WINDOW_SIZE = 10\n",
    "MEAN_ABS_DIFF_THRESHOLD = 0.05\n",
    "\n",
    "def calculate_mean_abs_difference(X, Y):\n",
    "    return np.mean(np.abs(X-Y))"
   ]
  },
  {
   "cell_type": "code",
   "execution_count": 23,
   "metadata": {},
   "outputs": [],
   "source": [
    "import warnings\n",
    "from config import StoppingCriterion, BatchMode, AL_N_QUERIES, AL_QUERY_FIXED_BATCH_SIZE, AL_FRACTION_OF_TRAIN_QUERIES, AL_QUERY_FRACTION_OF_TRAIN_BATCH_SIZE\n",
    "def perpare_queries_and_batch_size(stopping_criterion: StoppingCriterion, batch_mode: BatchMode, pool_size: int, init_train_size: int) -> tuple:\n",
    "    match stopping_criterion.name:\n",
    "        case \"N_QUERIES\":\n",
    "            n_queries = AL_N_QUERIES\n",
    "            match batch_mode.name:\n",
    "                case 'FIXED_BATCH_SIZE':\n",
    "                    batch_size = AL_QUERY_FIXED_BATCH_SIZE\n",
    "                    if n_queries * batch_size > pool_size:\n",
    "                        warnings.warn(f\"Warning: The pool samples size ({pool_size}) is to small for requested number of queries ({n_queries * batch_size}). Decreasing n_queries to match pool_size.\")\n",
    "                        n_queries = int(n_queries/batch_size)\n",
    "                case 'FRACTION_OF_N_QUERIES':\n",
    "                    raise NotImplemented(f\"{batch_mode.name} for {stopping_criterion.name} not implemented.\") # TODO?\n",
    "                case 'FRACTION_OF_TRAIN_SIZE':\n",
    "                    raise NotImplemented(f\"{batch_mode.name} for {stopping_criterion.name} not implemented.\") # TODO?\n",
    "        case \"FRACTION_OF_TRAIN_QUERIES\":\n",
    "            n_queries = int((AL_FRACTION_OF_TRAIN_QUERIES * pool_size / 0.9) - init_train_size)\n",
    "            match batch_mode.name:\n",
    "                case 'FIXED_BATCH_SIZE':\n",
    "                    batch_size = AL_QUERY_FIXED_BATCH_SIZE\n",
    "                    if n_queries * batch_size > pool_size:\n",
    "                        warnings.warn(f\"Warning: The pool samples size ({pool_size}) is to small for requested number of queries ({n_queries * batch_size}). Decreasing n_queries to match pool_size.\")\n",
    "                        n_queries = int(n_queries/batch_size)\n",
    "                case 'FRACTION_OF_N_QUERIES':\n",
    "                    raise NotImplemented(f\"{batch_mode.name} for {stopping_criterion.name} not implemented.\")\n",
    "                case 'FRACTION_OF_TRAIN_SIZE':\n",
    "                    batch_size = int(AL_QUERY_FRACTION_OF_TRAIN_BATCH_SIZE * pool_size / 0.9)\n",
    "                    if n_queries * batch_size > pool_size:\n",
    "                        warnings.warn(f\"Warning: The pool samples size ({pool_size}) is to small for requested number of queries ({n_queries * batch_size}). Decreasing n_queries to match pool_size.\")\n",
    "                        n_queries = int(n_queries/batch_size)\n",
    "        # TODO: Add debuging of number of queries\n",
    "\n",
    "        case \"ENTROPY_CONFIDENCE\":\n",
    "            n_queries = X_pool.shape[0]\n",
    "            batch_size = AL_QUERY_FIXED_BATCH_SIZE\n",
    "            if n_queries * batch_size > pool_size:\n",
    "                        n_queries = int(n_queries/batch_size)\n",
    "                        warnings.warn(f\"Warning: The pool samples size ({pool_size}) is to small for requested number of queries ({n_queries * batch_size}). Decreasing n_queries to match pool_size.\")\n",
    "            n_decline_rounds = 0\n",
    "\n",
    "    return n_queries, batch_size"
   ]
  },
  {
   "cell_type": "code",
   "execution_count": 24,
   "metadata": {},
   "outputs": [
    {
     "name": "stdout",
     "output_type": "stream",
     "text": [
      "\n",
      "1. iteration: \n",
      "Chosen sample was of an index: 59\n",
      "Chosen sample was of a class: 59    1\n",
      "Name: target, dtype: int64\n",
      "\n",
      "--------------------------------------------------\n",
      "accuracy: 0.7333333333333333,\n",
      "precision: 0.7307692307692307,\n",
      "recall: 0.95,\n",
      "f2_score: 0.8962264150943396,\n",
      "auc_pr_curve: 0.9100685669542514,\n",
      "auc_roc_curve: 0.8300000000000001\n",
      "--------------------------------------------------\n",
      "\n",
      "2. iteration: \n",
      "Chosen sample was of an index: 53\n",
      "Chosen sample was of a class: 53    1\n",
      "Name: target, dtype: int64\n",
      "\n",
      "--------------------------------------------------\n",
      "accuracy: 0.7333333333333333,\n",
      "precision: 0.7307692307692307,\n",
      "recall: 0.95,\n",
      "f2_score: 0.8962264150943396,\n",
      "auc_pr_curve: 0.9100685669542514,\n",
      "auc_roc_curve: 0.8300000000000001\n",
      "--------------------------------------------------\n",
      "\n",
      "3. iteration: \n",
      "Chosen sample was of an index: 96\n",
      "Chosen sample was of a class: 96    1\n",
      "Name: target, dtype: int64\n",
      "\n",
      "--------------------------------------------------\n",
      "accuracy: 0.7333333333333333,\n",
      "precision: 0.7307692307692307,\n",
      "recall: 0.95,\n",
      "f2_score: 0.8962264150943396,\n",
      "auc_pr_curve: 0.9100685669542514,\n",
      "auc_roc_curve: 0.8300000000000001\n",
      "--------------------------------------------------\n",
      "\n",
      "4. iteration: \n",
      "Chosen sample was of an index: 94\n",
      "Chosen sample was of a class: 94    1\n",
      "Name: target, dtype: int64\n",
      "\n",
      "--------------------------------------------------\n",
      "accuracy: 0.7333333333333333,\n",
      "precision: 0.7307692307692307,\n",
      "recall: 0.95,\n",
      "f2_score: 0.8962264150943396,\n",
      "auc_pr_curve: 0.9100685669542514,\n",
      "auc_roc_curve: 0.8300000000000001\n",
      "--------------------------------------------------\n",
      "\n",
      "5. iteration: \n",
      "Chosen sample was of an index: 66\n",
      "Chosen sample was of a class: 66    1\n",
      "Name: target, dtype: int64\n",
      "\n",
      "--------------------------------------------------\n",
      "accuracy: 0.7333333333333333,\n",
      "precision: 0.7307692307692307,\n",
      "recall: 0.95,\n",
      "f2_score: 0.8962264150943396,\n",
      "auc_pr_curve: 0.9100685669542514,\n",
      "auc_roc_curve: 0.8300000000000001\n",
      "--------------------------------------------------\n",
      "\n",
      "6. iteration: \n",
      "Chosen sample was of an index: 98\n",
      "Chosen sample was of a class: 98    1\n",
      "Name: target, dtype: int64\n",
      "\n",
      "--------------------------------------------------\n",
      "accuracy: 0.7333333333333333,\n",
      "precision: 0.7307692307692307,\n",
      "recall: 0.95,\n",
      "f2_score: 0.8962264150943396,\n",
      "auc_pr_curve: 0.9100685669542514,\n",
      "auc_roc_curve: 0.8300000000000001\n",
      "--------------------------------------------------\n",
      "\n",
      "7. iteration: \n",
      "Chosen sample was of an index: 51\n",
      "Chosen sample was of a class: 51    1\n",
      "Name: target, dtype: int64\n",
      "\n",
      "--------------------------------------------------\n",
      "accuracy: 0.7666666666666667,\n",
      "precision: 0.7407407407407407,\n",
      "recall: 1.0,\n",
      "f2_score: 0.9345794392523363,\n",
      "auc_pr_curve: 0.9100685669542514,\n",
      "auc_roc_curve: 0.8300000000000001\n",
      "--------------------------------------------------\n",
      "\n",
      "8. iteration: \n",
      "Chosen sample was of an index: 85\n",
      "Chosen sample was of a class: 85    1\n",
      "Name: target, dtype: int64\n",
      "\n",
      "--------------------------------------------------\n",
      "accuracy: 0.7666666666666667,\n",
      "precision: 0.7407407407407407,\n",
      "recall: 1.0,\n",
      "f2_score: 0.9345794392523363,\n",
      "auc_pr_curve: 0.9100685669542514,\n",
      "auc_roc_curve: 0.8300000000000001\n",
      "--------------------------------------------------\n",
      "\n",
      "9. iteration: \n",
      "Chosen sample was of an index: 41\n",
      "Chosen sample was of a class: 41    1\n",
      "Name: target, dtype: int64\n",
      "\n"
     ]
    },
    {
     "name": "stdout",
     "output_type": "stream",
     "text": [
      "--------------------------------------------------\n",
      "accuracy: 0.7666666666666667,\n",
      "precision: 0.7407407407407407,\n",
      "recall: 1.0,\n",
      "f2_score: 0.9345794392523363,\n",
      "auc_pr_curve: 0.9100685669542514,\n",
      "auc_roc_curve: 0.8300000000000001\n",
      "--------------------------------------------------\n",
      "\n",
      "10. iteration: \n",
      "Chosen sample was of an index: 132\n",
      "Chosen sample was of a class: 132   -1\n",
      "Name: target, dtype: int64\n",
      "\n",
      "--------------------------------------------------\n",
      "accuracy: 0.7666666666666667,\n",
      "precision: 0.7407407407407407,\n",
      "recall: 1.0,\n",
      "f2_score: 0.9345794392523363,\n",
      "auc_pr_curve: 0.9100685669542514,\n",
      "auc_roc_curve: 0.8300000000000001\n",
      "--------------------------------------------------\n",
      "\n",
      "11. iteration: \n",
      "Chosen sample was of an index: 108\n",
      "Chosen sample was of a class: 108   -1\n",
      "Name: target, dtype: int64\n",
      "\n",
      "--------------------------------------------------\n",
      "accuracy: 0.7666666666666667,\n",
      "precision: 0.7407407407407407,\n",
      "recall: 1.0,\n",
      "f2_score: 0.9345794392523363,\n",
      "auc_pr_curve: 0.9100685669542514,\n",
      "auc_roc_curve: 0.8300000000000001\n",
      "--------------------------------------------------\n",
      "\n",
      "12. iteration: \n",
      "Chosen sample was of an index: 84\n",
      "Chosen sample was of a class: 84    1\n",
      "Name: target, dtype: int64\n",
      "\n",
      "--------------------------------------------------\n",
      "accuracy: 0.7666666666666667,\n",
      "precision: 0.7407407407407407,\n",
      "recall: 1.0,\n",
      "f2_score: 0.9345794392523363,\n",
      "auc_pr_curve: 0.9100685669542514,\n",
      "auc_roc_curve: 0.8300000000000001\n",
      "--------------------------------------------------\n",
      "\n",
      "13. iteration: \n",
      "Chosen sample was of an index: 44\n",
      "Chosen sample was of a class: 44    1\n",
      "Name: target, dtype: int64\n",
      "\n",
      "--------------------------------------------------\n",
      "accuracy: 0.7666666666666667,\n",
      "precision: 0.7407407407407407,\n",
      "recall: 1.0,\n",
      "f2_score: 0.9345794392523363,\n",
      "auc_pr_curve: 0.9304852336209182,\n",
      "auc_roc_curve: 0.865\n",
      "--------------------------------------------------\n",
      "\n",
      "14. iteration: \n",
      "Chosen sample was of an index: 48\n",
      "Chosen sample was of a class: 48    1\n",
      "Name: target, dtype: int64\n",
      "\n",
      "--------------------------------------------------\n",
      "accuracy: 0.7333333333333333,\n",
      "precision: 0.7307692307692307,\n",
      "recall: 0.95,\n",
      "f2_score: 0.8962264150943396,\n",
      "auc_pr_curve: 0.9304852336209182,\n",
      "auc_roc_curve: 0.865\n",
      "--------------------------------------------------\n",
      "\n",
      "15. iteration: \n",
      "Chosen sample was of an index: 38\n",
      "Chosen sample was of a class: 38    1\n",
      "Name: target, dtype: int64\n",
      "\n",
      "--------------------------------------------------\n",
      "accuracy: 0.7333333333333333,\n",
      "precision: 0.7307692307692307,\n",
      "recall: 0.95,\n",
      "f2_score: 0.8962264150943396,\n",
      "auc_pr_curve: 0.9304852336209182,\n",
      "auc_roc_curve: 0.865\n",
      "--------------------------------------------------\n",
      "\n",
      "16. iteration: \n",
      "Chosen sample was of an index: 118\n",
      "Chosen sample was of a class: 118   -1\n",
      "Name: target, dtype: int64\n",
      "\n",
      "--------------------------------------------------\n",
      "accuracy: 0.8,\n",
      "precision: 0.8181818181818182,\n",
      "recall: 0.9,\n",
      "f2_score: 0.8823529411764706,\n",
      "auc_pr_curve: 0.9673221403359208,\n",
      "auc_roc_curve: 0.93\n",
      "--------------------------------------------------\n",
      "\n",
      "17. iteration: \n",
      "Chosen sample was of an index: 106\n",
      "Chosen sample was of a class: 106   -1\n",
      "Name: target, dtype: int64\n",
      "\n",
      "--------------------------------------------------\n",
      "accuracy: 0.8333333333333334,\n",
      "precision: 0.9411764705882353,\n",
      "recall: 0.8,\n",
      "f2_score: 0.8247422680412373,\n",
      "auc_pr_curve: 0.9703574503617409,\n",
      "auc_roc_curve: 0.935\n",
      "--------------------------------------------------\n",
      "\n",
      "18. iteration: \n",
      "Chosen sample was of an index: 140\n",
      "Chosen sample was of a class: 140   -1\n",
      "Name: target, dtype: int64\n",
      "\n",
      "--------------------------------------------------\n",
      "accuracy: 0.8333333333333334,\n",
      "precision: 0.9411764705882353,\n",
      "recall: 0.8,\n",
      "f2_score: 0.8247422680412373,\n",
      "auc_pr_curve: 0.9698742417274101,\n",
      "auc_roc_curve: 0.935\n",
      "--------------------------------------------------\n",
      "\n",
      "19. iteration: \n",
      "Chosen sample was of an index: 69\n",
      "Chosen sample was of a class: 69    1\n",
      "Name: target, dtype: int64\n",
      "\n",
      "--------------------------------------------------\n",
      "accuracy: 0.8333333333333334,\n",
      "precision: 0.9411764705882353,\n",
      "recall: 0.8,\n",
      "f2_score: 0.8247422680412373,\n",
      "auc_pr_curve: 0.9640951954597803,\n",
      "auc_roc_curve: 0.925\n",
      "--------------------------------------------------\n",
      "\n",
      "20. iteration: \n",
      "Chosen sample was of an index: 97\n",
      "Chosen sample was of a class: 97    1\n",
      "Name: target, dtype: int64\n",
      "\n",
      "--------------------------------------------------\n",
      "accuracy: 0.8333333333333334,\n",
      "precision: 0.8947368421052632,\n",
      "recall: 0.85,\n",
      "f2_score: 0.8585858585858586,\n",
      "auc_pr_curve: 0.9698742417274101,\n",
      "auc_roc_curve: 0.935\n",
      "--------------------------------------------------\n",
      "\n",
      "21. iteration: \n",
      "Chosen sample was of an index: 16\n",
      "Chosen sample was of a class: 16    1\n",
      "Name: target, dtype: int64\n",
      "\n",
      "--------------------------------------------------\n",
      "accuracy: 0.8333333333333334,\n",
      "precision: 0.9411764705882353,\n",
      "recall: 0.8,\n",
      "f2_score: 0.8247422680412373,\n",
      "auc_pr_curve: 0.9666450750607434,\n",
      "auc_roc_curve: 0.9299999999999999\n",
      "--------------------------------------------------\n",
      "\n",
      "22. iteration: \n",
      "Chosen sample was of an index: 86\n",
      "Chosen sample was of a class: 86    1\n",
      "Name: target, dtype: int64\n",
      "\n",
      "--------------------------------------------------\n",
      "accuracy: 0.8333333333333334,\n",
      "precision: 0.8947368421052632,\n",
      "recall: 0.85,\n",
      "f2_score: 0.8585858585858586,\n",
      "auc_pr_curve: 0.9729073299627042,\n",
      "auc_roc_curve: 0.94\n",
      "--------------------------------------------------\n",
      "\n",
      "23. iteration: \n",
      "Chosen sample was of an index: 56\n",
      "Chosen sample was of a class: 56    1\n",
      "Name: target, dtype: int64\n",
      "\n",
      "--------------------------------------------------\n",
      "accuracy: 0.8333333333333334,\n",
      "precision: 0.8947368421052632,\n",
      "recall: 0.85,\n",
      "f2_score: 0.8585858585858586,\n",
      "auc_pr_curve: 0.9729073299627042,\n",
      "auc_roc_curve: 0.94\n",
      "--------------------------------------------------\n",
      "\n",
      "24. iteration: \n",
      "Chosen sample was of an index: 78\n",
      "Chosen sample was of a class: 78    1\n",
      "Name: target, dtype: int64\n",
      "\n",
      "--------------------------------------------------\n",
      "accuracy: 0.8666666666666667,\n",
      "precision: 0.9,\n",
      "recall: 0.9,\n",
      "f2_score: 0.8999999999999999,\n",
      "auc_pr_curve: 0.9729073299627042,\n",
      "auc_roc_curve: 0.94\n",
      "--------------------------------------------------\n",
      "\n",
      "25. iteration: \n",
      "Chosen sample was of an index: 124\n",
      "Chosen sample was of a class: 124   -1\n",
      "Name: target, dtype: int64\n",
      "\n",
      "--------------------------------------------------\n",
      "accuracy: 0.8,\n",
      "precision: 0.85,\n",
      "recall: 0.85,\n",
      "f2_score: 0.85,\n",
      "auc_pr_curve: 0.970717480338644,\n",
      "auc_roc_curve: 0.935\n",
      "--------------------------------------------------\n",
      "\n",
      "26. iteration: \n",
      "Chosen sample was of an index: 62\n",
      "Chosen sample was of a class: 62    1\n",
      "Name: target, dtype: int64\n",
      "\n",
      "--------------------------------------------------\n",
      "accuracy: 0.8,\n",
      "precision: 0.85,\n",
      "recall: 0.85,\n",
      "f2_score: 0.85,\n",
      "auc_pr_curve: 0.970717480338644,\n",
      "auc_roc_curve: 0.935\n",
      "--------------------------------------------------\n",
      "\n",
      "27. iteration: \n",
      "Chosen sample was of an index: 115\n",
      "Chosen sample was of a class: 115   -1\n",
      "Name: target, dtype: int64\n",
      "\n",
      "--------------------------------------------------\n",
      "accuracy: 0.8,\n",
      "precision: 0.85,\n",
      "recall: 0.85,\n",
      "f2_score: 0.85,\n",
      "auc_pr_curve: 0.9726302414905357,\n",
      "auc_roc_curve: 0.94\n",
      "--------------------------------------------------\n",
      "\n",
      "28. iteration: \n",
      "Chosen sample was of an index: 8\n",
      "Chosen sample was of a class: 8    1\n",
      "Name: target, dtype: int64\n",
      "\n",
      "--------------------------------------------------\n",
      "accuracy: 0.8,\n",
      "precision: 0.85,\n",
      "recall: 0.85,\n",
      "f2_score: 0.85,\n",
      "auc_pr_curve: 0.9726302414905357,\n",
      "auc_roc_curve: 0.94\n",
      "--------------------------------------------------\n",
      "\n",
      "29. iteration: \n",
      "Chosen sample was of an index: 7\n",
      "Chosen sample was of a class: 7    1\n",
      "Name: target, dtype: int64\n",
      "\n",
      "--------------------------------------------------\n",
      "accuracy: 0.8333333333333334,\n",
      "precision: 0.8947368421052632,\n",
      "recall: 0.85,\n",
      "f2_score: 0.8585858585858586,\n",
      "auc_pr_curve: 0.9726302414905357,\n",
      "auc_roc_curve: 0.94\n",
      "--------------------------------------------------\n",
      "\n",
      "30. iteration: \n",
      "Chosen sample was of an index: 57\n",
      "Chosen sample was of a class: 57    1\n",
      "Name: target, dtype: int64\n",
      "\n",
      "--------------------------------------------------\n",
      "accuracy: 0.8333333333333334,\n",
      "precision: 0.8947368421052632,\n",
      "recall: 0.85,\n",
      "f2_score: 0.8585858585858586,\n",
      "auc_pr_curve: 0.9726302414905357,\n",
      "auc_roc_curve: 0.94\n",
      "--------------------------------------------------\n",
      "\n",
      "31. iteration: \n",
      "Chosen sample was of an index: 28\n",
      "Chosen sample was of a class: 28    1\n",
      "Name: target, dtype: int64\n",
      "\n",
      "--------------------------------------------------\n",
      "accuracy: 0.8333333333333334,\n",
      "precision: 0.8947368421052632,\n",
      "recall: 0.85,\n",
      "f2_score: 0.8585858585858586,\n",
      "auc_pr_curve: 0.9726302414905357,\n",
      "auc_roc_curve: 0.94\n",
      "--------------------------------------------------\n",
      "\n",
      "32. iteration: \n",
      "Chosen sample was of an index: 4\n",
      "Chosen sample was of a class: 4    1\n",
      "Name: target, dtype: int64\n",
      "\n",
      "--------------------------------------------------\n",
      "accuracy: 0.8333333333333334,\n",
      "precision: 0.8947368421052632,\n",
      "recall: 0.85,\n",
      "f2_score: 0.8585858585858586,\n",
      "auc_pr_curve: 0.970717480338644,\n",
      "auc_roc_curve: 0.935\n",
      "--------------------------------------------------\n",
      "\n",
      "33. iteration: \n",
      "Chosen sample was of an index: 79\n",
      "Chosen sample was of a class: 79    1\n",
      "Name: target, dtype: int64\n",
      "\n",
      "--------------------------------------------------\n",
      "accuracy: 0.8333333333333334,\n",
      "precision: 0.8947368421052632,\n",
      "recall: 0.85,\n",
      "f2_score: 0.8585858585858586,\n",
      "auc_pr_curve: 0.970717480338644,\n",
      "auc_roc_curve: 0.935\n",
      "--------------------------------------------------\n",
      "\n",
      "34. iteration: \n",
      "Chosen sample was of an index: 125\n",
      "Chosen sample was of a class: 125   -1\n",
      "Name: target, dtype: int64\n",
      "\n",
      "--------------------------------------------------\n",
      "accuracy: 0.8333333333333334,\n",
      "precision: 0.8947368421052632,\n",
      "recall: 0.85,\n",
      "f2_score: 0.8585858585858586,\n",
      "auc_pr_curve: 0.96768439210335,\n",
      "auc_roc_curve: 0.9299999999999999\n",
      "--------------------------------------------------\n",
      "\n",
      "35. iteration: \n",
      "Chosen sample was of an index: 49\n",
      "Chosen sample was of a class: 49    1\n",
      "Name: target, dtype: int64\n",
      "\n",
      "--------------------------------------------------\n",
      "accuracy: 0.8333333333333334,\n",
      "precision: 0.8947368421052632,\n",
      "recall: 0.85,\n",
      "f2_score: 0.8585858585858586,\n",
      "auc_pr_curve: 0.96768439210335,\n",
      "auc_roc_curve: 0.9299999999999999\n",
      "--------------------------------------------------\n",
      "\n",
      "36. iteration: \n",
      "Chosen sample was of an index: 114\n",
      "Chosen sample was of a class: 114   -1\n",
      "Name: target, dtype: int64\n",
      "\n",
      "--------------------------------------------------\n",
      "accuracy: 0.8333333333333334,\n",
      "precision: 0.8947368421052632,\n",
      "recall: 0.85,\n",
      "f2_score: 0.8585858585858586,\n",
      "auc_pr_curve: 0.96768439210335,\n",
      "auc_roc_curve: 0.9299999999999999\n",
      "--------------------------------------------------\n",
      "\n",
      "37. iteration: \n",
      "Chosen sample was of an index: 91\n",
      "Chosen sample was of a class: 91    1\n",
      "Name: target, dtype: int64\n",
      "\n",
      "--------------------------------------------------\n",
      "accuracy: 0.8333333333333334,\n",
      "precision: 0.8947368421052632,\n",
      "recall: 0.85,\n",
      "f2_score: 0.8585858585858586,\n",
      "auc_pr_curve: 0.96768439210335,\n",
      "auc_roc_curve: 0.9299999999999999\n",
      "--------------------------------------------------\n",
      "\n",
      "38. iteration: \n",
      "Chosen sample was of an index: 36\n",
      "Chosen sample was of a class: 36    1\n",
      "Name: target, dtype: int64\n",
      "\n",
      "--------------------------------------------------\n",
      "accuracy: 0.8333333333333334,\n",
      "precision: 0.8947368421052632,\n",
      "recall: 0.85,\n",
      "f2_score: 0.8585858585858586,\n",
      "auc_pr_curve: 0.96768439210335,\n",
      "auc_roc_curve: 0.9299999999999999\n",
      "--------------------------------------------------\n",
      "\n",
      "39. iteration: \n",
      "Chosen sample was of an index: 129\n",
      "Chosen sample was of a class: 129   -1\n",
      "Name: target, dtype: int64\n",
      "\n",
      "--------------------------------------------------\n",
      "accuracy: 0.8666666666666667,\n",
      "precision: 0.9444444444444444,\n",
      "recall: 0.85,\n",
      "f2_score: 0.8673469387755104,\n",
      "auc_pr_curve: 0.9666450750607434,\n",
      "auc_roc_curve: 0.9299999999999999\n",
      "--------------------------------------------------\n",
      "\n",
      "40. iteration: \n",
      "Chosen sample was of an index: 88\n",
      "Chosen sample was of a class: 88    1\n",
      "Name: target, dtype: int64\n",
      "\n",
      "--------------------------------------------------\n",
      "accuracy: 0.8666666666666667,\n",
      "precision: 0.9444444444444444,\n",
      "recall: 0.85,\n",
      "f2_score: 0.8673469387755104,\n",
      "auc_pr_curve: 0.9666450750607434,\n",
      "auc_roc_curve: 0.9299999999999999\n",
      "--------------------------------------------------\n",
      "\n",
      "41. iteration: \n",
      "Chosen sample was of an index: 103\n",
      "Chosen sample was of a class: 103   -1\n",
      "Name: target, dtype: int64\n",
      "\n",
      "--------------------------------------------------\n",
      "accuracy: 0.8666666666666667,\n",
      "precision: 0.9444444444444444,\n",
      "recall: 0.85,\n",
      "f2_score: 0.8673469387755104,\n",
      "auc_pr_curve: 0.9666450750607434,\n",
      "auc_roc_curve: 0.9299999999999999\n",
      "--------------------------------------------------\n",
      "\n",
      "42. iteration: \n",
      "Chosen sample was of an index: 137\n",
      "Chosen sample was of a class: 137   -1\n",
      "Name: target, dtype: int64\n",
      "\n",
      "--------------------------------------------------\n",
      "accuracy: 0.8333333333333334,\n",
      "precision: 0.9411764705882353,\n",
      "recall: 0.8,\n",
      "f2_score: 0.8247422680412373,\n",
      "auc_pr_curve: 0.9648952397511255,\n",
      "auc_roc_curve: 0.925\n",
      "--------------------------------------------------\n",
      "\n",
      "43. iteration: \n",
      "Chosen sample was of an index: 81\n",
      "Chosen sample was of a class: 81    1\n",
      "Name: target, dtype: int64\n",
      "\n",
      "--------------------------------------------------\n",
      "accuracy: 0.8333333333333334,\n",
      "precision: 0.9411764705882353,\n",
      "recall: 0.8,\n",
      "f2_score: 0.8247422680412373,\n",
      "auc_pr_curve: 0.9648952397511255,\n",
      "auc_roc_curve: 0.925\n",
      "--------------------------------------------------\n",
      "\n",
      "44. iteration: \n",
      "Chosen sample was of an index: 33\n",
      "Chosen sample was of a class: 33    1\n",
      "Name: target, dtype: int64\n",
      "\n",
      "--------------------------------------------------\n",
      "accuracy: 0.8333333333333334,\n",
      "precision: 0.9411764705882353,\n",
      "recall: 0.8,\n",
      "f2_score: 0.8247422680412373,\n",
      "auc_pr_curve: 0.9648952397511255,\n",
      "auc_roc_curve: 0.925\n",
      "--------------------------------------------------\n",
      "\n",
      "45. iteration: \n",
      "Chosen sample was of an index: 136\n",
      "Chosen sample was of a class: 136   -1\n",
      "Name: target, dtype: int64\n",
      "\n",
      "--------------------------------------------------\n",
      "accuracy: 0.8666666666666667,\n",
      "precision: 0.9444444444444444,\n",
      "recall: 0.85,\n",
      "f2_score: 0.8673469387755104,\n",
      "auc_pr_curve: 0.9648952397511255,\n",
      "auc_roc_curve: 0.925\n",
      "--------------------------------------------------\n",
      "\n",
      "46. iteration: \n",
      "Chosen sample was of an index: 87\n",
      "Chosen sample was of a class: 87    1\n",
      "Name: target, dtype: int64\n",
      "\n",
      "--------------------------------------------------\n",
      "accuracy: 0.8666666666666667,\n",
      "precision: 0.9444444444444444,\n",
      "recall: 0.85,\n",
      "f2_score: 0.8673469387755104,\n",
      "auc_pr_curve: 0.9648952397511255,\n",
      "auc_roc_curve: 0.925\n",
      "--------------------------------------------------\n",
      "\n",
      "47. iteration: \n",
      "Chosen sample was of an index: 65\n",
      "Chosen sample was of a class: 65    1\n",
      "Name: target, dtype: int64\n",
      "\n",
      "--------------------------------------------------\n",
      "accuracy: 0.8666666666666667,\n",
      "precision: 0.9444444444444444,\n",
      "recall: 0.85,\n",
      "f2_score: 0.8673469387755104,\n",
      "auc_pr_curve: 0.9666450750607434,\n",
      "auc_roc_curve: 0.9299999999999999\n",
      "--------------------------------------------------\n",
      "\n",
      "48. iteration: \n",
      "Chosen sample was of an index: 141\n",
      "Chosen sample was of a class: 141   -1\n",
      "Name: target, dtype: int64\n",
      "\n",
      "--------------------------------------------------\n",
      "accuracy: 0.8666666666666667,\n",
      "precision: 0.9444444444444444,\n",
      "recall: 0.85,\n",
      "f2_score: 0.8673469387755104,\n",
      "auc_pr_curve: 0.9666450750607434,\n",
      "auc_roc_curve: 0.9299999999999999\n",
      "--------------------------------------------------\n",
      "\n",
      "49. iteration: \n",
      "Chosen sample was of an index: 149\n",
      "Chosen sample was of a class: 149   -1\n",
      "Name: target, dtype: int64\n",
      "\n",
      "--------------------------------------------------\n",
      "accuracy: 0.8666666666666667,\n",
      "precision: 0.9444444444444444,\n",
      "recall: 0.85,\n",
      "f2_score: 0.8673469387755104,\n",
      "auc_pr_curve: 0.9666450750607434,\n",
      "auc_roc_curve: 0.9299999999999999\n",
      "--------------------------------------------------\n",
      "\n",
      "50. iteration: \n",
      "Chosen sample was of an index: 105\n",
      "Chosen sample was of a class: 105   -1\n",
      "Name: target, dtype: int64\n",
      "\n",
      "--------------------------------------------------\n",
      "accuracy: 0.8666666666666667,\n",
      "precision: 0.9444444444444444,\n",
      "recall: 0.85,\n",
      "f2_score: 0.8673469387755104,\n",
      "auc_pr_curve: 0.9644552254366833,\n",
      "auc_roc_curve: 0.925\n",
      "--------------------------------------------------\n",
      "\n",
      "51. iteration: \n",
      "Chosen sample was of an index: 93\n",
      "Chosen sample was of a class: 93    1\n",
      "Name: target, dtype: int64\n",
      "\n",
      "--------------------------------------------------\n",
      "accuracy: 0.8666666666666667,\n",
      "precision: 0.9444444444444444,\n",
      "recall: 0.85,\n",
      "f2_score: 0.8673469387755104,\n",
      "auc_pr_curve: 0.9644552254366833,\n",
      "auc_roc_curve: 0.925\n",
      "--------------------------------------------------\n",
      "\n",
      "52. iteration: \n",
      "Chosen sample was of an index: 9\n",
      "Chosen sample was of a class: 9    1\n",
      "Name: target, dtype: int64\n",
      "\n",
      "--------------------------------------------------\n",
      "accuracy: 0.8666666666666667,\n",
      "precision: 0.9444444444444444,\n",
      "recall: 0.85,\n",
      "f2_score: 0.8673469387755104,\n",
      "auc_pr_curve: 0.9627053901270654,\n",
      "auc_roc_curve: 0.9199999999999999\n",
      "--------------------------------------------------\n",
      "\n",
      "53. iteration: \n",
      "Chosen sample was of an index: 95\n",
      "Chosen sample was of a class: 95    1\n",
      "Name: target, dtype: int64\n",
      "\n",
      "--------------------------------------------------\n",
      "accuracy: 0.8666666666666667,\n",
      "precision: 0.9444444444444444,\n",
      "recall: 0.85,\n",
      "f2_score: 0.8673469387755104,\n",
      "auc_pr_curve: 0.9627053901270654,\n",
      "auc_roc_curve: 0.9199999999999999\n",
      "--------------------------------------------------\n",
      "\n",
      "54. iteration: \n",
      "Chosen sample was of an index: 21\n",
      "Chosen sample was of a class: 21    1\n",
      "Name: target, dtype: int64\n",
      "\n",
      "--------------------------------------------------\n",
      "accuracy: 0.8666666666666667,\n",
      "precision: 0.9444444444444444,\n",
      "recall: 0.85,\n",
      "f2_score: 0.8673469387755104,\n",
      "auc_pr_curve: 0.9648952397511255,\n",
      "auc_roc_curve: 0.925\n",
      "--------------------------------------------------\n",
      "\n",
      "55. iteration: \n",
      "Chosen sample was of an index: 46\n",
      "Chosen sample was of a class: 46    1\n",
      "Name: target, dtype: int64\n",
      "\n",
      "--------------------------------------------------\n",
      "accuracy: 0.8333333333333334,\n",
      "precision: 0.9411764705882353,\n",
      "recall: 0.8,\n",
      "f2_score: 0.8247422680412373,\n",
      "auc_pr_curve: 0.9648952397511255,\n",
      "auc_roc_curve: 0.925\n",
      "--------------------------------------------------\n",
      "\n",
      "56. iteration: \n",
      "Chosen sample was of an index: 12\n",
      "Chosen sample was of a class: 12    1\n",
      "Name: target, dtype: int64\n",
      "\n",
      "--------------------------------------------------\n",
      "accuracy: 0.8333333333333334,\n",
      "precision: 0.9411764705882353,\n",
      "recall: 0.8,\n",
      "f2_score: 0.8247422680412373,\n",
      "auc_pr_curve: 0.9648952397511255,\n",
      "auc_roc_curve: 0.925\n",
      "--------------------------------------------------\n",
      "\n",
      "57. iteration: \n",
      "Chosen sample was of an index: 83\n",
      "Chosen sample was of a class: 83    1\n",
      "Name: target, dtype: int64\n",
      "\n",
      "--------------------------------------------------\n",
      "accuracy: 0.8333333333333334,\n",
      "precision: 0.9411764705882353,\n",
      "recall: 0.8,\n",
      "f2_score: 0.8247422680412373,\n",
      "auc_pr_curve: 0.9648952397511255,\n",
      "auc_roc_curve: 0.925\n",
      "--------------------------------------------------\n",
      "\n",
      "58. iteration: \n",
      "Chosen sample was of an index: 101\n",
      "Chosen sample was of a class: 101   -1\n",
      "Name: target, dtype: int64\n",
      "\n",
      "--------------------------------------------------\n",
      "accuracy: 0.8333333333333334,\n",
      "precision: 0.9411764705882353,\n",
      "recall: 0.8,\n",
      "f2_score: 0.8247422680412373,\n",
      "auc_pr_curve: 0.9666450750607434,\n",
      "auc_roc_curve: 0.9299999999999999\n",
      "--------------------------------------------------\n",
      "\n",
      "59. iteration: \n",
      "Chosen sample was of an index: 123\n",
      "Chosen sample was of a class: 123   -1\n",
      "Name: target, dtype: int64\n",
      "\n",
      "--------------------------------------------------\n",
      "accuracy: 0.8333333333333334,\n",
      "precision: 0.9411764705882353,\n",
      "recall: 0.8,\n",
      "f2_score: 0.8247422680412373,\n",
      "auc_pr_curve: 0.9640951954597803,\n",
      "auc_roc_curve: 0.925\n",
      "--------------------------------------------------\n",
      "\n",
      "60. iteration: \n",
      "Chosen sample was of an index: 107\n",
      "Chosen sample was of a class: 107   -1\n",
      "Name: target, dtype: int64\n",
      "\n",
      "--------------------------------------------------\n",
      "accuracy: 0.8333333333333334,\n",
      "precision: 0.9411764705882353,\n",
      "recall: 0.8,\n",
      "f2_score: 0.8247422680412373,\n",
      "auc_pr_curve: 0.9623453601501624,\n",
      "auc_roc_curve: 0.92\n",
      "--------------------------------------------------\n",
      "\n",
      "61. iteration: \n",
      "Chosen sample was of an index: 126\n",
      "Chosen sample was of a class: 126   -1\n",
      "Name: target, dtype: int64\n",
      "\n",
      "--------------------------------------------------\n",
      "accuracy: 0.8333333333333334,\n",
      "precision: 0.9411764705882353,\n",
      "recall: 0.8,\n",
      "f2_score: 0.8247422680412373,\n",
      "auc_pr_curve: 0.9623453601501624,\n",
      "auc_roc_curve: 0.92\n",
      "--------------------------------------------------\n",
      "\n",
      "62. iteration: \n",
      "Chosen sample was of an index: 143\n",
      "Chosen sample was of a class: 143   -1\n",
      "Name: target, dtype: int64\n",
      "\n",
      "--------------------------------------------------\n",
      "accuracy: 0.8333333333333334,\n",
      "precision: 0.9411764705882353,\n",
      "recall: 0.8,\n",
      "f2_score: 0.8247422680412373,\n",
      "auc_pr_curve: 0.9623453601501624,\n",
      "auc_roc_curve: 0.92\n",
      "--------------------------------------------------\n",
      "\n",
      "63. iteration: \n",
      "Chosen sample was of an index: 61\n",
      "Chosen sample was of a class: 61    1\n",
      "Name: target, dtype: int64\n",
      "\n",
      "--------------------------------------------------\n",
      "accuracy: 0.8333333333333334,\n",
      "precision: 0.9411764705882353,\n",
      "recall: 0.8,\n",
      "f2_score: 0.8247422680412373,\n",
      "auc_pr_curve: 0.9623453601501624,\n",
      "auc_roc_curve: 0.92\n",
      "--------------------------------------------------\n",
      "\n",
      "64. iteration: \n",
      "Chosen sample was of an index: 20\n",
      "Chosen sample was of a class: 20    1\n",
      "Name: target, dtype: int64\n",
      "\n",
      "--------------------------------------------------\n",
      "accuracy: 0.8333333333333334,\n",
      "precision: 0.9411764705882353,\n",
      "recall: 0.8,\n",
      "f2_score: 0.8247422680412373,\n",
      "auc_pr_curve: 0.9623453601501624,\n",
      "auc_roc_curve: 0.92\n",
      "--------------------------------------------------\n",
      "\n",
      "65. iteration: \n",
      "Chosen sample was of an index: 110\n",
      "Chosen sample was of a class: 110   -1\n",
      "Name: target, dtype: int64\n",
      "\n",
      "--------------------------------------------------\n",
      "accuracy: 0.8333333333333334,\n",
      "precision: 0.9411764705882353,\n",
      "recall: 0.8,\n",
      "f2_score: 0.8247422680412373,\n",
      "auc_pr_curve: 0.9623453601501624,\n",
      "auc_roc_curve: 0.92\n",
      "--------------------------------------------------\n",
      "\n",
      "66. iteration: \n",
      "Chosen sample was of an index: 131\n",
      "Chosen sample was of a class: 131   -1\n",
      "Name: target, dtype: int64\n",
      "\n",
      "--------------------------------------------------\n",
      "accuracy: 0.8333333333333334,\n",
      "precision: 0.9411764705882353,\n",
      "recall: 0.8,\n",
      "f2_score: 0.8247422680412373,\n",
      "auc_pr_curve: 0.9601555105261022,\n",
      "auc_roc_curve: 0.915\n",
      "--------------------------------------------------\n",
      "\n",
      "67. iteration: \n",
      "Chosen sample was of an index: 73\n",
      "Chosen sample was of a class: 73    1\n",
      "Name: target, dtype: int64\n",
      "\n",
      "--------------------------------------------------\n",
      "accuracy: 0.8333333333333334,\n",
      "precision: 0.9411764705882353,\n",
      "recall: 0.8,\n",
      "f2_score: 0.8247422680412373,\n",
      "auc_pr_curve: 0.9601555105261022,\n",
      "auc_roc_curve: 0.915\n",
      "--------------------------------------------------\n",
      "\n",
      "68. iteration: \n",
      "Chosen sample was of an index: 148\n",
      "Chosen sample was of a class: 148   -1\n",
      "Name: target, dtype: int64\n",
      "\n",
      "--------------------------------------------------\n",
      "accuracy: 0.8333333333333334,\n",
      "precision: 0.9411764705882353,\n",
      "recall: 0.8,\n",
      "f2_score: 0.8247422680412373,\n",
      "auc_pr_curve: 0.9601555105261022,\n",
      "auc_roc_curve: 0.915\n",
      "--------------------------------------------------\n",
      "\n",
      "69. iteration: \n",
      "Chosen sample was of an index: 104\n",
      "Chosen sample was of a class: 104   -1\n",
      "Name: target, dtype: int64\n",
      "\n",
      "--------------------------------------------------\n",
      "accuracy: 0.8,\n",
      "precision: 0.8888888888888888,\n",
      "recall: 0.8,\n",
      "f2_score: 0.816326530612245,\n",
      "auc_pr_curve: 0.9601555105261022,\n",
      "auc_roc_curve: 0.915\n",
      "--------------------------------------------------\n",
      "\n",
      "70. iteration: \n",
      "Chosen sample was of an index: 17\n",
      "Chosen sample was of a class: 17    1\n",
      "Name: target, dtype: int64\n",
      "\n",
      "--------------------------------------------------\n",
      "accuracy: 0.8333333333333334,\n",
      "precision: 0.9411764705882353,\n",
      "recall: 0.8,\n",
      "f2_score: 0.8247422680412373,\n",
      "auc_pr_curve: 0.9601555105261022,\n",
      "auc_roc_curve: 0.915\n",
      "--------------------------------------------------\n",
      "\n",
      "71. iteration: \n",
      "Chosen sample was of an index: 11\n",
      "Chosen sample was of a class: 11    1\n",
      "Name: target, dtype: int64\n",
      "\n",
      "--------------------------------------------------\n",
      "accuracy: 0.8333333333333334,\n",
      "precision: 0.9411764705882353,\n",
      "recall: 0.8,\n",
      "f2_score: 0.8247422680412373,\n",
      "auc_pr_curve: 0.9601555105261022,\n",
      "auc_roc_curve: 0.915\n",
      "--------------------------------------------------\n",
      "\n",
      "72. iteration: \n",
      "Chosen sample was of an index: 32\n",
      "Chosen sample was of a class: 32    1\n",
      "Name: target, dtype: int64\n",
      "\n",
      "--------------------------------------------------\n",
      "accuracy: 0.8333333333333334,\n",
      "precision: 0.9411764705882353,\n",
      "recall: 0.8,\n",
      "f2_score: 0.8247422680412373,\n",
      "auc_pr_curve: 0.9601555105261022,\n",
      "auc_roc_curve: 0.915\n",
      "--------------------------------------------------\n",
      "\n",
      "73. iteration: \n",
      "Chosen sample was of an index: 127\n",
      "Chosen sample was of a class: 127   -1\n",
      "Name: target, dtype: int64\n",
      "\n",
      "--------------------------------------------------\n",
      "accuracy: 0.8333333333333334,\n",
      "precision: 0.9411764705882353,\n",
      "recall: 0.8,\n",
      "f2_score: 0.8247422680412373,\n",
      "auc_pr_curve: 0.9601555105261022,\n",
      "auc_roc_curve: 0.915\n",
      "--------------------------------------------------\n",
      "\n",
      "74. iteration: \n",
      "Chosen sample was of an index: 76\n",
      "Chosen sample was of a class: 76    1\n",
      "Name: target, dtype: int64\n",
      "\n",
      "--------------------------------------------------\n",
      "accuracy: 0.8333333333333334,\n",
      "precision: 0.9411764705882353,\n",
      "recall: 0.8,\n",
      "f2_score: 0.8247422680412373,\n",
      "auc_pr_curve: 0.9619053458357201,\n",
      "auc_roc_curve: 0.9199999999999999\n",
      "--------------------------------------------------\n",
      "\n",
      "75. iteration: \n",
      "Chosen sample was of an index: 147\n",
      "Chosen sample was of a class: 147   -1\n",
      "Name: target, dtype: int64\n",
      "\n",
      "--------------------------------------------------\n",
      "accuracy: 0.8333333333333334,\n",
      "precision: 0.9411764705882353,\n",
      "recall: 0.8,\n",
      "f2_score: 0.8247422680412373,\n",
      "auc_pr_curve: 0.9619053458357201,\n",
      "auc_roc_curve: 0.9199999999999999\n",
      "--------------------------------------------------\n",
      "\n",
      "76. iteration: \n",
      "Chosen sample was of an index: 5\n",
      "Chosen sample was of a class: 5    1\n",
      "Name: target, dtype: int64\n",
      "\n",
      "--------------------------------------------------\n",
      "accuracy: 0.8333333333333334,\n",
      "precision: 0.9411764705882353,\n",
      "recall: 0.8,\n",
      "f2_score: 0.8247422680412373,\n",
      "auc_pr_curve: 0.9619053458357201,\n",
      "auc_roc_curve: 0.9199999999999999\n",
      "--------------------------------------------------\n",
      "\n",
      "77. iteration: \n",
      "Chosen sample was of an index: 130\n",
      "Chosen sample was of a class: 130   -1\n",
      "Name: target, dtype: int64\n",
      "\n",
      "--------------------------------------------------\n",
      "accuracy: 0.8333333333333334,\n",
      "precision: 0.9411764705882353,\n",
      "recall: 0.8,\n",
      "f2_score: 0.8247422680412373,\n",
      "auc_pr_curve: 0.9619053458357201,\n",
      "auc_roc_curve: 0.9199999999999999\n",
      "--------------------------------------------------\n",
      "\n",
      "78. iteration: \n",
      "Chosen sample was of an index: 139\n",
      "Chosen sample was of a class: 139   -1\n",
      "Name: target, dtype: int64\n",
      "\n",
      "--------------------------------------------------\n",
      "accuracy: 0.8333333333333334,\n",
      "precision: 0.9411764705882353,\n",
      "recall: 0.8,\n",
      "f2_score: 0.8247422680412373,\n",
      "auc_pr_curve: 0.9619053458357201,\n",
      "auc_roc_curve: 0.9199999999999999\n",
      "--------------------------------------------------\n",
      "\n",
      "79. iteration: \n",
      "Chosen sample was of an index: 99\n",
      "Chosen sample was of a class: 99    1\n",
      "Name: target, dtype: int64\n",
      "\n",
      "--------------------------------------------------\n",
      "accuracy: 0.8333333333333334,\n",
      "precision: 0.9411764705882353,\n",
      "recall: 0.8,\n",
      "f2_score: 0.8247422680412373,\n",
      "auc_pr_curve: 0.9619053458357201,\n",
      "auc_roc_curve: 0.9199999999999999\n",
      "--------------------------------------------------\n",
      "\n",
      "80. iteration: \n",
      "Chosen sample was of an index: 121\n",
      "Chosen sample was of a class: 121   -1\n",
      "Name: target, dtype: int64\n",
      "\n",
      "--------------------------------------------------\n",
      "accuracy: 0.8333333333333334,\n",
      "precision: 0.9411764705882353,\n",
      "recall: 0.8,\n",
      "f2_score: 0.8247422680412373,\n",
      "auc_pr_curve: 0.9619053458357201,\n",
      "auc_roc_curve: 0.9199999999999999\n",
      "--------------------------------------------------\n",
      "\n",
      "81. iteration: \n",
      "Chosen sample was of an index: 42\n",
      "Chosen sample was of a class: 42    1\n",
      "Name: target, dtype: int64\n",
      "\n",
      "--------------------------------------------------\n",
      "accuracy: 0.8333333333333334,\n",
      "precision: 0.9411764705882353,\n",
      "recall: 0.8,\n",
      "f2_score: 0.8247422680412373,\n",
      "auc_pr_curve: 0.9619053458357201,\n",
      "auc_roc_curve: 0.9199999999999999\n",
      "--------------------------------------------------\n",
      "\n",
      "82. iteration: \n",
      "Chosen sample was of an index: 13\n",
      "Chosen sample was of a class: 13    1\n",
      "Name: target, dtype: int64\n",
      "\n",
      "--------------------------------------------------\n",
      "accuracy: 0.8333333333333334,\n",
      "precision: 0.9411764705882353,\n",
      "recall: 0.8,\n",
      "f2_score: 0.8247422680412373,\n",
      "auc_pr_curve: 0.9619053458357201,\n",
      "auc_roc_curve: 0.9199999999999999\n",
      "--------------------------------------------------\n",
      "\n",
      "83. iteration: \n",
      "Chosen sample was of an index: 100\n",
      "Chosen sample was of a class: 100   -1\n",
      "Name: target, dtype: int64\n",
      "\n",
      "--------------------------------------------------\n",
      "accuracy: 0.8333333333333334,\n",
      "precision: 0.9411764705882353,\n",
      "recall: 0.8,\n",
      "f2_score: 0.8247422680412373,\n",
      "auc_pr_curve: 0.9619053458357201,\n",
      "auc_roc_curve: 0.9199999999999999\n",
      "--------------------------------------------------\n",
      "\n",
      "84. iteration: \n",
      "Chosen sample was of an index: 39\n",
      "Chosen sample was of a class: 39    1\n",
      "Name: target, dtype: int64\n",
      "\n",
      "--------------------------------------------------\n",
      "accuracy: 0.8333333333333334,\n",
      "precision: 0.9411764705882353,\n",
      "recall: 0.8,\n",
      "f2_score: 0.8247422680412373,\n",
      "auc_pr_curve: 0.9619053458357201,\n",
      "auc_roc_curve: 0.9199999999999999\n",
      "--------------------------------------------------\n",
      "\n",
      "85. iteration: \n",
      "Chosen sample was of an index: 24\n",
      "Chosen sample was of a class: 24    1\n",
      "Name: target, dtype: int64\n",
      "\n",
      "--------------------------------------------------\n",
      "accuracy: 0.8333333333333334,\n",
      "precision: 0.9411764705882353,\n",
      "recall: 0.8,\n",
      "f2_score: 0.8247422680412373,\n",
      "auc_pr_curve: 0.9619053458357201,\n",
      "auc_roc_curve: 0.9199999999999999\n",
      "--------------------------------------------------\n",
      "\n",
      "86. iteration: \n",
      "Chosen sample was of an index: 19\n",
      "Chosen sample was of a class: 19    1\n",
      "Name: target, dtype: int64\n",
      "\n",
      "--------------------------------------------------\n",
      "accuracy: 0.8333333333333334,\n",
      "precision: 0.9411764705882353,\n",
      "recall: 0.8,\n",
      "f2_score: 0.8247422680412373,\n",
      "auc_pr_curve: 0.9619053458357201,\n",
      "auc_roc_curve: 0.9199999999999999\n",
      "--------------------------------------------------\n",
      "\n",
      "87. iteration: \n",
      "Chosen sample was of an index: 31\n",
      "Chosen sample was of a class: 31    1\n",
      "Name: target, dtype: int64\n",
      "\n",
      "--------------------------------------------------\n",
      "accuracy: 0.8333333333333334,\n",
      "precision: 0.9411764705882353,\n",
      "recall: 0.8,\n",
      "f2_score: 0.8247422680412373,\n",
      "auc_pr_curve: 0.9619053458357201,\n",
      "auc_roc_curve: 0.9199999999999999\n",
      "--------------------------------------------------\n",
      "\n",
      "88. iteration: \n",
      "Chosen sample was of an index: 3\n",
      "Chosen sample was of a class: 3    1\n",
      "Name: target, dtype: int64\n",
      "\n",
      "--------------------------------------------------\n",
      "accuracy: 0.8333333333333334,\n",
      "precision: 0.9411764705882353,\n",
      "recall: 0.8,\n",
      "f2_score: 0.8247422680412373,\n",
      "auc_pr_curve: 0.9619053458357201,\n",
      "auc_roc_curve: 0.9199999999999999\n",
      "--------------------------------------------------\n",
      "\n",
      "89. iteration: \n",
      "Chosen sample was of an index: 29\n",
      "Chosen sample was of a class: 29    1\n",
      "Name: target, dtype: int64\n",
      "\n",
      "--------------------------------------------------\n",
      "accuracy: 0.8333333333333334,\n",
      "precision: 0.9411764705882353,\n",
      "recall: 0.8,\n",
      "f2_score: 0.8247422680412373,\n",
      "auc_pr_curve: 0.9619053458357201,\n",
      "auc_roc_curve: 0.9199999999999999\n",
      "--------------------------------------------------\n",
      "\n",
      "90. iteration: \n",
      "Chosen sample was of an index: 47\n",
      "Chosen sample was of a class: 47    1\n",
      "Name: target, dtype: int64\n",
      "\n",
      "--------------------------------------------------\n",
      "accuracy: 0.8333333333333334,\n",
      "precision: 0.9411764705882353,\n",
      "recall: 0.8,\n",
      "f2_score: 0.8247422680412373,\n",
      "auc_pr_curve: 0.9619053458357201,\n",
      "auc_roc_curve: 0.9199999999999999\n",
      "--------------------------------------------------\n",
      "\n",
      "91. iteration: \n",
      "Chosen sample was of an index: 67\n",
      "Chosen sample was of a class: 67    1\n",
      "Name: target, dtype: int64\n",
      "\n",
      "--------------------------------------------------\n",
      "accuracy: 0.8333333333333334,\n",
      "precision: 0.9411764705882353,\n",
      "recall: 0.8,\n",
      "f2_score: 0.8247422680412373,\n",
      "auc_pr_curve: 0.9619053458357201,\n",
      "auc_roc_curve: 0.9199999999999999\n",
      "--------------------------------------------------\n",
      "\n",
      "92. iteration: \n",
      "Chosen sample was of an index: 34\n",
      "Chosen sample was of a class: 34    1\n",
      "Name: target, dtype: int64\n",
      "\n",
      "--------------------------------------------------\n",
      "accuracy: 0.8333333333333334,\n",
      "precision: 0.9411764705882353,\n",
      "recall: 0.8,\n",
      "f2_score: 0.8247422680412373,\n",
      "auc_pr_curve: 0.9619053458357201,\n",
      "auc_roc_curve: 0.9199999999999999\n",
      "--------------------------------------------------\n",
      "\n",
      "93. iteration: \n",
      "Chosen sample was of an index: 135\n",
      "Chosen sample was of a class: 135   -1\n",
      "Name: target, dtype: int64\n",
      "\n",
      "--------------------------------------------------\n",
      "accuracy: 0.8333333333333334,\n",
      "precision: 0.9411764705882353,\n",
      "recall: 0.8,\n",
      "f2_score: 0.8247422680412373,\n",
      "auc_pr_curve: 0.9619053458357201,\n",
      "auc_roc_curve: 0.9199999999999999\n",
      "--------------------------------------------------\n",
      "\n",
      "94. iteration: \n",
      "Chosen sample was of an index: 146\n",
      "Chosen sample was of a class: 146   -1\n",
      "Name: target, dtype: int64\n",
      "\n",
      "--------------------------------------------------\n",
      "accuracy: 0.8333333333333334,\n",
      "precision: 0.9411764705882353,\n",
      "recall: 0.8,\n",
      "f2_score: 0.8247422680412373,\n",
      "auc_pr_curve: 0.9619053458357201,\n",
      "auc_roc_curve: 0.9199999999999999\n",
      "--------------------------------------------------\n",
      "\n",
      "95. iteration: \n",
      "Chosen sample was of an index: 89\n",
      "Chosen sample was of a class: 89    1\n",
      "Name: target, dtype: int64\n",
      "\n",
      "--------------------------------------------------\n",
      "accuracy: 0.8333333333333334,\n",
      "precision: 0.9411764705882353,\n",
      "recall: 0.8,\n",
      "f2_score: 0.8247422680412373,\n",
      "auc_pr_curve: 0.9619053458357201,\n",
      "auc_roc_curve: 0.9199999999999999\n",
      "--------------------------------------------------\n",
      "\n",
      "96. iteration: \n",
      "Chosen sample was of an index: 60\n",
      "Chosen sample was of a class: 60    1\n",
      "Name: target, dtype: int64\n",
      "\n",
      "--------------------------------------------------\n",
      "accuracy: 0.8333333333333334,\n",
      "precision: 0.9411764705882353,\n",
      "recall: 0.8,\n",
      "f2_score: 0.8247422680412373,\n",
      "auc_pr_curve: 0.9619053458357201,\n",
      "auc_roc_curve: 0.9199999999999999\n",
      "--------------------------------------------------\n",
      "\n",
      "97. iteration: \n",
      "Chosen sample was of an index: 120\n",
      "Chosen sample was of a class: 120   -1\n",
      "Name: target, dtype: int64\n",
      "\n",
      "--------------------------------------------------\n",
      "accuracy: 0.8333333333333334,\n",
      "precision: 0.9411764705882353,\n",
      "recall: 0.8,\n",
      "f2_score: 0.8247422680412373,\n",
      "auc_pr_curve: 0.9619053458357201,\n",
      "auc_roc_curve: 0.9199999999999999\n",
      "--------------------------------------------------\n",
      "\n",
      "98. iteration: \n",
      "Chosen sample was of an index: 64\n",
      "Chosen sample was of a class: 64    1\n",
      "Name: target, dtype: int64\n",
      "\n",
      "--------------------------------------------------\n",
      "accuracy: 0.8333333333333334,\n",
      "precision: 0.9411764705882353,\n",
      "recall: 0.8,\n",
      "f2_score: 0.8247422680412373,\n",
      "auc_pr_curve: 0.9619053458357201,\n",
      "auc_roc_curve: 0.9199999999999999\n",
      "--------------------------------------------------\n",
      "\n",
      "99. iteration: \n",
      "Chosen sample was of an index: 0\n",
      "Chosen sample was of a class: 0    1\n",
      "Name: target, dtype: int64\n",
      "\n",
      "--------------------------------------------------\n",
      "accuracy: 0.8333333333333334,\n",
      "precision: 0.9411764705882353,\n",
      "recall: 0.8,\n",
      "f2_score: 0.8247422680412373,\n",
      "auc_pr_curve: 0.9619053458357201,\n",
      "auc_roc_curve: 0.9199999999999999\n",
      "--------------------------------------------------\n",
      "\n",
      "100. iteration: \n",
      "Chosen sample was of an index: 50\n",
      "Chosen sample was of a class: 50    1\n",
      "Name: target, dtype: int64\n",
      "\n",
      "--------------------------------------------------\n",
      "accuracy: 0.8333333333333334,\n",
      "precision: 0.9411764705882353,\n",
      "recall: 0.8,\n",
      "f2_score: 0.8247422680412373,\n",
      "auc_pr_curve: 0.9619053458357201,\n",
      "auc_roc_curve: 0.9199999999999999\n",
      "--------------------------------------------------\n",
      "\n",
      "101. iteration: \n",
      "Chosen sample was of an index: 90\n",
      "Chosen sample was of a class: 90    1\n",
      "Name: target, dtype: int64\n",
      "\n",
      "--------------------------------------------------\n",
      "accuracy: 0.8333333333333334,\n",
      "precision: 0.9411764705882353,\n",
      "recall: 0.8,\n",
      "f2_score: 0.8247422680412373,\n",
      "auc_pr_curve: 0.9619053458357201,\n",
      "auc_roc_curve: 0.9199999999999999\n",
      "--------------------------------------------------\n",
      "\n",
      "102. iteration: \n",
      "Chosen sample was of an index: 37\n",
      "Chosen sample was of a class: 37    1\n",
      "Name: target, dtype: int64\n",
      "\n",
      "--------------------------------------------------\n",
      "accuracy: 0.8333333333333334,\n",
      "precision: 0.9411764705882353,\n",
      "recall: 0.8,\n",
      "f2_score: 0.8247422680412373,\n",
      "auc_pr_curve: 0.9619053458357201,\n",
      "auc_roc_curve: 0.9199999999999999\n",
      "--------------------------------------------------\n",
      "\n",
      "103. iteration: \n",
      "Chosen sample was of an index: 74\n",
      "Chosen sample was of a class: 74    1\n",
      "Name: target, dtype: int64\n",
      "\n",
      "--------------------------------------------------\n",
      "accuracy: 0.8333333333333334,\n",
      "precision: 0.9411764705882353,\n",
      "recall: 0.8,\n",
      "f2_score: 0.8247422680412373,\n",
      "auc_pr_curve: 0.9619053458357201,\n",
      "auc_roc_curve: 0.9199999999999999\n",
      "--------------------------------------------------\n",
      "\n",
      "104. iteration: \n",
      "Chosen sample was of an index: 109\n",
      "Chosen sample was of a class: 109   -1\n",
      "Name: target, dtype: int64\n",
      "\n",
      "--------------------------------------------------\n",
      "accuracy: 0.8333333333333334,\n",
      "precision: 0.9411764705882353,\n",
      "recall: 0.8,\n",
      "f2_score: 0.8247422680412373,\n",
      "auc_pr_curve: 0.9619053458357201,\n",
      "auc_roc_curve: 0.9199999999999999\n",
      "--------------------------------------------------\n",
      "\n",
      "105. iteration: \n",
      "Chosen sample was of an index: 35\n",
      "Chosen sample was of a class: 35    1\n",
      "Name: target, dtype: int64\n",
      "\n",
      "--------------------------------------------------\n",
      "accuracy: 0.8333333333333334,\n",
      "precision: 0.9411764705882353,\n",
      "recall: 0.8,\n",
      "f2_score: 0.8247422680412373,\n",
      "auc_pr_curve: 0.9619053458357201,\n",
      "auc_roc_curve: 0.9199999999999999\n",
      "--------------------------------------------------\n",
      "\n",
      "106. iteration: \n",
      "Chosen sample was of an index: 10\n",
      "Chosen sample was of a class: 10    1\n",
      "Name: target, dtype: int64\n",
      "\n",
      "--------------------------------------------------\n",
      "accuracy: 0.8333333333333334,\n",
      "precision: 0.9411764705882353,\n",
      "recall: 0.8,\n",
      "f2_score: 0.8247422680412373,\n",
      "auc_pr_curve: 0.9619053458357201,\n",
      "auc_roc_curve: 0.9199999999999999\n",
      "--------------------------------------------------\n",
      "\n",
      "107. iteration: \n",
      "Chosen sample was of an index: 113\n",
      "Chosen sample was of a class: 113   -1\n",
      "Name: target, dtype: int64\n",
      "\n",
      "--------------------------------------------------\n",
      "accuracy: 0.8333333333333334,\n",
      "precision: 0.9411764705882353,\n",
      "recall: 0.8,\n",
      "f2_score: 0.8247422680412373,\n",
      "auc_pr_curve: 0.9651345125023867,\n",
      "auc_roc_curve: 0.925\n",
      "--------------------------------------------------\n",
      "\n",
      "108. iteration: \n",
      "Chosen sample was of an index: 82\n",
      "Chosen sample was of a class: 82    1\n",
      "Name: target, dtype: int64\n",
      "\n",
      "--------------------------------------------------\n",
      "accuracy: 0.8333333333333334,\n",
      "precision: 0.9411764705882353,\n",
      "recall: 0.8,\n",
      "f2_score: 0.8247422680412373,\n",
      "auc_pr_curve: 0.9651345125023867,\n",
      "auc_roc_curve: 0.925\n",
      "--------------------------------------------------\n"
     ]
    }
   ],
   "source": [
    "##############################\n",
    "# Pool based random sampling #\n",
    "##############################\n",
    "import warnings, copy\n",
    "from modAL.random_sampling import random_sampling\n",
    "from modAL.uncertainty import classifier_entropy\n",
    "from modAL.utils.data import data_vstack\n",
    "\n",
    "warnings.simplefilter(action='ignore', category=FutureWarning)\n",
    "\n",
    "learner_al = ActiveLearner(estimator=Clf(), X_training=X_train_init, y_training=y_train_init, query_strategy=random_sampling)\n",
    "X_pool_al, y_pool_al = copy.deepcopy(X_pool), copy.deepcopy(y_pool)\n",
    "\n",
    "from config import StoppingCriterion, BatchMode\n",
    "stopping_criterion  = StoppingCriterion.FRACTION_OF_TRAIN_QUERIES\n",
    "batch_mode = BatchMode.FIXED_BATCH_SIZE\n",
    "n_queries, batch_size = perpare_queries_and_batch_size(stopping_criterion, batch_mode, len(y_pool_al), len(learner_al.y_training))\n",
    "\n",
    "rs_performance_history = [unqueried_score[\"metrics\"]]\n",
    "initial_confidence = np.mean(classifier_entropy(learner_al, X_test))\n",
    "rs_entropy_confidence_history = [initial_confidence]\n",
    "\n",
    "for index in range(n_queries):\n",
    "    query_index, query_instance = learner_al.query(X_pool_al.to_numpy(), n_instances=batch_size)\n",
    "\n",
    "    if VERBOSE:\n",
    "        # To track which samples are choosen. It is usefull, when comparing different algorithms.\n",
    "        global_query_index = X_pool_al.iloc[query_index].index\n",
    "\n",
    "        print(f\"\\n{index+1}. iteration: \\nChosen sample was of an index: {global_query_index[-1]}\\nChosen sample was of a class: {y_pool_al.iloc[query_index]}\\n\")\n",
    "\n",
    "    # Teach our ActiveLearner model the record it has requested.\n",
    "    X, y = X_pool_al.iloc[query_index], y_pool_al.iloc[query_index]\n",
    "    if WEIGHTED_TRAINING:\n",
    "        new_y = data_vstack((learner_al.y_training, y))\n",
    "        sample_weight = compute_sample_weight(class_weight=CLASS_WEIGHT, y=new_y)\n",
    "    else:\n",
    "        sample_weight = None\n",
    "    learner_al.teach(X=X.to_numpy(), y=y.to_numpy(), sample_weight=sample_weight) # implicitly it gets fit_kwargs -> sample_weight\n",
    "    # learner_al.teach(X=X, y=y, sample_weight=sample_weight, bootstrap=True, stratify=True) # for Query-By-Bagging\n",
    "\n",
    "\n",
    "    # Remove the queried instance from the unlabeled pool.\n",
    "    X_pool_al, y_pool_al = X_pool_al.drop(global_query_index), y_pool_al.drop(global_query_index)\n",
    "\n",
    "    # Calculate and report our model's accuracy.\n",
    "    y_pred = learner_al.predict(X_test)\n",
    "    y_proba = learner_al.predict_proba(X_test)\n",
    "    print(50*'-')\n",
    "    model_evaluation = method_eval(y_test=y_test, y_pred=y_pred, y_proba=y_proba, verbose=VERBOSE)\n",
    "    print(50*'-')\n",
    "\n",
    "    # Save our model's performance for plotting.\n",
    "    rs_performance_history.append(model_evaluation[\"metrics\"])\n",
    "\n",
    "    "
   ]
  },
  {
   "cell_type": "code",
   "execution_count": 25,
   "metadata": {},
   "outputs": [
    {
     "data": {
      "image/png": "[encoded data removed]",
      "text/plain": [
       "<Figure size 1000x700 with 6 Axes>"
      ]
     },
     "metadata": {},
     "output_type": "display_data"
    }
   ],
   "source": [
    "import matplotlib.pyplot as plt\n",
    "\n",
    "# Plotting metrics\n",
    "fig, axs = plt.subplots(2, 3, figsize=(10, 7), sharex=True, sharey=True)\n",
    "\n",
    "if len(full_model_score) == 2:\n",
    "    full_model_score = list(full_model_score[\"metrics\"].values())\n",
    "rs_metrics = list(zip(*[x.values() for x in rs_performance_history]))\n",
    "\n",
    "n = len(rs_performance_history)\n",
    "\n",
    "# major_xticks = np.round(np.linspace(0, n, 10)).astype(int)\n",
    "# minor_xticks = np.round(np.linspace(0, n, 20)).astype(int)\n",
    "\n",
    "# major_xticks = np.arange(0, n +10, 10)\n",
    "# minor_xticks = np.arange(0, n +1, 1)\n",
    "\n",
    "# major_yticks = np.arange(0.5, 1 +0.1, 0.1)\n",
    "# minor_yticks = np.arange(0.5, 1 +0.05, 0.05)\n",
    "\n",
    "for i, metric_name in enumerate(rs_performance_history[0].keys()):\n",
    "    ax = axs[int(i/3), int(i%3)]\n",
    "    ax.plot(range(len(rs_metrics[i])), rs_metrics[i])\n",
    "    # ax.set_xticks(major_xticks)\n",
    "    # ax.set_xticks(minor_xticks, minor=True)\n",
    "    # ax.set_xticklabels(labels=major_xticks, rotation=90, ha='right')\n",
    "    # ax.set_yticks(major_yticks)\n",
    "    # ax.set_yticks(minor_yticks, minor=True)\n",
    "    ax.minorticks_on()\n",
    "    ax.grid(which='minor', alpha=0.2)\n",
    "    ax.grid(which='major', alpha=0.5)\n",
    "    handle = ax.plot(range(len(rs_metrics[i])), np.ones(len(rs_metrics[i]))*full_model_score[i], \"r\")\n",
    "    ax.set_title(metric_name)\n",
    "\n",
    "# TODO: point, for fraction of training dataset, which is efficient to obtain good model. 0,4?\n",
    "# Check it for different datasets and with cross validation\n",
    "\n",
    "fig.suptitle(\"Pool based learning metrics\", fontsize=16)\n",
    "fig.supxlabel(\"Number of queries\")\n",
    "fig.supylabel(\"Metric value\")\n",
    "fig.legend(handle, [\"Model trained on whole dataset\"], loc='lower right')\n",
    "fig.tight_layout()"
   ]
  },
  {
   "cell_type": "code",
   "execution_count": 26,
   "metadata": {},
   "outputs": [
    {
     "name": "stdout",
     "output_type": "stream",
     "text": [
      "\n",
      "1. iteration: \n",
      "Chosen sample was of an index: 132\n",
      "Chosen sample was of a class: 132   -1\n",
      "Name: target, dtype: int64\n",
      "\n",
      "--------------------------------------------------\n",
      "accuracy: 0.7666666666666667,\n",
      "precision: 0.7407407407407407,\n",
      "recall: 1.0,\n",
      "f2_score: 0.9345794392523363,\n",
      "auc_pr_curve: 0.9100685669542514,\n",
      "auc_roc_curve: 0.8300000000000001\n",
      "--------------------------------------------------\n",
      "\n",
      "2. iteration: \n",
      "Chosen sample was of an index: 104\n",
      "Chosen sample was of a class: 104   -1\n",
      "Name: target, dtype: int64\n",
      "\n",
      "--------------------------------------------------\n",
      "accuracy: 0.7333333333333333,\n",
      "precision: 0.7307692307692307,\n",
      "recall: 0.95,\n",
      "f2_score: 0.8962264150943396,\n",
      "auc_pr_curve: 0.9055907056342849,\n",
      "auc_roc_curve: 0.8200000000000001\n",
      "--------------------------------------------------\n",
      "\n",
      "3. iteration: \n",
      "Chosen sample was of an index: 76\n",
      "Chosen sample was of a class: 76    1\n",
      "Name: target, dtype: int64\n",
      "\n",
      "--------------------------------------------------\n",
      "accuracy: 0.7666666666666667,\n",
      "precision: 0.7407407407407407,\n",
      "recall: 1.0,\n",
      "f2_score: 0.9345794392523363,\n",
      "auc_pr_curve: 0.9055907056342849,\n",
      "auc_roc_curve: 0.8200000000000001\n",
      "--------------------------------------------------\n",
      "\n",
      "4. iteration: \n",
      "Chosen sample was of an index: 57\n",
      "Chosen sample was of a class: 57    1\n",
      "Name: target, dtype: int64\n",
      "\n",
      "--------------------------------------------------\n",
      "accuracy: 0.7666666666666667,\n",
      "precision: 0.7407407407407407,\n",
      "recall: 1.0,\n",
      "f2_score: 0.9345794392523363,\n",
      "auc_pr_curve: 0.9055907056342849,\n",
      "auc_roc_curve: 0.8200000000000001\n",
      "--------------------------------------------------\n",
      "\n",
      "5. iteration: \n",
      "Chosen sample was of an index: 137\n",
      "Chosen sample was of a class: 137   -1\n",
      "Name: target, dtype: int64\n",
      "\n",
      "--------------------------------------------------\n",
      "accuracy: 0.7666666666666667,\n",
      "precision: 0.7407407407407407,\n",
      "recall: 1.0,\n",
      "f2_score: 0.9345794392523363,\n",
      "auc_pr_curve: 0.9055907056342849,\n",
      "auc_roc_curve: 0.8200000000000001\n",
      "--------------------------------------------------\n",
      "\n",
      "6. iteration: \n",
      "Chosen sample was of an index: 93\n",
      "Chosen sample was of a class: 93    1\n",
      "Name: target, dtype: int64\n",
      "\n",
      "--------------------------------------------------\n",
      "accuracy: 0.7666666666666667,\n",
      "precision: 0.7407407407407407,\n",
      "recall: 1.0,\n",
      "f2_score: 0.9345794392523363,\n",
      "auc_pr_curve: 0.9055907056342849,\n",
      "auc_roc_curve: 0.8200000000000001\n",
      "--------------------------------------------------\n",
      "\n",
      "7. iteration: \n",
      "Chosen sample was of an index: 62\n",
      "Chosen sample was of a class: 62    1\n",
      "Name: target, dtype: int64\n",
      "\n",
      "--------------------------------------------------\n",
      "accuracy: 0.7666666666666667,\n",
      "precision: 0.7407407407407407,\n",
      "recall: 1.0,\n",
      "f2_score: 0.9345794392523363,\n",
      "auc_pr_curve: 0.9055907056342849,\n",
      "auc_roc_curve: 0.8200000000000001\n",
      "--------------------------------------------------\n",
      "\n",
      "8. iteration: \n",
      "Chosen sample was of an index: 67\n",
      "Chosen sample was of a class: 67    1\n",
      "Name: target, dtype: int64\n",
      "\n",
      "--------------------------------------------------\n",
      "accuracy: 0.7666666666666667,\n",
      "precision: 0.7407407407407407,\n",
      "recall: 1.0,\n",
      "f2_score: 0.9345794392523363,\n",
      "auc_pr_curve: 0.9055907056342849,\n",
      "auc_roc_curve: 0.8200000000000001\n",
      "--------------------------------------------------\n",
      "\n",
      "9. iteration: \n",
      "Chosen sample was of an index: 73\n",
      "Chosen sample was of a class: 73    1\n",
      "Name: target, dtype: int64\n",
      "\n",
      "--------------------------------------------------\n",
      "accuracy: 0.7666666666666667,\n",
      "precision: 0.7407407407407407,\n",
      "recall: 1.0,\n",
      "f2_score: 0.9345794392523363,\n",
      "auc_pr_curve: 0.9055907056342849,\n",
      "auc_roc_curve: 0.8200000000000001\n",
      "--------------------------------------------------\n",
      "\n",
      "10. iteration: \n",
      "Chosen sample was of an index: 60\n",
      "Chosen sample was of a class: 60    1\n",
      "Name: target, dtype: int64\n",
      "\n",
      "--------------------------------------------------\n",
      "accuracy: 0.7666666666666667,\n",
      "precision: 0.7407407407407407,\n",
      "recall: 1.0,\n",
      "f2_score: 0.9345794392523363,\n",
      "auc_pr_curve: 0.9055907056342849,\n",
      "auc_roc_curve: 0.8200000000000001\n",
      "--------------------------------------------------\n",
      "\n",
      "11. iteration: \n",
      "Chosen sample was of an index: 87\n",
      "Chosen sample was of a class: 87    1\n",
      "Name: target, dtype: int64\n",
      "\n",
      "--------------------------------------------------\n",
      "accuracy: 0.7666666666666667,\n",
      "precision: 0.7407407407407407,\n",
      "recall: 1.0,\n",
      "f2_score: 0.9345794392523363,\n",
      "auc_pr_curve: 0.9055907056342849,\n",
      "auc_roc_curve: 0.8200000000000001\n",
      "--------------------------------------------------\n",
      "\n",
      "12. iteration: \n",
      "Chosen sample was of an index: 79\n",
      "Chosen sample was of a class: 79    1\n",
      "Name: target, dtype: int64\n",
      "\n",
      "--------------------------------------------------\n",
      "accuracy: 0.7666666666666667,\n",
      "precision: 0.7407407407407407,\n",
      "recall: 1.0,\n",
      "f2_score: 0.9345794392523363,\n",
      "auc_pr_curve: 0.9055907056342849,\n",
      "auc_roc_curve: 0.8200000000000001\n",
      "--------------------------------------------------\n",
      "\n",
      "13. iteration: \n",
      "Chosen sample was of an index: 74\n",
      "Chosen sample was of a class: 74    1\n",
      "Name: target, dtype: int64\n",
      "\n",
      "--------------------------------------------------\n",
      "accuracy: 0.7666666666666667,\n",
      "precision: 0.7407407407407407,\n",
      "recall: 1.0,\n",
      "f2_score: 0.9345794392523363,\n",
      "auc_pr_curve: 0.9055907056342849,\n",
      "auc_roc_curve: 0.8200000000000001\n",
      "--------------------------------------------------\n",
      "\n",
      "14. iteration: \n",
      "Chosen sample was of an index: 98\n",
      "Chosen sample was of a class: 98    1\n",
      "Name: target, dtype: int64\n",
      "\n",
      "--------------------------------------------------\n",
      "accuracy: 0.7666666666666667,\n",
      "precision: 0.7407407407407407,\n",
      "recall: 1.0,\n",
      "f2_score: 0.9345794392523363,\n",
      "auc_pr_curve: 0.9055907056342849,\n",
      "auc_roc_curve: 0.8200000000000001\n",
      "--------------------------------------------------\n",
      "\n",
      "15. iteration: \n",
      "Chosen sample was of an index: 41\n",
      "Chosen sample was of a class: 41    1\n",
      "Name: target, dtype: int64\n",
      "\n",
      "--------------------------------------------------\n",
      "accuracy: 0.7666666666666667,\n",
      "precision: 0.7407407407407407,\n",
      "recall: 1.0,\n",
      "f2_score: 0.9345794392523363,\n",
      "auc_pr_curve: 0.9055907056342849,\n",
      "auc_roc_curve: 0.8200000000000001\n",
      "--------------------------------------------------\n",
      "\n",
      "16. iteration: \n",
      "Chosen sample was of an index: 95\n",
      "Chosen sample was of a class: 95    1\n",
      "Name: target, dtype: int64\n",
      "\n",
      "--------------------------------------------------\n",
      "accuracy: 0.7666666666666667,\n",
      "precision: 0.7407407407407407,\n",
      "recall: 1.0,\n",
      "f2_score: 0.9345794392523363,\n",
      "auc_pr_curve: 0.9055907056342849,\n",
      "auc_roc_curve: 0.8200000000000001\n",
      "--------------------------------------------------\n",
      "\n",
      "17. iteration: \n",
      "Chosen sample was of an index: 21\n",
      "Chosen sample was of a class: 21    1\n",
      "Name: target, dtype: int64\n",
      "\n",
      "--------------------------------------------------\n",
      "accuracy: 0.7666666666666667,\n",
      "precision: 0.7407407407407407,\n",
      "recall: 1.0,\n",
      "f2_score: 0.9345794392523363,\n",
      "auc_pr_curve: 0.9055907056342849,\n",
      "auc_roc_curve: 0.8200000000000001\n",
      "--------------------------------------------------\n",
      "\n",
      "18. iteration: \n",
      "Chosen sample was of an index: 97\n",
      "Chosen sample was of a class: 97    1\n",
      "Name: target, dtype: int64\n",
      "\n",
      "--------------------------------------------------\n",
      "accuracy: 0.7666666666666667,\n",
      "precision: 0.7407407407407407,\n",
      "recall: 1.0,\n",
      "f2_score: 0.9345794392523363,\n",
      "auc_pr_curve: 0.9055907056342849,\n",
      "auc_roc_curve: 0.8200000000000001\n",
      "--------------------------------------------------\n",
      "\n",
      "19. iteration: \n",
      "Chosen sample was of an index: 81\n",
      "Chosen sample was of a class: 81    1\n",
      "Name: target, dtype: int64\n",
      "\n",
      "--------------------------------------------------\n",
      "accuracy: 0.7666666666666667,\n",
      "precision: 0.7407407407407407,\n",
      "recall: 1.0,\n",
      "f2_score: 0.9345794392523363,\n",
      "auc_pr_curve: 0.9055907056342849,\n",
      "auc_roc_curve: 0.8200000000000001\n",
      "--------------------------------------------------\n",
      "\n",
      "20. iteration: \n",
      "Chosen sample was of an index: 82\n",
      "Chosen sample was of a class: 82    1\n",
      "Name: target, dtype: int64\n",
      "\n",
      "--------------------------------------------------\n",
      "accuracy: 0.7666666666666667,\n",
      "precision: 0.7407407407407407,\n",
      "recall: 1.0,\n",
      "f2_score: 0.9345794392523363,\n",
      "auc_pr_curve: 0.9055907056342849,\n",
      "auc_roc_curve: 0.8200000000000001\n",
      "--------------------------------------------------\n",
      "\n",
      "21. iteration: \n",
      "Chosen sample was of an index: 38\n",
      "Chosen sample was of a class: 38    1\n",
      "Name: target, dtype: int64\n",
      "\n",
      "--------------------------------------------------\n",
      "accuracy: 0.7666666666666667,\n",
      "precision: 0.7407407407407407,\n",
      "recall: 1.0,\n",
      "f2_score: 0.9345794392523363,\n",
      "auc_pr_curve: 0.9055907056342849,\n",
      "auc_roc_curve: 0.8200000000000001\n",
      "--------------------------------------------------\n",
      "\n",
      "22. iteration: \n",
      "Chosen sample was of an index: 69\n",
      "Chosen sample was of a class: 69    1\n",
      "Name: target, dtype: int64\n",
      "\n",
      "--------------------------------------------------\n",
      "accuracy: 0.7666666666666667,\n",
      "precision: 0.7407407407407407,\n",
      "recall: 1.0,\n",
      "f2_score: 0.9345794392523363,\n",
      "auc_pr_curve: 0.9055907056342849,\n",
      "auc_roc_curve: 0.8200000000000001\n",
      "--------------------------------------------------\n",
      "\n",
      "23. iteration: \n",
      "Chosen sample was of an index: 8\n",
      "Chosen sample was of a class: 8    1\n",
      "Name: target, dtype: int64\n",
      "\n",
      "--------------------------------------------------\n",
      "accuracy: 0.7666666666666667,\n",
      "precision: 0.7407407407407407,\n",
      "recall: 1.0,\n",
      "f2_score: 0.9345794392523363,\n",
      "auc_pr_curve: 0.9055907056342849,\n",
      "auc_roc_curve: 0.8200000000000001\n",
      "--------------------------------------------------\n",
      "\n",
      "24. iteration: \n",
      "Chosen sample was of an index: 90\n",
      "Chosen sample was of a class: 90    1\n",
      "Name: target, dtype: int64\n",
      "\n",
      "--------------------------------------------------\n",
      "accuracy: 0.7666666666666667,\n",
      "precision: 0.7407407407407407,\n",
      "recall: 1.0,\n",
      "f2_score: 0.9345794392523363,\n",
      "auc_pr_curve: 0.9055907056342849,\n",
      "auc_roc_curve: 0.8200000000000001\n",
      "--------------------------------------------------\n",
      "\n",
      "25. iteration: \n",
      "Chosen sample was of an index: 42\n",
      "Chosen sample was of a class: 42    1\n",
      "Name: target, dtype: int64\n",
      "\n",
      "--------------------------------------------------\n",
      "accuracy: 0.7666666666666667,\n",
      "precision: 0.7407407407407407,\n",
      "recall: 1.0,\n",
      "f2_score: 0.9345794392523363,\n",
      "auc_pr_curve: 0.9055907056342849,\n",
      "auc_roc_curve: 0.8200000000000001\n",
      "--------------------------------------------------\n",
      "\n",
      "26. iteration: \n",
      "Chosen sample was of an index: 31\n",
      "Chosen sample was of a class: 31    1\n",
      "Name: target, dtype: int64\n",
      "\n",
      "--------------------------------------------------\n",
      "accuracy: 0.7666666666666667,\n",
      "precision: 0.7407407407407407,\n",
      "recall: 1.0,\n",
      "f2_score: 0.9345794392523363,\n",
      "auc_pr_curve: 0.9055907056342849,\n",
      "auc_roc_curve: 0.8200000000000001\n",
      "--------------------------------------------------\n",
      "\n",
      "27. iteration: \n",
      "Chosen sample was of an index: 13\n",
      "Chosen sample was of a class: 13    1\n",
      "Name: target, dtype: int64\n",
      "\n",
      "--------------------------------------------------\n",
      "accuracy: 0.7666666666666667,\n",
      "precision: 0.7407407407407407,\n",
      "recall: 1.0,\n",
      "f2_score: 0.9345794392523363,\n",
      "auc_pr_curve: 0.9055907056342849,\n",
      "auc_roc_curve: 0.8200000000000001\n",
      "--------------------------------------------------\n",
      "\n",
      "28. iteration: \n",
      "Chosen sample was of an index: 99\n",
      "Chosen sample was of a class: 99    1\n",
      "Name: target, dtype: int64\n",
      "\n",
      "--------------------------------------------------\n",
      "accuracy: 0.7666666666666667,\n",
      "precision: 0.7407407407407407,\n",
      "recall: 1.0,\n",
      "f2_score: 0.9345794392523363,\n",
      "auc_pr_curve: 0.9055907056342849,\n",
      "auc_roc_curve: 0.8200000000000001\n",
      "--------------------------------------------------\n",
      "\n",
      "29. iteration: \n",
      "Chosen sample was of an index: 3\n",
      "Chosen sample was of a class: 3    1\n",
      "Name: target, dtype: int64\n",
      "\n",
      "--------------------------------------------------\n",
      "accuracy: 0.7666666666666667,\n",
      "precision: 0.7407407407407407,\n",
      "recall: 1.0,\n",
      "f2_score: 0.9345794392523363,\n",
      "auc_pr_curve: 0.9055907056342849,\n",
      "auc_roc_curve: 0.8200000000000001\n",
      "--------------------------------------------------\n",
      "\n",
      "30. iteration: \n",
      "Chosen sample was of an index: 47\n",
      "Chosen sample was of a class: 47    1\n",
      "Name: target, dtype: int64\n",
      "\n",
      "--------------------------------------------------\n",
      "accuracy: 0.7666666666666667,\n",
      "precision: 0.7407407407407407,\n",
      "recall: 1.0,\n",
      "f2_score: 0.9345794392523363,\n",
      "auc_pr_curve: 0.9055907056342849,\n",
      "auc_roc_curve: 0.8200000000000001\n",
      "--------------------------------------------------\n",
      "\n",
      "31. iteration: \n",
      "Chosen sample was of an index: 96\n",
      "Chosen sample was of a class: 96    1\n",
      "Name: target, dtype: int64\n",
      "\n",
      "--------------------------------------------------\n",
      "accuracy: 0.7666666666666667,\n",
      "precision: 0.7407407407407407,\n",
      "recall: 1.0,\n",
      "f2_score: 0.9345794392523363,\n",
      "auc_pr_curve: 0.9055907056342849,\n",
      "auc_roc_curve: 0.8200000000000001\n",
      "--------------------------------------------------\n",
      "\n",
      "32. iteration: \n",
      "Chosen sample was of an index: 29\n",
      "Chosen sample was of a class: 29    1\n",
      "Name: target, dtype: int64\n",
      "\n",
      "--------------------------------------------------\n",
      "accuracy: 0.7666666666666667,\n",
      "precision: 0.7407407407407407,\n",
      "recall: 1.0,\n",
      "f2_score: 0.9345794392523363,\n",
      "auc_pr_curve: 0.9055907056342849,\n",
      "auc_roc_curve: 0.8200000000000001\n",
      "--------------------------------------------------\n",
      "\n",
      "33. iteration: \n",
      "Chosen sample was of an index: 94\n",
      "Chosen sample was of a class: 94    1\n",
      "Name: target, dtype: int64\n",
      "\n",
      "--------------------------------------------------\n",
      "accuracy: 0.7666666666666667,\n",
      "precision: 0.7407407407407407,\n",
      "recall: 1.0,\n",
      "f2_score: 0.9345794392523363,\n",
      "auc_pr_curve: 0.9055907056342849,\n",
      "auc_roc_curve: 0.8200000000000001\n",
      "--------------------------------------------------\n",
      "\n",
      "34. iteration: \n",
      "Chosen sample was of an index: 34\n",
      "Chosen sample was of a class: 34    1\n",
      "Name: target, dtype: int64\n",
      "\n",
      "--------------------------------------------------\n",
      "accuracy: 0.7666666666666667,\n",
      "precision: 0.7407407407407407,\n",
      "recall: 1.0,\n",
      "f2_score: 0.9345794392523363,\n",
      "auc_pr_curve: 0.9055907056342849,\n",
      "auc_roc_curve: 0.8200000000000001\n",
      "--------------------------------------------------\n",
      "\n",
      "35. iteration: \n",
      "Chosen sample was of an index: 65\n",
      "Chosen sample was of a class: 65    1\n",
      "Name: target, dtype: int64\n",
      "\n",
      "--------------------------------------------------\n",
      "accuracy: 0.7666666666666667,\n",
      "precision: 0.7407407407407407,\n",
      "recall: 1.0,\n",
      "f2_score: 0.9345794392523363,\n",
      "auc_pr_curve: 0.9055907056342849,\n",
      "auc_roc_curve: 0.8200000000000001\n",
      "--------------------------------------------------\n",
      "\n",
      "36. iteration: \n",
      "Chosen sample was of an index: 44\n",
      "Chosen sample was of a class: 44    1\n",
      "Name: target, dtype: int64\n",
      "\n",
      "--------------------------------------------------\n",
      "accuracy: 0.7666666666666667,\n",
      "precision: 0.7407407407407407,\n",
      "recall: 1.0,\n",
      "f2_score: 0.9345794392523363,\n",
      "auc_pr_curve: 0.9055907056342849,\n",
      "auc_roc_curve: 0.8200000000000001\n",
      "--------------------------------------------------\n",
      "\n",
      "37. iteration: \n",
      "Chosen sample was of an index: 17\n",
      "Chosen sample was of a class: 17    1\n",
      "Name: target, dtype: int64\n",
      "\n",
      "--------------------------------------------------\n",
      "accuracy: 0.7666666666666667,\n",
      "precision: 0.7407407407407407,\n",
      "recall: 1.0,\n",
      "f2_score: 0.9345794392523363,\n",
      "auc_pr_curve: 0.9055907056342849,\n",
      "auc_roc_curve: 0.8200000000000001\n",
      "--------------------------------------------------\n",
      "\n",
      "38. iteration: \n",
      "Chosen sample was of an index: 35\n",
      "Chosen sample was of a class: 35    1\n",
      "Name: target, dtype: int64\n",
      "\n",
      "--------------------------------------------------\n",
      "accuracy: 0.7666666666666667,\n",
      "precision: 0.7407407407407407,\n",
      "recall: 1.0,\n",
      "f2_score: 0.9345794392523363,\n",
      "auc_pr_curve: 0.9055907056342849,\n",
      "auc_roc_curve: 0.8200000000000001\n",
      "--------------------------------------------------\n",
      "\n",
      "39. iteration: \n",
      "Chosen sample was of an index: 53\n",
      "Chosen sample was of a class: 53    1\n",
      "Name: target, dtype: int64\n",
      "\n",
      "--------------------------------------------------\n",
      "accuracy: 0.7666666666666667,\n",
      "precision: 0.7407407407407407,\n",
      "recall: 1.0,\n",
      "f2_score: 0.9345794392523363,\n",
      "auc_pr_curve: 0.9055907056342849,\n",
      "auc_roc_curve: 0.8200000000000001\n",
      "--------------------------------------------------\n",
      "\n",
      "40. iteration: \n",
      "Chosen sample was of an index: 11\n",
      "Chosen sample was of a class: 11    1\n",
      "Name: target, dtype: int64\n",
      "\n",
      "--------------------------------------------------\n",
      "accuracy: 0.7666666666666667,\n",
      "precision: 0.7407407407407407,\n",
      "recall: 1.0,\n",
      "f2_score: 0.9345794392523363,\n",
      "auc_pr_curve: 0.9055907056342849,\n",
      "auc_roc_curve: 0.8200000000000001\n",
      "--------------------------------------------------\n",
      "\n",
      "41. iteration: \n",
      "Chosen sample was of an index: 89\n",
      "Chosen sample was of a class: 89    1\n",
      "Name: target, dtype: int64\n",
      "\n",
      "--------------------------------------------------\n",
      "accuracy: 0.7666666666666667,\n",
      "precision: 0.7407407407407407,\n",
      "recall: 1.0,\n",
      "f2_score: 0.9345794392523363,\n",
      "auc_pr_curve: 0.9055907056342849,\n",
      "auc_roc_curve: 0.8200000000000001\n",
      "--------------------------------------------------\n",
      "\n",
      "42. iteration: \n",
      "Chosen sample was of an index: 24\n",
      "Chosen sample was of a class: 24    1\n",
      "Name: target, dtype: int64\n",
      "\n",
      "--------------------------------------------------\n",
      "accuracy: 0.7666666666666667,\n",
      "precision: 0.7407407407407407,\n",
      "recall: 1.0,\n",
      "f2_score: 0.9345794392523363,\n",
      "auc_pr_curve: 0.9055907056342849,\n",
      "auc_roc_curve: 0.8200000000000001\n",
      "--------------------------------------------------\n",
      "\n",
      "43. iteration: \n",
      "Chosen sample was of an index: 50\n",
      "Chosen sample was of a class: 50    1\n",
      "Name: target, dtype: int64\n",
      "\n",
      "--------------------------------------------------\n",
      "accuracy: 0.7666666666666667,\n",
      "precision: 0.7407407407407407,\n",
      "recall: 1.0,\n",
      "f2_score: 0.9345794392523363,\n",
      "auc_pr_curve: 0.9055907056342849,\n",
      "auc_roc_curve: 0.8200000000000001\n",
      "--------------------------------------------------\n",
      "\n",
      "44. iteration: \n",
      "Chosen sample was of an index: 5\n",
      "Chosen sample was of a class: 5    1\n",
      "Name: target, dtype: int64\n",
      "\n",
      "--------------------------------------------------\n",
      "accuracy: 0.7666666666666667,\n",
      "precision: 0.7407407407407407,\n",
      "recall: 1.0,\n",
      "f2_score: 0.9345794392523363,\n",
      "auc_pr_curve: 0.9055907056342849,\n",
      "auc_roc_curve: 0.8200000000000001\n",
      "--------------------------------------------------\n",
      "\n",
      "45. iteration: \n",
      "Chosen sample was of an index: 16\n",
      "Chosen sample was of a class: 16    1\n",
      "Name: target, dtype: int64\n",
      "\n",
      "--------------------------------------------------\n",
      "accuracy: 0.7666666666666667,\n",
      "precision: 0.7407407407407407,\n",
      "recall: 1.0,\n",
      "f2_score: 0.9345794392523363,\n",
      "auc_pr_curve: 0.9055907056342849,\n",
      "auc_roc_curve: 0.8200000000000001\n",
      "--------------------------------------------------\n",
      "\n",
      "46. iteration: \n",
      "Chosen sample was of an index: 19\n",
      "Chosen sample was of a class: 19    1\n",
      "Name: target, dtype: int64\n",
      "\n",
      "--------------------------------------------------\n",
      "accuracy: 0.7666666666666667,\n",
      "precision: 0.7407407407407407,\n",
      "recall: 1.0,\n",
      "f2_score: 0.9345794392523363,\n",
      "auc_pr_curve: 0.9055907056342849,\n",
      "auc_roc_curve: 0.8200000000000001\n",
      "--------------------------------------------------\n",
      "\n",
      "47. iteration: \n",
      "Chosen sample was of an index: 49\n",
      "Chosen sample was of a class: 49    1\n",
      "Name: target, dtype: int64\n",
      "\n",
      "--------------------------------------------------\n",
      "accuracy: 0.7666666666666667,\n",
      "precision: 0.7407407407407407,\n",
      "recall: 1.0,\n",
      "f2_score: 0.9345794392523363,\n",
      "auc_pr_curve: 0.9055907056342849,\n",
      "auc_roc_curve: 0.8200000000000001\n",
      "--------------------------------------------------\n",
      "\n",
      "48. iteration: \n",
      "Chosen sample was of an index: 88\n",
      "Chosen sample was of a class: 88    1\n",
      "Name: target, dtype: int64\n",
      "\n",
      "--------------------------------------------------\n",
      "accuracy: 0.7666666666666667,\n",
      "precision: 0.7407407407407407,\n",
      "recall: 1.0,\n",
      "f2_score: 0.9345794392523363,\n",
      "auc_pr_curve: 0.9055907056342849,\n",
      "auc_roc_curve: 0.8200000000000001\n",
      "--------------------------------------------------\n",
      "\n",
      "49. iteration: \n",
      "Chosen sample was of an index: 12\n",
      "Chosen sample was of a class: 12    1\n",
      "Name: target, dtype: int64\n",
      "\n",
      "--------------------------------------------------\n",
      "accuracy: 0.7666666666666667,\n",
      "precision: 0.7407407407407407,\n",
      "recall: 1.0,\n",
      "f2_score: 0.9345794392523363,\n",
      "auc_pr_curve: 0.9055907056342849,\n",
      "auc_roc_curve: 0.8200000000000001\n",
      "--------------------------------------------------\n",
      "\n",
      "50. iteration: \n",
      "Chosen sample was of an index: 64\n",
      "Chosen sample was of a class: 64    1\n",
      "Name: target, dtype: int64\n",
      "\n",
      "--------------------------------------------------\n",
      "accuracy: 0.7666666666666667,\n",
      "precision: 0.7407407407407407,\n",
      "recall: 1.0,\n",
      "f2_score: 0.9345794392523363,\n",
      "auc_pr_curve: 0.9055907056342849,\n",
      "auc_roc_curve: 0.8200000000000001\n",
      "--------------------------------------------------\n",
      "\n",
      "51. iteration: \n",
      "Chosen sample was of an index: 36\n",
      "Chosen sample was of a class: 36    1\n",
      "Name: target, dtype: int64\n",
      "\n",
      "--------------------------------------------------\n",
      "accuracy: 0.7666666666666667,\n",
      "precision: 0.7407407407407407,\n",
      "recall: 1.0,\n",
      "f2_score: 0.9345794392523363,\n",
      "auc_pr_curve: 0.9055907056342849,\n",
      "auc_roc_curve: 0.8200000000000001\n",
      "--------------------------------------------------\n",
      "\n",
      "52. iteration: \n",
      "Chosen sample was of an index: 91\n",
      "Chosen sample was of a class: 91    1\n",
      "Name: target, dtype: int64\n",
      "\n",
      "--------------------------------------------------\n",
      "accuracy: 0.7666666666666667,\n",
      "precision: 0.7407407407407407,\n",
      "recall: 1.0,\n",
      "f2_score: 0.9345794392523363,\n",
      "auc_pr_curve: 0.9055907056342849,\n",
      "auc_roc_curve: 0.8200000000000001\n",
      "--------------------------------------------------\n",
      "\n",
      "53. iteration: \n",
      "Chosen sample was of an index: 7\n",
      "Chosen sample was of a class: 7    1\n",
      "Name: target, dtype: int64\n",
      "\n",
      "--------------------------------------------------\n",
      "accuracy: 0.7666666666666667,\n",
      "precision: 0.7407407407407407,\n",
      "recall: 1.0,\n",
      "f2_score: 0.9345794392523363,\n",
      "auc_pr_curve: 0.9055907056342849,\n",
      "auc_roc_curve: 0.8200000000000001\n",
      "--------------------------------------------------\n",
      "\n",
      "54. iteration: \n",
      "Chosen sample was of an index: 39\n",
      "Chosen sample was of a class: 39    1\n",
      "Name: target, dtype: int64\n",
      "\n",
      "--------------------------------------------------\n",
      "accuracy: 0.7666666666666667,\n",
      "precision: 0.7407407407407407,\n",
      "recall: 1.0,\n",
      "f2_score: 0.9345794392523363,\n",
      "auc_pr_curve: 0.9055907056342849,\n",
      "auc_roc_curve: 0.8200000000000001\n",
      "--------------------------------------------------\n",
      "\n",
      "55. iteration: \n",
      "Chosen sample was of an index: 20\n",
      "Chosen sample was of a class: 20    1\n",
      "Name: target, dtype: int64\n",
      "\n",
      "--------------------------------------------------\n",
      "accuracy: 0.7666666666666667,\n",
      "precision: 0.7407407407407407,\n",
      "recall: 1.0,\n",
      "f2_score: 0.9345794392523363,\n",
      "auc_pr_curve: 0.9055907056342849,\n",
      "auc_roc_curve: 0.8200000000000001\n",
      "--------------------------------------------------\n",
      "\n",
      "56. iteration: \n",
      "Chosen sample was of an index: 86\n",
      "Chosen sample was of a class: 86    1\n",
      "Name: target, dtype: int64\n",
      "\n",
      "--------------------------------------------------\n",
      "accuracy: 0.7666666666666667,\n",
      "precision: 0.7407407407407407,\n",
      "recall: 1.0,\n",
      "f2_score: 0.9345794392523363,\n",
      "auc_pr_curve: 0.9055907056342849,\n",
      "auc_roc_curve: 0.8200000000000001\n",
      "--------------------------------------------------\n",
      "\n",
      "57. iteration: \n",
      "Chosen sample was of an index: 4\n",
      "Chosen sample was of a class: 4    1\n",
      "Name: target, dtype: int64\n",
      "\n",
      "--------------------------------------------------\n",
      "accuracy: 0.7666666666666667,\n",
      "precision: 0.7407407407407407,\n",
      "recall: 1.0,\n",
      "f2_score: 0.9345794392523363,\n",
      "auc_pr_curve: 0.9055907056342849,\n",
      "auc_roc_curve: 0.8200000000000001\n",
      "--------------------------------------------------\n",
      "\n",
      "58. iteration: \n",
      "Chosen sample was of an index: 28\n",
      "Chosen sample was of a class: 28    1\n",
      "Name: target, dtype: int64\n",
      "\n",
      "--------------------------------------------------\n",
      "accuracy: 0.7666666666666667,\n",
      "precision: 0.7407407407407407,\n",
      "recall: 1.0,\n",
      "f2_score: 0.9345794392523363,\n",
      "auc_pr_curve: 0.9055907056342849,\n",
      "auc_roc_curve: 0.8200000000000001\n",
      "--------------------------------------------------\n",
      "\n",
      "59. iteration: \n",
      "Chosen sample was of an index: 0\n",
      "Chosen sample was of a class: 0    1\n",
      "Name: target, dtype: int64\n",
      "\n",
      "--------------------------------------------------\n",
      "accuracy: 0.7666666666666667,\n",
      "precision: 0.7407407407407407,\n",
      "recall: 1.0,\n",
      "f2_score: 0.9345794392523363,\n",
      "auc_pr_curve: 0.9055907056342849,\n",
      "auc_roc_curve: 0.8200000000000001\n",
      "--------------------------------------------------\n",
      "\n",
      "60. iteration: \n",
      "Chosen sample was of an index: 9\n",
      "Chosen sample was of a class: 9    1\n",
      "Name: target, dtype: int64\n",
      "\n",
      "--------------------------------------------------\n",
      "accuracy: 0.7666666666666667,\n",
      "precision: 0.7407407407407407,\n",
      "recall: 1.0,\n",
      "f2_score: 0.9345794392523363,\n",
      "auc_pr_curve: 0.9055907056342849,\n",
      "auc_roc_curve: 0.8200000000000001\n",
      "--------------------------------------------------\n",
      "\n",
      "61. iteration: \n",
      "Chosen sample was of an index: 51\n",
      "Chosen sample was of a class: 51    1\n",
      "Name: target, dtype: int64\n",
      "\n",
      "--------------------------------------------------\n",
      "accuracy: 0.7666666666666667,\n",
      "precision: 0.7407407407407407,\n",
      "recall: 1.0,\n",
      "f2_score: 0.9345794392523363,\n",
      "auc_pr_curve: 0.9055907056342849,\n",
      "auc_roc_curve: 0.8200000000000001\n",
      "--------------------------------------------------\n",
      "\n",
      "62. iteration: \n",
      "Chosen sample was of an index: 10\n",
      "Chosen sample was of a class: 10    1\n",
      "Name: target, dtype: int64\n",
      "\n",
      "--------------------------------------------------\n",
      "accuracy: 0.7666666666666667,\n",
      "precision: 0.7407407407407407,\n",
      "recall: 1.0,\n",
      "f2_score: 0.9345794392523363,\n",
      "auc_pr_curve: 0.9055907056342849,\n",
      "auc_roc_curve: 0.8200000000000001\n",
      "--------------------------------------------------\n",
      "\n",
      "63. iteration: \n",
      "Chosen sample was of an index: 48\n",
      "Chosen sample was of a class: 48    1\n",
      "Name: target, dtype: int64\n",
      "\n",
      "--------------------------------------------------\n",
      "accuracy: 0.7666666666666667,\n",
      "precision: 0.7407407407407407,\n",
      "recall: 1.0,\n",
      "f2_score: 0.9345794392523363,\n",
      "auc_pr_curve: 0.9055907056342849,\n",
      "auc_roc_curve: 0.8200000000000001\n",
      "--------------------------------------------------\n",
      "\n",
      "64. iteration: \n",
      "Chosen sample was of an index: 46\n",
      "Chosen sample was of a class: 46    1\n",
      "Name: target, dtype: int64\n",
      "\n",
      "--------------------------------------------------\n",
      "accuracy: 0.7666666666666667,\n",
      "precision: 0.7407407407407407,\n",
      "recall: 1.0,\n",
      "f2_score: 0.9345794392523363,\n",
      "auc_pr_curve: 0.9055907056342849,\n",
      "auc_roc_curve: 0.8200000000000001\n",
      "--------------------------------------------------\n",
      "\n",
      "65. iteration: \n",
      "Chosen sample was of an index: 37\n",
      "Chosen sample was of a class: 37    1\n",
      "Name: target, dtype: int64\n",
      "\n",
      "--------------------------------------------------\n",
      "accuracy: 0.7666666666666667,\n",
      "precision: 0.7407407407407407,\n",
      "recall: 1.0,\n",
      "f2_score: 0.9345794392523363,\n",
      "auc_pr_curve: 0.9055907056342849,\n",
      "auc_roc_curve: 0.8200000000000001\n",
      "--------------------------------------------------\n",
      "\n",
      "66. iteration: \n",
      "Chosen sample was of an index: 78\n",
      "Chosen sample was of a class: 78    1\n",
      "Name: target, dtype: int64\n",
      "\n",
      "--------------------------------------------------\n",
      "accuracy: 0.7666666666666667,\n",
      "precision: 0.7407407407407407,\n",
      "recall: 1.0,\n",
      "f2_score: 0.9345794392523363,\n",
      "auc_pr_curve: 0.9055907056342849,\n",
      "auc_roc_curve: 0.8200000000000001\n",
      "--------------------------------------------------\n",
      "\n",
      "67. iteration: \n",
      "Chosen sample was of an index: 33\n",
      "Chosen sample was of a class: 33    1\n",
      "Name: target, dtype: int64\n",
      "\n",
      "--------------------------------------------------\n",
      "accuracy: 0.7666666666666667,\n",
      "precision: 0.7407407407407407,\n",
      "recall: 1.0,\n",
      "f2_score: 0.9345794392523363,\n",
      "auc_pr_curve: 0.9055907056342849,\n",
      "auc_roc_curve: 0.8200000000000001\n",
      "--------------------------------------------------\n",
      "\n",
      "68. iteration: \n",
      "Chosen sample was of an index: 136\n",
      "Chosen sample was of a class: 136   -1\n",
      "Name: target, dtype: int64\n",
      "\n",
      "--------------------------------------------------\n",
      "accuracy: 0.7666666666666667,\n",
      "precision: 0.7407407407407407,\n",
      "recall: 1.0,\n",
      "f2_score: 0.9345794392523363,\n",
      "auc_pr_curve: 0.9100685669542514,\n",
      "auc_roc_curve: 0.8300000000000001\n",
      "--------------------------------------------------\n",
      "\n",
      "69. iteration: \n",
      "Chosen sample was of an index: 129\n",
      "Chosen sample was of a class: 129   -1\n",
      "Name: target, dtype: int64\n",
      "\n",
      "--------------------------------------------------\n",
      "accuracy: 0.8,\n",
      "precision: 0.7692307692307693,\n",
      "recall: 1.0,\n",
      "f2_score: 0.9433962264150945,\n",
      "auc_pr_curve: 0.9608877490534173,\n",
      "auc_roc_curve: 0.915\n",
      "--------------------------------------------------\n",
      "\n",
      "70. iteration: \n",
      "Chosen sample was of an index: 120\n",
      "Chosen sample was of a class: 120   -1\n",
      "Name: target, dtype: int64\n",
      "\n",
      "--------------------------------------------------\n",
      "accuracy: 0.7666666666666667,\n",
      "precision: 0.7407407407407407,\n",
      "recall: 1.0,\n",
      "f2_score: 0.9345794392523363,\n",
      "auc_pr_curve: 0.9635736150664893,\n",
      "auc_roc_curve: 0.92\n",
      "--------------------------------------------------\n",
      "\n",
      "71. iteration: \n",
      "Chosen sample was of an index: 124\n",
      "Chosen sample was of a class: 124   -1\n",
      "Name: target, dtype: int64\n",
      "\n",
      "--------------------------------------------------\n",
      "accuracy: 0.7666666666666667,\n",
      "precision: 0.7407407407407407,\n",
      "recall: 1.0,\n",
      "f2_score: 0.9345794392523363,\n",
      "auc_pr_curve: 0.9635736150664893,\n",
      "auc_roc_curve: 0.92\n",
      "--------------------------------------------------\n",
      "\n",
      "72. iteration: \n",
      "Chosen sample was of an index: 143\n",
      "Chosen sample was of a class: 143   -1\n",
      "Name: target, dtype: int64\n",
      "\n",
      "--------------------------------------------------\n",
      "accuracy: 0.7666666666666667,\n",
      "precision: 0.7407407407407407,\n",
      "recall: 1.0,\n",
      "f2_score: 0.9345794392523363,\n",
      "auc_pr_curve: 0.9659637276501087,\n",
      "auc_roc_curve: 0.9199999999999999\n",
      "--------------------------------------------------\n",
      "\n",
      "73. iteration: \n",
      "Chosen sample was of an index: 140\n",
      "Chosen sample was of a class: 140   -1\n",
      "Name: target, dtype: int64\n",
      "\n",
      "--------------------------------------------------\n",
      "accuracy: 0.7666666666666667,\n",
      "precision: 0.7407407407407407,\n",
      "recall: 1.0,\n",
      "f2_score: 0.9345794392523363,\n",
      "auc_pr_curve: 0.9629306394148146,\n",
      "auc_roc_curve: 0.915\n",
      "--------------------------------------------------\n",
      "\n",
      "74. iteration: \n",
      "Chosen sample was of an index: 125\n",
      "Chosen sample was of a class: 125   -1\n",
      "Name: target, dtype: int64\n",
      "\n",
      "--------------------------------------------------\n",
      "accuracy: 0.7666666666666667,\n",
      "precision: 0.7407407407407407,\n",
      "recall: 1.0,\n",
      "f2_score: 0.9345794392523363,\n",
      "auc_pr_curve: 0.968153577274169,\n",
      "auc_roc_curve: 0.925\n",
      "--------------------------------------------------\n",
      "\n",
      "75. iteration: \n",
      "Chosen sample was of an index: 149\n",
      "Chosen sample was of a class: 149   -1\n",
      "Name: target, dtype: int64\n",
      "\n",
      "--------------------------------------------------\n",
      "accuracy: 0.7333333333333333,\n",
      "precision: 0.7307692307692307,\n",
      "recall: 0.95,\n",
      "f2_score: 0.8962264150943396,\n",
      "auc_pr_curve: 0.9588036690834678,\n",
      "auc_roc_curve: 0.9049999999999999\n",
      "--------------------------------------------------\n",
      "\n",
      "76. iteration: \n",
      "Chosen sample was of an index: 83\n",
      "Chosen sample was of a class: 83    1\n",
      "Name: target, dtype: int64\n",
      "\n",
      "--------------------------------------------------\n",
      "accuracy: 0.7333333333333333,\n",
      "precision: 0.7307692307692307,\n",
      "recall: 0.95,\n",
      "f2_score: 0.8962264150943396,\n",
      "auc_pr_curve: 0.9588036690834678,\n",
      "auc_roc_curve: 0.9049999999999999\n",
      "--------------------------------------------------\n",
      "\n",
      "77. iteration: \n",
      "Chosen sample was of an index: 101\n",
      "Chosen sample was of a class: 101   -1\n",
      "Name: target, dtype: int64\n",
      "\n",
      "--------------------------------------------------\n",
      "accuracy: 0.8,\n",
      "precision: 0.8181818181818182,\n",
      "recall: 0.9,\n",
      "f2_score: 0.8823529411764706,\n",
      "auc_pr_curve: 0.9620328357501345,\n",
      "auc_roc_curve: 0.9099999999999999\n",
      "--------------------------------------------------\n",
      "\n",
      "78. iteration: \n",
      "Chosen sample was of an index: 126\n",
      "Chosen sample was of a class: 126   -1\n",
      "Name: target, dtype: int64\n",
      "\n",
      "--------------------------------------------------\n",
      "accuracy: 0.8,\n",
      "precision: 0.85,\n",
      "recall: 0.85,\n",
      "f2_score: 0.85,\n",
      "auc_pr_curve: 0.9580945886901769,\n",
      "auc_roc_curve: 0.905\n",
      "--------------------------------------------------\n",
      "\n",
      "79. iteration: \n",
      "Chosen sample was of an index: 105\n",
      "Chosen sample was of a class: 105   -1\n",
      "Name: target, dtype: int64\n",
      "\n",
      "--------------------------------------------------\n",
      "accuracy: 0.8333333333333334,\n",
      "precision: 0.8947368421052632,\n",
      "recall: 0.85,\n",
      "f2_score: 0.8585858585858586,\n",
      "auc_pr_curve: 0.9633343423152281,\n",
      "auc_roc_curve: 0.92\n",
      "--------------------------------------------------\n",
      "\n",
      "80. iteration: \n",
      "Chosen sample was of an index: 113\n",
      "Chosen sample was of a class: 113   -1\n",
      "Name: target, dtype: int64\n",
      "\n",
      "--------------------------------------------------\n",
      "accuracy: 0.8666666666666667,\n",
      "precision: 0.9444444444444444,\n",
      "recall: 0.85,\n",
      "f2_score: 0.8673469387755104,\n",
      "auc_pr_curve: 0.965084177624846,\n",
      "auc_roc_curve: 0.9249999999999999\n",
      "--------------------------------------------------\n",
      "\n",
      "81. iteration: \n",
      "Chosen sample was of an index: 56\n",
      "Chosen sample was of a class: 56    1\n",
      "Name: target, dtype: int64\n",
      "\n",
      "--------------------------------------------------\n",
      "accuracy: 0.8333333333333334,\n",
      "precision: 0.8947368421052632,\n",
      "recall: 0.85,\n",
      "f2_score: 0.8585858585858586,\n",
      "auc_pr_curve: 0.965084177624846,\n",
      "auc_roc_curve: 0.9249999999999999\n",
      "--------------------------------------------------\n",
      "\n",
      "82. iteration: \n",
      "Chosen sample was of an index: 121\n",
      "Chosen sample was of a class: 121   -1\n",
      "Name: target, dtype: int64\n",
      "\n",
      "--------------------------------------------------\n",
      "accuracy: 0.8333333333333334,\n",
      "precision: 0.8947368421052632,\n",
      "recall: 0.85,\n",
      "f2_score: 0.8585858585858586,\n",
      "auc_pr_curve: 0.9628943280007858,\n",
      "auc_roc_curve: 0.92\n",
      "--------------------------------------------------\n",
      "\n",
      "83. iteration: \n",
      "Chosen sample was of an index: 85\n",
      "Chosen sample was of a class: 85    1\n",
      "Name: target, dtype: int64\n",
      "\n",
      "--------------------------------------------------\n",
      "accuracy: 0.8333333333333334,\n",
      "precision: 0.8947368421052632,\n",
      "recall: 0.85,\n",
      "f2_score: 0.8585858585858586,\n",
      "auc_pr_curve: 0.9628943280007858,\n",
      "auc_roc_curve: 0.92\n",
      "--------------------------------------------------\n",
      "\n",
      "84. iteration: \n",
      "Chosen sample was of an index: 146\n",
      "Chosen sample was of a class: 146   -1\n",
      "Name: target, dtype: int64\n",
      "\n",
      "--------------------------------------------------\n",
      "accuracy: 0.8666666666666667,\n",
      "precision: 0.9444444444444444,\n",
      "recall: 0.85,\n",
      "f2_score: 0.8673469387755104,\n",
      "auc_pr_curve: 0.9648070891526774,\n",
      "auc_roc_curve: 0.9249999999999999\n",
      "--------------------------------------------------\n",
      "\n",
      "85. iteration: \n",
      "Chosen sample was of an index: 66\n",
      "Chosen sample was of a class: 66    1\n",
      "Name: target, dtype: int64\n",
      "\n",
      "--------------------------------------------------\n",
      "accuracy: 0.8666666666666667,\n",
      "precision: 0.9444444444444444,\n",
      "recall: 0.85,\n",
      "f2_score: 0.8673469387755104,\n",
      "auc_pr_curve: 0.9628943280007858,\n",
      "auc_roc_curve: 0.92\n",
      "--------------------------------------------------\n",
      "\n",
      "86. iteration: \n",
      "Chosen sample was of an index: 127\n",
      "Chosen sample was of a class: 127   -1\n",
      "Name: target, dtype: int64\n",
      "\n",
      "--------------------------------------------------\n",
      "accuracy: 0.8333333333333334,\n",
      "precision: 0.9411764705882353,\n",
      "recall: 0.8,\n",
      "f2_score: 0.8247422680412373,\n",
      "auc_pr_curve: 0.9648070891526774,\n",
      "auc_roc_curve: 0.9249999999999999\n",
      "--------------------------------------------------\n",
      "\n",
      "87. iteration: \n",
      "Chosen sample was of an index: 108\n",
      "Chosen sample was of a class: 108   -1\n",
      "Name: target, dtype: int64\n",
      "\n",
      "--------------------------------------------------\n",
      "accuracy: 0.8333333333333334,\n",
      "precision: 0.9411764705882353,\n",
      "recall: 0.8,\n",
      "f2_score: 0.8247422680412373,\n",
      "auc_pr_curve: 0.965084177624846,\n",
      "auc_roc_curve: 0.9249999999999999\n",
      "--------------------------------------------------\n",
      "\n",
      "88. iteration: \n",
      "Chosen sample was of an index: 148\n",
      "Chosen sample was of a class: 148   -1\n",
      "Name: target, dtype: int64\n",
      "\n",
      "--------------------------------------------------\n",
      "accuracy: 0.8333333333333334,\n",
      "precision: 0.9411764705882353,\n",
      "recall: 0.8,\n",
      "f2_score: 0.8247422680412373,\n",
      "auc_pr_curve: 0.9691565829027466,\n",
      "auc_roc_curve: 0.93\n",
      "--------------------------------------------------\n",
      "\n",
      "89. iteration: \n",
      "Chosen sample was of an index: 123\n",
      "Chosen sample was of a class: 123   -1\n",
      "Name: target, dtype: int64\n",
      "\n",
      "--------------------------------------------------\n",
      "accuracy: 0.8333333333333334,\n",
      "precision: 0.9411764705882353,\n",
      "recall: 0.8,\n",
      "f2_score: 0.8247422680412373,\n",
      "auc_pr_curve: 0.9702261054434043,\n",
      "auc_roc_curve: 0.9349999999999999\n",
      "--------------------------------------------------\n",
      "\n",
      "90. iteration: \n",
      "Chosen sample was of an index: 84\n",
      "Chosen sample was of a class: 84    1\n",
      "Name: target, dtype: int64\n",
      "\n",
      "--------------------------------------------------\n",
      "accuracy: 0.8333333333333334,\n",
      "precision: 0.9411764705882353,\n",
      "recall: 0.8,\n",
      "f2_score: 0.8247422680412373,\n",
      "auc_pr_curve: 0.9683133442915126,\n",
      "auc_roc_curve: 0.93\n",
      "--------------------------------------------------\n",
      "\n",
      "91. iteration: \n",
      "Chosen sample was of an index: 109\n",
      "Chosen sample was of a class: 109   -1\n",
      "Name: target, dtype: int64\n",
      "\n",
      "--------------------------------------------------\n",
      "accuracy: 0.8333333333333334,\n",
      "precision: 0.9411764705882353,\n",
      "recall: 0.8,\n",
      "f2_score: 0.8247422680412373,\n",
      "auc_pr_curve: 0.9729073299627042,\n",
      "auc_roc_curve: 0.94\n",
      "--------------------------------------------------\n",
      "\n",
      "92. iteration: \n",
      "Chosen sample was of an index: 61\n",
      "Chosen sample was of a class: 61    1\n",
      "Name: target, dtype: int64\n",
      "\n",
      "--------------------------------------------------\n",
      "accuracy: 0.8333333333333334,\n",
      "precision: 0.9411764705882353,\n",
      "recall: 0.8,\n",
      "f2_score: 0.8247422680412373,\n",
      "auc_pr_curve: 0.9729073299627042,\n",
      "auc_roc_curve: 0.94\n",
      "--------------------------------------------------\n",
      "\n",
      "93. iteration: \n",
      "Chosen sample was of an index: 114\n",
      "Chosen sample was of a class: 114   -1\n",
      "Name: target, dtype: int64\n",
      "\n",
      "--------------------------------------------------\n",
      "accuracy: 0.8333333333333334,\n",
      "precision: 0.9411764705882353,\n",
      "recall: 0.8,\n",
      "f2_score: 0.8247422680412373,\n",
      "auc_pr_curve: 0.970717480338644,\n",
      "auc_roc_curve: 0.935\n",
      "--------------------------------------------------\n",
      "\n",
      "94. iteration: \n",
      "Chosen sample was of an index: 103\n",
      "Chosen sample was of a class: 103   -1\n",
      "Name: target, dtype: int64\n",
      "\n",
      "--------------------------------------------------\n",
      "accuracy: 0.8333333333333334,\n",
      "precision: 0.9411764705882353,\n",
      "recall: 0.8,\n",
      "f2_score: 0.8247422680412373,\n",
      "auc_pr_curve: 0.9729073299627042,\n",
      "auc_roc_curve: 0.94\n",
      "--------------------------------------------------\n",
      "\n",
      "95. iteration: \n",
      "Chosen sample was of an index: 107\n",
      "Chosen sample was of a class: 107   -1\n",
      "Name: target, dtype: int64\n",
      "\n",
      "--------------------------------------------------\n",
      "accuracy: 0.8333333333333334,\n",
      "precision: 0.9411764705882353,\n",
      "recall: 0.8,\n",
      "f2_score: 0.8247422680412373,\n",
      "auc_pr_curve: 0.9666450750607434,\n",
      "auc_roc_curve: 0.9299999999999999\n",
      "--------------------------------------------------\n",
      "\n",
      "96. iteration: \n",
      "Chosen sample was of an index: 106\n",
      "Chosen sample was of a class: 106   -1\n",
      "Name: target, dtype: int64\n",
      "\n",
      "--------------------------------------------------\n",
      "accuracy: 0.8333333333333334,\n",
      "precision: 0.9411764705882353,\n",
      "recall: 0.8,\n",
      "f2_score: 0.8247422680412373,\n",
      "auc_pr_curve: 0.970717480338644,\n",
      "auc_roc_curve: 0.935\n",
      "--------------------------------------------------\n",
      "\n",
      "97. iteration: \n",
      "Chosen sample was of an index: 110\n",
      "Chosen sample was of a class: 110   -1\n",
      "Name: target, dtype: int64\n",
      "\n",
      "--------------------------------------------------\n",
      "accuracy: 0.8333333333333334,\n",
      "precision: 0.9411764705882353,\n",
      "recall: 0.8,\n",
      "f2_score: 0.8247422680412373,\n",
      "auc_pr_curve: 0.970717480338644,\n",
      "auc_roc_curve: 0.935\n",
      "--------------------------------------------------\n",
      "\n",
      "98. iteration: \n",
      "Chosen sample was of an index: 100\n",
      "Chosen sample was of a class: 100   -1\n",
      "Name: target, dtype: int64\n",
      "\n",
      "--------------------------------------------------\n",
      "accuracy: 0.8333333333333334,\n",
      "precision: 0.9411764705882353,\n",
      "recall: 0.8,\n",
      "f2_score: 0.8247422680412373,\n",
      "auc_pr_curve: 0.96768439210335,\n",
      "auc_roc_curve: 0.9299999999999999\n",
      "--------------------------------------------------\n",
      "\n",
      "99. iteration: \n",
      "Chosen sample was of an index: 147\n",
      "Chosen sample was of a class: 147   -1\n",
      "Name: target, dtype: int64\n",
      "\n",
      "--------------------------------------------------\n",
      "accuracy: 0.8333333333333334,\n",
      "precision: 0.9411764705882353,\n",
      "recall: 0.8,\n",
      "f2_score: 0.8247422680412373,\n",
      "auc_pr_curve: 0.96768439210335,\n",
      "auc_roc_curve: 0.9299999999999999\n",
      "--------------------------------------------------\n",
      "\n",
      "100. iteration: \n",
      "Chosen sample was of an index: 131\n",
      "Chosen sample was of a class: 131   -1\n",
      "Name: target, dtype: int64\n",
      "\n",
      "--------------------------------------------------\n",
      "accuracy: 0.8333333333333334,\n",
      "precision: 0.9411764705882353,\n",
      "recall: 0.8,\n",
      "f2_score: 0.8247422680412373,\n",
      "auc_pr_curve: 0.970717480338644,\n",
      "auc_roc_curve: 0.935\n",
      "--------------------------------------------------\n",
      "\n",
      "101. iteration: \n",
      "Chosen sample was of an index: 115\n",
      "Chosen sample was of a class: 115   -1\n",
      "Name: target, dtype: int64\n",
      "\n",
      "--------------------------------------------------\n",
      "accuracy: 0.8333333333333334,\n",
      "precision: 0.9411764705882353,\n",
      "recall: 0.8,\n",
      "f2_score: 0.8247422680412373,\n",
      "auc_pr_curve: 0.970717480338644,\n",
      "auc_roc_curve: 0.935\n",
      "--------------------------------------------------\n",
      "\n",
      "102. iteration: \n",
      "Chosen sample was of an index: 141\n",
      "Chosen sample was of a class: 141   -1\n",
      "Name: target, dtype: int64\n",
      "\n",
      "--------------------------------------------------\n",
      "accuracy: 0.8333333333333334,\n",
      "precision: 0.9411764705882353,\n",
      "recall: 0.8,\n",
      "f2_score: 0.8247422680412373,\n",
      "auc_pr_curve: 0.970717480338644,\n",
      "auc_roc_curve: 0.935\n",
      "--------------------------------------------------\n",
      "\n",
      "103. iteration: \n",
      "Chosen sample was of an index: 139\n",
      "Chosen sample was of a class: 139   -1\n",
      "Name: target, dtype: int64\n",
      "\n",
      "--------------------------------------------------\n",
      "accuracy: 0.8333333333333334,\n",
      "precision: 0.9411764705882353,\n",
      "recall: 0.8,\n",
      "f2_score: 0.8247422680412373,\n",
      "auc_pr_curve: 0.970717480338644,\n",
      "auc_roc_curve: 0.935\n",
      "--------------------------------------------------\n",
      "\n",
      "104. iteration: \n",
      "Chosen sample was of an index: 130\n",
      "Chosen sample was of a class: 130   -1\n",
      "Name: target, dtype: int64\n",
      "\n",
      "--------------------------------------------------\n",
      "accuracy: 0.8333333333333334,\n",
      "precision: 0.9411764705882353,\n",
      "recall: 0.8,\n",
      "f2_score: 0.8247422680412373,\n",
      "auc_pr_curve: 0.96768439210335,\n",
      "auc_roc_curve: 0.9299999999999999\n",
      "--------------------------------------------------\n",
      "\n",
      "105. iteration: \n",
      "Chosen sample was of an index: 59\n",
      "Chosen sample was of a class: 59    1\n",
      "Name: target, dtype: int64\n",
      "\n",
      "--------------------------------------------------\n",
      "accuracy: 0.8333333333333334,\n",
      "precision: 0.9411764705882353,\n",
      "recall: 0.8,\n",
      "f2_score: 0.8247422680412373,\n",
      "auc_pr_curve: 0.96768439210335,\n",
      "auc_roc_curve: 0.9299999999999999\n",
      "--------------------------------------------------\n",
      "\n",
      "106. iteration: \n",
      "Chosen sample was of an index: 118\n",
      "Chosen sample was of a class: 118   -1\n",
      "Name: target, dtype: int64\n",
      "\n",
      "--------------------------------------------------\n",
      "accuracy: 0.8333333333333334,\n",
      "precision: 0.9411764705882353,\n",
      "recall: 0.8,\n",
      "f2_score: 0.8247422680412373,\n",
      "auc_pr_curve: 0.9651345125023867,\n",
      "auc_roc_curve: 0.925\n",
      "--------------------------------------------------\n",
      "\n",
      "107. iteration: \n",
      "Chosen sample was of an index: 135\n",
      "Chosen sample was of a class: 135   -1\n",
      "Name: target, dtype: int64\n",
      "\n",
      "--------------------------------------------------\n",
      "accuracy: 0.8333333333333334,\n",
      "precision: 0.9411764705882353,\n",
      "recall: 0.8,\n",
      "f2_score: 0.8247422680412373,\n",
      "auc_pr_curve: 0.9651345125023867,\n",
      "auc_roc_curve: 0.925\n",
      "--------------------------------------------------\n",
      "\n",
      "108. iteration: \n",
      "Chosen sample was of an index: 32\n",
      "Chosen sample was of a class: 32    1\n",
      "Name: target, dtype: int64\n",
      "\n",
      "--------------------------------------------------\n",
      "accuracy: 0.8333333333333334,\n",
      "precision: 0.9411764705882353,\n",
      "recall: 0.8,\n",
      "f2_score: 0.8247422680412373,\n",
      "auc_pr_curve: 0.9651345125023867,\n",
      "auc_roc_curve: 0.925\n",
      "--------------------------------------------------\n",
      "Queried samples:\n",
      " Counter({1: 72, -1: 36})\n",
      "120 out of 120 samples seen.\n",
      "Average iteration time was 0.13s\n"
     ]
    }
   ],
   "source": [
    "##############################\n",
    "# Pool based active learning #\n",
    "##############################\n",
    "from modAL.uncertainty import classifier_entropy\n",
    "from modAL.utils.data import data_vstack\n",
    "import copy, time\n",
    "\n",
    "import warnings\n",
    "warnings.simplefilter(action='ignore', category=FutureWarning)\n",
    "\n",
    "learner_al = copy.deepcopy(learner)\n",
    "X_pool_al, y_pool_al = copy.deepcopy(X_pool), copy.deepcopy(y_pool)\n",
    "\n",
    "from config import StoppingCriterion, BatchMode, AL_N_DECLINE_ROUNDS\n",
    "stopping_criterion  = StoppingCriterion.FRACTION_OF_TRAIN_QUERIES\n",
    "batch_mode = BatchMode.FIXED_BATCH_SIZE\n",
    "n_queries, batch_size = perpare_queries_and_batch_size(stopping_criterion, batch_mode, len(y_pool_al), len(learner.y_training))\n",
    "\n",
    "# Those are sanity checks, so they are supposed to be used for code assumptions, not for user inputs checks\n",
    "# assert solver == \"liblinear\", (\"message\")\n",
    "\n",
    "# AL statistics\n",
    "al_queried_classes_counter = Counter()\n",
    "al_performance_history = [unqueried_score[\"metrics\"]]\n",
    "iterations_time_history = []\n",
    "initial_confidence = np.mean(classifier_entropy(learner_al, X_test))\n",
    "al_entropy_confidence_history = [initial_confidence]\n",
    "\n",
    "# AL loop\n",
    "for index in range(n_queries):\n",
    "\n",
    "  start = time.perf_counter()\n",
    "  query_index, query_instance = learner_al.query(X_pool_al.to_numpy(), n_instances=batch_size)\n",
    "\n",
    "  # To track which samples are choosen. It is usefull, when comparing different algorithms.\n",
    "  global_query_index = X_pool_al.iloc[query_index].index\n",
    "\n",
    "  print(f\"\\n{index+1}. iteration: \\nChosen sample was of an index: {global_query_index[-1]}\\nChosen sample was of a class: {y_pool_al.iloc[query_index]}\\n\")\n",
    "  al_queried_classes_counter.update(y_pool_al.iloc[query_index])\n",
    "\n",
    "  # Teach our ActiveLearner model the record it has requested.\n",
    "  X, y = X_pool_al.iloc[query_index], y_pool_al.iloc[query_index]\n",
    "  if WEIGHTED_TRAINING:\n",
    "    new_y = data_vstack((learner_al.y_training, y))\n",
    "    sample_weight = compute_sample_weight(class_weight=CLASS_WEIGHT, y=new_y)\n",
    "  else:\n",
    "    sample_weight = None\n",
    "  learner_al.teach(X=X.to_numpy(), y=y.to_numpy(), sample_weight=sample_weight) # implicitly it gets fit_kwargs -> sample_weight\n",
    "  # learner_al.teach(X=X, y=y, sample_weight=sample_weight, bootstrap=True, stratify=True) # for Query-By-Bagging\n",
    "\n",
    "\n",
    "  # Remove the queried instance from the unlabeled pool.\n",
    "  X_pool_al, y_pool_al = X_pool_al.drop(global_query_index), y_pool_al.drop(global_query_index)\n",
    "\n",
    "  # Calculate and report our model's accuracy.\n",
    "  y_pred = learner_al.predict(X_test)\n",
    "  y_proba = learner_al.predict_proba(X_test)\n",
    "  print(50*'-')\n",
    "  model_evaluation = method_eval(y_test=y_test, y_pred=y_pred, y_proba=y_proba, verbose=VERBOSE)\n",
    "  print(50*'-')\n",
    "\n",
    "  # Save our model's performance for plotting.\n",
    "  al_performance_history.append(model_evaluation[\"metrics\"])\n",
    "\n",
    "  # Check al process change\n",
    "  # if index + 2 > CHANGE_WINDOW_SIZE:\n",
    "  #   metrics = list(zip(*[x.values() for x in performance_history]))    \n",
    "  #   a = metrics[0][-(CHANGE_WINDOW_SIZE+1):-1]\n",
    "  #   b = metrics[0][-CHANGE_WINDOW_SIZE:]\n",
    "  #   print(a,b)\n",
    "  #   mean_abs_diff = calculate_mean_abs_difference(np.array(b), np.array(a))\n",
    "  #   if mean_abs_diff < MEAN_ABS_DIFF_THRESHOLD:\n",
    "  #     print(\"WARNING: Model is not improving!\")\n",
    "\n",
    "  # Entropy confidence\n",
    "  al_entropy_confidence_history.append(np.mean(classifier_entropy(learner_al, X_test)))\n",
    "  if stopping_criterion == \"ENTROPY_CONFIDENCE\":\n",
    "    if al_entropy_confidence_history[-1] < al_entropy_confidence_history[-2]:\n",
    "      n_decline_rounds += 1\n",
    "    else:\n",
    "      n_decline_rounds = 0\n",
    "    if n_decline_rounds >= AL_N_DECLINE_ROUNDS:\n",
    "      break\n",
    "    if len(y_pool_al) < batch_size:\n",
    "      break\n",
    "  \n",
    "  elapsed = time.perf_counter() - start\n",
    "  iterations_time_history.append(elapsed)\n",
    "    \n",
    "print(f\"Queried samples:\\n {al_queried_classes_counter}\")\n",
    "n_queries = sum(al_queried_classes_counter.values())\n",
    "print(f\"{len(y_train_init) + index+1} out of {len(y_train)} samples seen.\")\n",
    "print(f\"Average iteration time was {np.mean(iterations_time_history):0.2f}s\")"
   ]
  },
  {
   "cell_type": "code",
   "execution_count": 27,
   "metadata": {},
   "outputs": [
    {
     "name": "stdout",
     "output_type": "stream",
     "text": [
      "0.8333 & 0.9412 & 0.8000 & 0.8247 & 0.9651 & 0.9250 & "
     ]
    }
   ],
   "source": [
    "for x in al_performance_history[-1].values():\n",
    "    print(f\"{x:.4f} & \", end=\"\")"
   ]
  },
  {
   "cell_type": "code",
   "execution_count": 28,
   "metadata": {},
   "outputs": [
    {
     "data": {
      "image/png": "[encoded data removed]",
      "text/plain": [
       "<Figure size 1200x900 with 6 Axes>"
      ]
     },
     "metadata": {},
     "output_type": "display_data"
    }
   ],
   "source": [
    "import matplotlib.pyplot as plt\n",
    "\n",
    "# Plotting metrics\n",
    "fig, axs = plt.subplots(2, 3, figsize=(12, 9), sharex=True, sharey=True)\n",
    "\n",
    "if len(full_model_score) == 2:\n",
    "    full_model_score = list(full_model_score[\"metrics\"].values())\n",
    "al_metrics = list(zip(*[x.values() for x in al_performance_history]))\n",
    "\n",
    "n = len(al_performance_history)\n",
    "\n",
    "# major_xticks = np.round(np.linspace(0, n, 10)).astype(int)\n",
    "# minor_xticks = np.round(np.linspace(0, n, 20)).astype(int)\n",
    "\n",
    "# major_xticks = np.arange(0, n +10, 10)\n",
    "# minor_xticks = np.arange(0, n +1, 1)\n",
    "\n",
    "# major_yticks = np.arange(0.5, 1 +0.1, 0.1)\n",
    "# minor_yticks = np.arange(0.5, 1 +0.05, 0.05)\n",
    "\n",
    "for i, metric_name in enumerate(al_performance_history[0].keys()):\n",
    "    ax = axs[int(i/3), int(i%3)]\n",
    "    ax.plot(range(len(al_metrics[i])), al_metrics[i])\n",
    "    # ax.set_xticks(major_xticks)\n",
    "    # ax.set_xticks(minor_xticks, minor=True)\n",
    "    # ax.set_xticklabels(labels=major_xticks, rotation=90, ha='right')\n",
    "    # ax.set_yticks(major_yticks)\n",
    "    # ax.set_yticks(minor_yticks, minor=True)\n",
    "    ax.minorticks_on()\n",
    "    ax.grid(which='minor', alpha=0.2)\n",
    "    ax.grid(which='major', alpha=0.5)\n",
    "    handle = ax.plot(range(len(al_metrics[i])), np.ones(len(al_metrics[i]))*full_model_score[i], \"r\")\n",
    "    ax.set_title(metric_name)\n",
    "\n",
    "# TODO: point, for fraction of training dataset, which is efficient to obtain good model. 0,4?\n",
    "\n",
    "fig.suptitle(\"Pool based learning metrics\", fontsize=16)\n",
    "fig.supxlabel(\"Number of queries\")\n",
    "fig.supylabel(\"Metric value\")\n",
    "fig.legend(handle, [\"Model trained on whole dataset\"], loc='lower right')\n",
    "fig.tight_layout()"
   ]
  },
  {
   "cell_type": "code",
   "execution_count": 29,
   "metadata": {},
   "outputs": [
    {
     "data": {
      "image/png": "[encoded data removed]",
      "text/plain": [
       "<Figure size 640x480 with 1 Axes>"
      ]
     },
     "metadata": {},
     "output_type": "display_data"
    }
   ],
   "source": [
    "from config import AL_QUERY_FIXED_BATCH_SIZE\n",
    "# Plot the confidence\n",
    "x_train_usage = [i*AL_QUERY_FIXED_BATCH_SIZE/len(y_train)*100+len(y_train_init) for i in range(len(al_entropy_confidence_history))]\n",
    "plt.plot(x_train_usage, al_entropy_confidence_history)\n",
    "plt.title(\"Pool-based active learning confidence\")\n",
    "plt.xlabel(r'% of training data used')\n",
    "plt.ylabel('Average entropy')\n",
    "plt.xlim(left=0, right=100)\n",
    "plt.grid()\n",
    "plt.show()"
   ]
  },
  {
   "cell_type": "code",
   "execution_count": 30,
   "metadata": {},
   "outputs": [
    {
     "data": {
      "text/plain": [
       "dict_keys(['accuracy', 'precision', 'recall', 'f2_score', 'auc_pr_curve', 'auc_roc_curve'])"
      ]
     },
     "execution_count": 30,
     "metadata": {},
     "output_type": "execute_result"
    }
   ],
   "source": [
    "al_performance_history[0].keys()"
   ]
  },
  {
   "cell_type": "code",
   "execution_count": 31,
   "metadata": {},
   "outputs": [
    {
     "data": {
      "image/png": "[encoded data removed]",
      "text/plain": [
       "<Figure size 1105x780 with 1 Axes>"
      ]
     },
     "metadata": {},
     "output_type": "display_data"
    }
   ],
   "source": [
    "# Comparison of RS, US, and EER\n",
    "\n",
    "i = 4 # PR AUC\n",
    "# for metric_name in al_performance_history[0].keys()[0]: # for all keys should be\n",
    "fig, ax = plt.subplots(figsize=(8.5, 6), dpi=130)\n",
    "ax.plot(range(len(rs_metrics[i])), rs_metrics[i], label='Random Sampling',   alpha=8/10)\n",
    "ax.plot(range(len(al_metrics[i])), al_metrics[i], label='Expected Error Reduction', alpha=8/10)\n",
    "ax.minorticks_on()\n",
    "ax.grid(which='minor', alpha=0.2)\n",
    "ax.grid(which='major', alpha=0.5)\n",
    "handle = ax.plot(range(len(al_metrics[i])), np.ones(len(al_metrics[i]))*full_model_score[i], \"r\")\n",
    "ax.set_title(\"PR AUC\")\n",
    "ax.legend(loc='lower right')\n",
    "\n",
    "fig.suptitle(\"AL comparison\", fontsize=16)\n",
    "fig.supxlabel(\"Number of queries\")\n",
    "fig.supylabel(\"Metric value\")\n",
    "fig.legend(handle, [\"Model trained on whole dataset\"], loc='lower right')\n",
    "fig.tight_layout()"
   ]
  },
  {
   "cell_type": "code",
   "execution_count": 32,
   "metadata": {},
   "outputs": [
    {
     "ename": "NameError",
     "evalue": "name 'N_QUERIES' is not defined",
     "output_type": "error",
     "traceback": [
      "\u001b[0;31m---------------------------------------------------------------------------\u001b[0m",
      "\u001b[0;31mNameError\u001b[0m                                 Traceback (most recent call last)",
      "\u001b[1;32m/Users/wojciechrokicki/Documents/Magister/praca_magisterska/active-learning-analysis/code/test_env_al_methods.ipynb Cell 33\u001b[0m line \u001b[0;36m1\n\u001b[1;32m      <a href='vscode-notebook-cell:/Users/wojciechrokicki/Documents/Magister/praca_magisterska/active-learning-analysis/code/test_env_al_methods.ipynb#X43sZmlsZQ%3D%3D?line=7'>8</a>\u001b[0m ax\u001b[39m.\u001b[39mscatter(x\u001b[39m=\u001b[39mx_component[is_correct],  y\u001b[39m=\u001b[39my_component[is_correct],  c\u001b[39m=\u001b[39m\u001b[39m'\u001b[39m\u001b[39mg\u001b[39m\u001b[39m'\u001b[39m, marker\u001b[39m=\u001b[39m\u001b[39m'\u001b[39m\u001b[39m+\u001b[39m\u001b[39m'\u001b[39m, label\u001b[39m=\u001b[39m\u001b[39m'\u001b[39m\u001b[39mCorrect\u001b[39m\u001b[39m'\u001b[39m,   alpha\u001b[39m=\u001b[39m\u001b[39m8\u001b[39m\u001b[39m/\u001b[39m\u001b[39m10\u001b[39m)\n\u001b[1;32m      <a href='vscode-notebook-cell:/Users/wojciechrokicki/Documents/Magister/praca_magisterska/active-learning-analysis/code/test_env_al_methods.ipynb#X43sZmlsZQ%3D%3D?line=8'>9</a>\u001b[0m ax\u001b[39m.\u001b[39mscatter(x\u001b[39m=\u001b[39mx_component[\u001b[39m~\u001b[39mis_correct], y\u001b[39m=\u001b[39my_component[\u001b[39m~\u001b[39mis_correct], c\u001b[39m=\u001b[39m\u001b[39m'\u001b[39m\u001b[39mr\u001b[39m\u001b[39m'\u001b[39m, marker\u001b[39m=\u001b[39m\u001b[39m'\u001b[39m\u001b[39mx\u001b[39m\u001b[39m'\u001b[39m, label\u001b[39m=\u001b[39m\u001b[39m'\u001b[39m\u001b[39mIncorrect\u001b[39m\u001b[39m'\u001b[39m, alpha\u001b[39m=\u001b[39m\u001b[39m8\u001b[39m\u001b[39m/\u001b[39m\u001b[39m10\u001b[39m)\n\u001b[0;32m---> <a href='vscode-notebook-cell:/Users/wojciechrokicki/Documents/Magister/praca_magisterska/active-learning-analysis/code/test_env_al_methods.ipynb#X43sZmlsZQ%3D%3D?line=10'>11</a>\u001b[0m ax\u001b[39m.\u001b[39mset_title(\u001b[39mf\u001b[39m\u001b[39m'\u001b[39m\u001b[39mClassification after \u001b[39m\u001b[39m{\u001b[39;00mN_QUERIES\u001b[39m}\u001b[39;00m\u001b[39m queries:\u001b[39m\u001b[39m'\u001b[39m)\n\u001b[1;32m     <a href='vscode-notebook-cell:/Users/wojciechrokicki/Documents/Magister/praca_magisterska/active-learning-analysis/code/test_env_al_methods.ipynb#X43sZmlsZQ%3D%3D?line=11'>12</a>\u001b[0m ax\u001b[39m.\u001b[39mlegend(loc\u001b[39m=\u001b[39m\u001b[39m'\u001b[39m\u001b[39mlower right\u001b[39m\u001b[39m'\u001b[39m)\n\u001b[1;32m     <a href='vscode-notebook-cell:/Users/wojciechrokicki/Documents/Magister/praca_magisterska/active-learning-analysis/code/test_env_al_methods.ipynb#X43sZmlsZQ%3D%3D?line=13'>14</a>\u001b[0m plt\u001b[39m.\u001b[39mshow()\n",
      "\u001b[0;31mNameError\u001b[0m: name 'N_QUERIES' is not defined"
     ]
    },
    {
     "data": {
      "image/png": "[encoded data removed]",
      "text/plain": [
       "<Figure size 1105x780 with 1 Axes>"
      ]
     },
     "metadata": {},
     "output_type": "display_data"
    }
   ],
   "source": [
    "# Isolate the data we'll need for plotting.\n",
    "predictions = learner.predict(X_raw)\n",
    "is_correct = (predictions == y_raw)\n",
    "\n",
    "# Plot our updated classification results once we've trained our learner.\n",
    "fig, ax = plt.subplots(figsize=(8.5, 6), dpi=130)\n",
    "\n",
    "ax.scatter(x=x_component[is_correct],  y=y_component[is_correct],  c='g', marker='+', label='Correct',   alpha=8/10)\n",
    "ax.scatter(x=x_component[~is_correct], y=y_component[~is_correct], c='r', marker='x', label='Incorrect', alpha=8/10)\n",
    "\n",
    "ax.set_title(f'Classification after {N_QUERIES} queries:')\n",
    "ax.legend(loc='lower right')\n",
    "\n",
    "plt.show()"
   ]
  },
  {
   "cell_type": "code",
   "execution_count": null,
   "metadata": {},
   "outputs": [
    {
     "data": {
      "image/png": "[encoded data removed]",
      "text/plain": [
       "<Figure size 640x480 with 2 Axes>"
      ]
     },
     "metadata": {},
     "output_type": "display_data"
    },
    {
     "name": "stdout",
     "output_type": "stream",
     "text": [
      "Counter({-1: 283, 1: 53})\n"
     ]
    }
   ],
   "source": [
    "from sklearn.metrics import confusion_matrix, ConfusionMatrixDisplay\n",
    "from modAL import Committee\n",
    "\n",
    "if not issubclass(learner.__class__, Committee):\n",
    "    classes = learner.estimator.classes_\n",
    "else:\n",
    "    classes = learner.classes_\n",
    "\n",
    "cm = confusion_matrix(y_raw, predictions, labels=classes)\n",
    "disp = ConfusionMatrixDisplay(confusion_matrix=cm, display_labels=classes)\n",
    "\n",
    "disp.plot()\n",
    "plt.show()\n",
    "\n",
    "print(f\"{Counter(predictions)}\")"
   ]
  },
  {
   "cell_type": "code",
   "execution_count": null,
   "metadata": {},
   "outputs": [],
   "source": [
    "# For HTRU2\n",
    "\n",
    "# Final model analysis\n",
    "# To get different predictions based on the probability threshold, you can set manually probability threshold for model by y_pred = (clf.predict_proba(X_test)[:,1] >= 0.3).astype(bool) # set threshold as 0.3 (to verify??!)\n",
    "# https://stackoverflow.com/questions/19984957/scikit-learn-predict-default-threshold"
   ]
  },
  {
   "cell_type": "code",
   "execution_count": null,
   "metadata": {},
   "outputs": [
    {
     "data": {
      "application/vnd.plotly.v1+json": {
       "config": {
        "plotlyServerURL": "https://plot.ly"
       },
       "data": [
        {
         "mode": "lines+markers",
         "name": "Canada",
         "type": "scatter",
         "x": [
          1990,
          1991,
          1992,
          1993,
          1994,
          1995,
          1996,
          1997,
          1998,
          1999,
          2000,
          2001,
          2002,
          2003,
          2004,
          2005,
          2006,
          2007,
          2008,
          2009,
          2010
         ],
         "y": [
          83.53952996514212,
          89.95476700212838,
          90.62076120689609,
          60.22074550187519,
          48.55312393727576,
          25.035133212959593,
          83.80680068222894,
          36.32382951790741,
          78.39855368445463,
          56.79107969142265,
          6.377394255961056,
          26.555184779880125,
          56.608425773382876,
          87.50089760360268,
          64.62517742571512,
          48.97058983414908,
          48.533947155814715,
          48.02726417815937,
          98.31749502161348,
          80.90232919053165,
          48.493793893223966
         ]
        },
        {
         "mode": "lines",
         "name": "America",
         "type": "scatter",
         "x": [
          1990,
          1991,
          1992,
          1993,
          1994,
          1995,
          1996,
          1997,
          1998,
          1999,
          2000,
          2001,
          2002,
          2003,
          2004,
          2005,
          2006,
          2007,
          2008,
          2009,
          2010
         ],
         "y": [
          40.04500473650665,
          74.53752011058099,
          85.81384938006669,
          13.425874653926817,
          79.82958572368636,
          38.36823477863944,
          40.310435935662056,
          12.279706759987807,
          13.01713250306965,
          96.21966950557767,
          5.0965876010117706,
          85.00279094572431,
          59.23316588510297,
          26.174827565948465,
          82.4093411712075,
          93.12775412999125,
          86.96053868616167,
          25.564725449041404,
          65.14999323631481,
          84.80866284267348,
          52.92826471800627
         ]
        }
       ],
       "layout": {
        "annotations": [
         {
          "showarrow": false,
          "text": "threshold",
          "x": 2005,
          "xanchor": "left",
          "xref": "x",
          "y": 0,
          "yanchor": "bottom",
          "yref": "y domain"
         }
        ],
        "shapes": [
         {
          "type": "line",
          "x0": 2005,
          "x1": 2005,
          "xref": "x",
          "y0": 0,
          "y1": 1,
          "yref": "y domain"
         }
        ],
        "template": {
         "data": {
          "bar": [
           {
            "error_x": {
             "color": "#2a3f5f"
            },
            "error_y": {
             "color": "#2a3f5f"
            },
            "marker": {
             "line": {
              "color": "#E5ECF6",
              "width": 0.5
             },
             "pattern": {
              "fillmode": "overlay",
              "size": 10,
              "solidity": 0.2
             }
            },
            "type": "bar"
           }
          ],
          "barpolar": [
           {
            "marker": {
             "line": {
              "color": "#E5ECF6",
              "width": 0.5
             },
             "pattern": {
              "fillmode": "overlay",
              "size": 10,
              "solidity": 0.2
             }
            },
            "type": "barpolar"
           }
          ],
          "carpet": [
           {
            "aaxis": {
             "endlinecolor": "#2a3f5f",
             "gridcolor": "white",
             "linecolor": "white",
             "minorgridcolor": "white",
             "startlinecolor": "#2a3f5f"
            },
            "baxis": {
             "endlinecolor": "#2a3f5f",
             "gridcolor": "white",
             "linecolor": "white",
             "minorgridcolor": "white",
             "startlinecolor": "#2a3f5f"
            },
            "type": "carpet"
           }
          ],
          "choropleth": [
           {
            "colorbar": {
             "outlinewidth": 0,
             "ticks": ""
            },
            "type": "choropleth"
           }
          ],
          "contour": [
           {
            "colorbar": {
             "outlinewidth": 0,
             "ticks": ""
            },
            "colorscale": [
             [
              0,
              "#0d0887"
             ],
             [
              0.1111111111111111,
              "#46039f"
             ],
             [
              0.2222222222222222,
              "#7201a8"
             ],
             [
              0.3333333333333333,
              "#9c179e"
             ],
             [
              0.4444444444444444,
              "#bd3786"
             ],
             [
              0.5555555555555556,
              "#d8576b"
             ],
             [
              0.6666666666666666,
              "#ed7953"
             ],
             [
              0.7777777777777778,
              "#fb9f3a"
             ],
             [
              0.8888888888888888,
              "#fdca26"
             ],
             [
              1,
              "#f0f921"
             ]
            ],
            "type": "contour"
           }
          ],
          "contourcarpet": [
           {
            "colorbar": {
             "outlinewidth": 0,
             "ticks": ""
            },
            "type": "contourcarpet"
           }
          ],
          "heatmap": [
           {
            "colorbar": {
             "outlinewidth": 0,
             "ticks": ""
            },
            "colorscale": [
             [
              0,
              "#0d0887"
             ],
             [
              0.1111111111111111,
              "#46039f"
             ],
             [
              0.2222222222222222,
              "#7201a8"
             ],
             [
              0.3333333333333333,
              "#9c179e"
             ],
             [
              0.4444444444444444,
              "#bd3786"
             ],
             [
              0.5555555555555556,
              "#d8576b"
             ],
             [
              0.6666666666666666,
              "#ed7953"
             ],
             [
              0.7777777777777778,
              "#fb9f3a"
             ],
             [
              0.8888888888888888,
              "#fdca26"
             ],
             [
              1,
              "#f0f921"
             ]
            ],
            "type": "heatmap"
           }
          ],
          "heatmapgl": [
           {
            "colorbar": {
             "outlinewidth": 0,
             "ticks": ""
            },
            "colorscale": [
             [
              0,
              "#0d0887"
             ],
             [
              0.1111111111111111,
              "#46039f"
             ],
             [
              0.2222222222222222,
              "#7201a8"
             ],
             [
              0.3333333333333333,
              "#9c179e"
             ],
             [
              0.4444444444444444,
              "#bd3786"
             ],
             [
              0.5555555555555556,
              "#d8576b"
             ],
             [
              0.6666666666666666,
              "#ed7953"
             ],
             [
              0.7777777777777778,
              "#fb9f3a"
             ],
             [
              0.8888888888888888,
              "#fdca26"
             ],
             [
              1,
              "#f0f921"
             ]
            ],
            "type": "heatmapgl"
           }
          ],
          "histogram": [
           {
            "marker": {
             "pattern": {
              "fillmode": "overlay",
              "size": 10,
              "solidity": 0.2
             }
            },
            "type": "histogram"
           }
          ],
          "histogram2d": [
           {
            "colorbar": {
             "outlinewidth": 0,
             "ticks": ""
            },
            "colorscale": [
             [
              0,
              "#0d0887"
             ],
             [
              0.1111111111111111,
              "#46039f"
             ],
             [
              0.2222222222222222,
              "#7201a8"
             ],
             [
              0.3333333333333333,
              "#9c179e"
             ],
             [
              0.4444444444444444,
              "#bd3786"
             ],
             [
              0.5555555555555556,
              "#d8576b"
             ],
             [
              0.6666666666666666,
              "#ed7953"
             ],
             [
              0.7777777777777778,
              "#fb9f3a"
             ],
             [
              0.8888888888888888,
              "#fdca26"
             ],
             [
              1,
              "#f0f921"
             ]
            ],
            "type": "histogram2d"
           }
          ],
          "histogram2dcontour": [
           {
            "colorbar": {
             "outlinewidth": 0,
             "ticks": ""
            },
            "colorscale": [
             [
              0,
              "#0d0887"
             ],
             [
              0.1111111111111111,
              "#46039f"
             ],
             [
              0.2222222222222222,
              "#7201a8"
             ],
             [
              0.3333333333333333,
              "#9c179e"
             ],
             [
              0.4444444444444444,
              "#bd3786"
             ],
             [
              0.5555555555555556,
              "#d8576b"
             ],
             [
              0.6666666666666666,
              "#ed7953"
             ],
             [
              0.7777777777777778,
              "#fb9f3a"
             ],
             [
              0.8888888888888888,
              "#fdca26"
             ],
             [
              1,
              "#f0f921"
             ]
            ],
            "type": "histogram2dcontour"
           }
          ],
          "mesh3d": [
           {
            "colorbar": {
             "outlinewidth": 0,
             "ticks": ""
            },
            "type": "mesh3d"
           }
          ],
          "parcoords": [
           {
            "line": {
             "colorbar": {
              "outlinewidth": 0,
              "ticks": ""
             }
            },
            "type": "parcoords"
           }
          ],
          "pie": [
           {
            "automargin": true,
            "type": "pie"
           }
          ],
          "scatter": [
           {
            "fillpattern": {
             "fillmode": "overlay",
             "size": 10,
             "solidity": 0.2
            },
            "type": "scatter"
           }
          ],
          "scatter3d": [
           {
            "line": {
             "colorbar": {
              "outlinewidth": 0,
              "ticks": ""
             }
            },
            "marker": {
             "colorbar": {
              "outlinewidth": 0,
              "ticks": ""
             }
            },
            "type": "scatter3d"
           }
          ],
          "scattercarpet": [
           {
            "marker": {
             "colorbar": {
              "outlinewidth": 0,
              "ticks": ""
             }
            },
            "type": "scattercarpet"
           }
          ],
          "scattergeo": [
           {
            "marker": {
             "colorbar": {
              "outlinewidth": 0,
              "ticks": ""
             }
            },
            "type": "scattergeo"
           }
          ],
          "scattergl": [
           {
            "marker": {
             "colorbar": {
              "outlinewidth": 0,
              "ticks": ""
             }
            },
            "type": "scattergl"
           }
          ],
          "scattermapbox": [
           {
            "marker": {
             "colorbar": {
              "outlinewidth": 0,
              "ticks": ""
             }
            },
            "type": "scattermapbox"
           }
          ],
          "scatterpolar": [
           {
            "marker": {
             "colorbar": {
              "outlinewidth": 0,
              "ticks": ""
             }
            },
            "type": "scatterpolar"
           }
          ],
          "scatterpolargl": [
           {
            "marker": {
             "colorbar": {
              "outlinewidth": 0,
              "ticks": ""
             }
            },
            "type": "scatterpolargl"
           }
          ],
          "scatterternary": [
           {
            "marker": {
             "colorbar": {
              "outlinewidth": 0,
              "ticks": ""
             }
            },
            "type": "scatterternary"
           }
          ],
          "surface": [
           {
            "colorbar": {
             "outlinewidth": 0,
             "ticks": ""
            },
            "colorscale": [
             [
              0,
              "#0d0887"
             ],
             [
              0.1111111111111111,
              "#46039f"
             ],
             [
              0.2222222222222222,
              "#7201a8"
             ],
             [
              0.3333333333333333,
              "#9c179e"
             ],
             [
              0.4444444444444444,
              "#bd3786"
             ],
             [
              0.5555555555555556,
              "#d8576b"
             ],
             [
              0.6666666666666666,
              "#ed7953"
             ],
             [
              0.7777777777777778,
              "#fb9f3a"
             ],
             [
              0.8888888888888888,
              "#fdca26"
             ],
             [
              1,
              "#f0f921"
             ]
            ],
            "type": "surface"
           }
          ],
          "table": [
           {
            "cells": {
             "fill": {
              "color": "#EBF0F8"
             },
             "line": {
              "color": "white"
             }
            },
            "header": {
             "fill": {
              "color": "#C8D4E3"
             },
             "line": {
              "color": "white"
             }
            },
            "type": "table"
           }
          ]
         },
         "layout": {
          "annotationdefaults": {
           "arrowcolor": "#2a3f5f",
           "arrowhead": 0,
           "arrowwidth": 1
          },
          "autotypenumbers": "strict",
          "coloraxis": {
           "colorbar": {
            "outlinewidth": 0,
            "ticks": ""
           }
          },
          "colorscale": {
           "diverging": [
            [
             0,
             "#8e0152"
            ],
            [
             0.1,
             "#c51b7d"
            ],
            [
             0.2,
             "#de77ae"
            ],
            [
             0.3,
             "#f1b6da"
            ],
            [
             0.4,
             "#fde0ef"
            ],
            [
             0.5,
             "#f7f7f7"
            ],
            [
             0.6,
             "#e6f5d0"
            ],
            [
             0.7,
             "#b8e186"
            ],
            [
             0.8,
             "#7fbc41"
            ],
            [
             0.9,
             "#4d9221"
            ],
            [
             1,
             "#276419"
            ]
           ],
           "sequential": [
            [
             0,
             "#0d0887"
            ],
            [
             0.1111111111111111,
             "#46039f"
            ],
            [
             0.2222222222222222,
             "#7201a8"
            ],
            [
             0.3333333333333333,
             "#9c179e"
            ],
            [
             0.4444444444444444,
             "#bd3786"
            ],
            [
             0.5555555555555556,
             "#d8576b"
            ],
            [
             0.6666666666666666,
             "#ed7953"
            ],
            [
             0.7777777777777778,
             "#fb9f3a"
            ],
            [
             0.8888888888888888,
             "#fdca26"
            ],
            [
             1,
             "#f0f921"
            ]
           ],
           "sequentialminus": [
            [
             0,
             "#0d0887"
            ],
            [
             0.1111111111111111,
             "#46039f"
            ],
            [
             0.2222222222222222,
             "#7201a8"
            ],
            [
             0.3333333333333333,
             "#9c179e"
            ],
            [
             0.4444444444444444,
             "#bd3786"
            ],
            [
             0.5555555555555556,
             "#d8576b"
            ],
            [
             0.6666666666666666,
             "#ed7953"
            ],
            [
             0.7777777777777778,
             "#fb9f3a"
            ],
            [
             0.8888888888888888,
             "#fdca26"
            ],
            [
             1,
             "#f0f921"
            ]
           ]
          },
          "colorway": [
           "#636efa",
           "#EF553B",
           "#00cc96",
           "#ab63fa",
           "#FFA15A",
           "#19d3f3",
           "#FF6692",
           "#B6E880",
           "#FF97FF",
           "#FECB52"
          ],
          "font": {
           "color": "#2a3f5f"
          },
          "geo": {
           "bgcolor": "white",
           "lakecolor": "white",
           "landcolor": "#E5ECF6",
           "showlakes": true,
           "showland": true,
           "subunitcolor": "white"
          },
          "hoverlabel": {
           "align": "left"
          },
          "hovermode": "closest",
          "mapbox": {
           "style": "light"
          },
          "paper_bgcolor": "white",
          "plot_bgcolor": "#E5ECF6",
          "polar": {
           "angularaxis": {
            "gridcolor": "white",
            "linecolor": "white",
            "ticks": ""
           },
           "bgcolor": "#E5ECF6",
           "radialaxis": {
            "gridcolor": "white",
            "linecolor": "white",
            "ticks": ""
           }
          },
          "scene": {
           "xaxis": {
            "backgroundcolor": "#E5ECF6",
            "gridcolor": "white",
            "gridwidth": 2,
            "linecolor": "white",
            "showbackground": true,
            "ticks": "",
            "zerolinecolor": "white"
           },
           "yaxis": {
            "backgroundcolor": "#E5ECF6",
            "gridcolor": "white",
            "gridwidth": 2,
            "linecolor": "white",
            "showbackground": true,
            "ticks": "",
            "zerolinecolor": "white"
           },
           "zaxis": {
            "backgroundcolor": "#E5ECF6",
            "gridcolor": "white",
            "gridwidth": 2,
            "linecolor": "white",
            "showbackground": true,
            "ticks": "",
            "zerolinecolor": "white"
           }
          },
          "shapedefaults": {
           "line": {
            "color": "#2a3f5f"
           }
          },
          "ternary": {
           "aaxis": {
            "gridcolor": "white",
            "linecolor": "white",
            "ticks": ""
           },
           "baxis": {
            "gridcolor": "white",
            "linecolor": "white",
            "ticks": ""
           },
           "bgcolor": "#E5ECF6",
           "caxis": {
            "gridcolor": "white",
            "linecolor": "white",
            "ticks": ""
           }
          },
          "title": {
           "x": 0.05
          },
          "xaxis": {
           "automargin": true,
           "gridcolor": "white",
           "linecolor": "white",
           "ticks": "",
           "title": {
            "standoff": 15
           },
           "zerolinecolor": "white",
           "zerolinewidth": 2
          },
          "yaxis": {
           "automargin": true,
           "gridcolor": "white",
           "linecolor": "white",
           "ticks": "",
           "title": {
            "standoff": 15
           },
           "zerolinecolor": "white",
           "zerolinewidth": 2
          }
         }
        },
        "title": {
         "text": "Random percentage"
        },
        "xaxis": {
         "title": {
          "text": "Year"
         }
        },
        "yaxis": {
         "range": [
          0,
          200
         ],
         "title": {
          "text": "Percentage value [%]"
         }
        }
       }
      }
     },
     "metadata": {},
     "output_type": "display_data"
    }
   ],
   "source": [
    "import numpy as np\n",
    "import pandas as pd\n",
    "import plotly.graph_objects as go\n",
    "\n",
    "BEGIN_YEAR = 1990\n",
    "END_YEAR = 2011\n",
    "\n",
    "df1 = pd.DataFrame({\"year\": np.arange(start=BEGIN_YEAR, stop=END_YEAR, step=1), \"value\": np.random.rand(END_YEAR-BEGIN_YEAR)*100})\n",
    "df2 = pd.DataFrame({\"year\": np.arange(start=BEGIN_YEAR, stop=END_YEAR, step=1), \"value\": np.random.rand(END_YEAR-BEGIN_YEAR)*100})\n",
    "\n",
    "\n",
    "# Create traces\n",
    "fig = go.Figure()\n",
    "fig.add_trace(go.Scatter(x=df1[\"year\"], y=df1[\"value\"],\n",
    "                    mode='lines+markers',\n",
    "                    name='Canada'))\n",
    "fig.add_trace(go.Scatter(x=df2[\"year\"], y=df2[\"value\"],\n",
    "                    mode='lines',\n",
    "                    name='America'))\n",
    "\n",
    "fig.add_vline(x=2005, annotation_text=\"threshold\", annotation_position=\"bottom right\")\n",
    "\n",
    "fig.update_layout(title='Random percentage',\n",
    "                   xaxis_title='Year',\n",
    "                   yaxis_title='Percentage value [%]',\n",
    "                   yaxis_range=[0,200])\n",
    "\n",
    "fig.show()\n",
    "\n",
    "fig.write_html(\"interactive_html.html\")"
   ]
  },
  {
   "cell_type": "code",
   "execution_count": null,
   "metadata": {},
   "outputs": [
    {
     "data": {
      "application/vnd.plotly.v1+json": {
       "config": {
        "plotlyServerURL": "https://plot.ly"
       },
       "data": [
        {
         "type": "scatter",
         "x": [
          1,
          2,
          3
         ],
         "xaxis": "x",
         "y": [
          4,
          5,
          6
         ],
         "yaxis": "y"
        },
        {
         "type": "scatter",
         "x": [
          20,
          30,
          40
         ],
         "xaxis": "x2",
         "y": [
          50,
          60,
          70
         ],
         "yaxis": "y2"
        }
       ],
       "layout": {
        "height": 600,
        "template": {
         "data": {
          "bar": [
           {
            "error_x": {
             "color": "#2a3f5f"
            },
            "error_y": {
             "color": "#2a3f5f"
            },
            "marker": {
             "line": {
              "color": "#E5ECF6",
              "width": 0.5
             },
             "pattern": {
              "fillmode": "overlay",
              "size": 10,
              "solidity": 0.2
             }
            },
            "type": "bar"
           }
          ],
          "barpolar": [
           {
            "marker": {
             "line": {
              "color": "#E5ECF6",
              "width": 0.5
             },
             "pattern": {
              "fillmode": "overlay",
              "size": 10,
              "solidity": 0.2
             }
            },
            "type": "barpolar"
           }
          ],
          "carpet": [
           {
            "aaxis": {
             "endlinecolor": "#2a3f5f",
             "gridcolor": "white",
             "linecolor": "white",
             "minorgridcolor": "white",
             "startlinecolor": "#2a3f5f"
            },
            "baxis": {
             "endlinecolor": "#2a3f5f",
             "gridcolor": "white",
             "linecolor": "white",
             "minorgridcolor": "white",
             "startlinecolor": "#2a3f5f"
            },
            "type": "carpet"
           }
          ],
          "choropleth": [
           {
            "colorbar": {
             "outlinewidth": 0,
             "ticks": ""
            },
            "type": "choropleth"
           }
          ],
          "contour": [
           {
            "colorbar": {
             "outlinewidth": 0,
             "ticks": ""
            },
            "colorscale": [
             [
              0,
              "#0d0887"
             ],
             [
              0.1111111111111111,
              "#46039f"
             ],
             [
              0.2222222222222222,
              "#7201a8"
             ],
             [
              0.3333333333333333,
              "#9c179e"
             ],
             [
              0.4444444444444444,
              "#bd3786"
             ],
             [
              0.5555555555555556,
              "#d8576b"
             ],
             [
              0.6666666666666666,
              "#ed7953"
             ],
             [
              0.7777777777777778,
              "#fb9f3a"
             ],
             [
              0.8888888888888888,
              "#fdca26"
             ],
             [
              1,
              "#f0f921"
             ]
            ],
            "type": "contour"
           }
          ],
          "contourcarpet": [
           {
            "colorbar": {
             "outlinewidth": 0,
             "ticks": ""
            },
            "type": "contourcarpet"
           }
          ],
          "heatmap": [
           {
            "colorbar": {
             "outlinewidth": 0,
             "ticks": ""
            },
            "colorscale": [
             [
              0,
              "#0d0887"
             ],
             [
              0.1111111111111111,
              "#46039f"
             ],
             [
              0.2222222222222222,
              "#7201a8"
             ],
             [
              0.3333333333333333,
              "#9c179e"
             ],
             [
              0.4444444444444444,
              "#bd3786"
             ],
             [
              0.5555555555555556,
              "#d8576b"
             ],
             [
              0.6666666666666666,
              "#ed7953"
             ],
             [
              0.7777777777777778,
              "#fb9f3a"
             ],
             [
              0.8888888888888888,
              "#fdca26"
             ],
             [
              1,
              "#f0f921"
             ]
            ],
            "type": "heatmap"
           }
          ],
          "heatmapgl": [
           {
            "colorbar": {
             "outlinewidth": 0,
             "ticks": ""
            },
            "colorscale": [
             [
              0,
              "#0d0887"
             ],
             [
              0.1111111111111111,
              "#46039f"
             ],
             [
              0.2222222222222222,
              "#7201a8"
             ],
             [
              0.3333333333333333,
              "#9c179e"
             ],
             [
              0.4444444444444444,
              "#bd3786"
             ],
             [
              0.5555555555555556,
              "#d8576b"
             ],
             [
              0.6666666666666666,
              "#ed7953"
             ],
             [
              0.7777777777777778,
              "#fb9f3a"
             ],
             [
              0.8888888888888888,
              "#fdca26"
             ],
             [
              1,
              "#f0f921"
             ]
            ],
            "type": "heatmapgl"
           }
          ],
          "histogram": [
           {
            "marker": {
             "pattern": {
              "fillmode": "overlay",
              "size": 10,
              "solidity": 0.2
             }
            },
            "type": "histogram"
           }
          ],
          "histogram2d": [
           {
            "colorbar": {
             "outlinewidth": 0,
             "ticks": ""
            },
            "colorscale": [
             [
              0,
              "#0d0887"
             ],
             [
              0.1111111111111111,
              "#46039f"
             ],
             [
              0.2222222222222222,
              "#7201a8"
             ],
             [
              0.3333333333333333,
              "#9c179e"
             ],
             [
              0.4444444444444444,
              "#bd3786"
             ],
             [
              0.5555555555555556,
              "#d8576b"
             ],
             [
              0.6666666666666666,
              "#ed7953"
             ],
             [
              0.7777777777777778,
              "#fb9f3a"
             ],
             [
              0.8888888888888888,
              "#fdca26"
             ],
             [
              1,
              "#f0f921"
             ]
            ],
            "type": "histogram2d"
           }
          ],
          "histogram2dcontour": [
           {
            "colorbar": {
             "outlinewidth": 0,
             "ticks": ""
            },
            "colorscale": [
             [
              0,
              "#0d0887"
             ],
             [
              0.1111111111111111,
              "#46039f"
             ],
             [
              0.2222222222222222,
              "#7201a8"
             ],
             [
              0.3333333333333333,
              "#9c179e"
             ],
             [
              0.4444444444444444,
              "#bd3786"
             ],
             [
              0.5555555555555556,
              "#d8576b"
             ],
             [
              0.6666666666666666,
              "#ed7953"
             ],
             [
              0.7777777777777778,
              "#fb9f3a"
             ],
             [
              0.8888888888888888,
              "#fdca26"
             ],
             [
              1,
              "#f0f921"
             ]
            ],
            "type": "histogram2dcontour"
           }
          ],
          "mesh3d": [
           {
            "colorbar": {
             "outlinewidth": 0,
             "ticks": ""
            },
            "type": "mesh3d"
           }
          ],
          "parcoords": [
           {
            "line": {
             "colorbar": {
              "outlinewidth": 0,
              "ticks": ""
             }
            },
            "type": "parcoords"
           }
          ],
          "pie": [
           {
            "automargin": true,
            "type": "pie"
           }
          ],
          "scatter": [
           {
            "fillpattern": {
             "fillmode": "overlay",
             "size": 10,
             "solidity": 0.2
            },
            "type": "scatter"
           }
          ],
          "scatter3d": [
           {
            "line": {
             "colorbar": {
              "outlinewidth": 0,
              "ticks": ""
             }
            },
            "marker": {
             "colorbar": {
              "outlinewidth": 0,
              "ticks": ""
             }
            },
            "type": "scatter3d"
           }
          ],
          "scattercarpet": [
           {
            "marker": {
             "colorbar": {
              "outlinewidth": 0,
              "ticks": ""
             }
            },
            "type": "scattercarpet"
           }
          ],
          "scattergeo": [
           {
            "marker": {
             "colorbar": {
              "outlinewidth": 0,
              "ticks": ""
             }
            },
            "type": "scattergeo"
           }
          ],
          "scattergl": [
           {
            "marker": {
             "colorbar": {
              "outlinewidth": 0,
              "ticks": ""
             }
            },
            "type": "scattergl"
           }
          ],
          "scattermapbox": [
           {
            "marker": {
             "colorbar": {
              "outlinewidth": 0,
              "ticks": ""
             }
            },
            "type": "scattermapbox"
           }
          ],
          "scatterpolar": [
           {
            "marker": {
             "colorbar": {
              "outlinewidth": 0,
              "ticks": ""
             }
            },
            "type": "scatterpolar"
           }
          ],
          "scatterpolargl": [
           {
            "marker": {
             "colorbar": {
              "outlinewidth": 0,
              "ticks": ""
             }
            },
            "type": "scatterpolargl"
           }
          ],
          "scatterternary": [
           {
            "marker": {
             "colorbar": {
              "outlinewidth": 0,
              "ticks": ""
             }
            },
            "type": "scatterternary"
           }
          ],
          "surface": [
           {
            "colorbar": {
             "outlinewidth": 0,
             "ticks": ""
            },
            "colorscale": [
             [
              0,
              "#0d0887"
             ],
             [
              0.1111111111111111,
              "#46039f"
             ],
             [
              0.2222222222222222,
              "#7201a8"
             ],
             [
              0.3333333333333333,
              "#9c179e"
             ],
             [
              0.4444444444444444,
              "#bd3786"
             ],
             [
              0.5555555555555556,
              "#d8576b"
             ],
             [
              0.6666666666666666,
              "#ed7953"
             ],
             [
              0.7777777777777778,
              "#fb9f3a"
             ],
             [
              0.8888888888888888,
              "#fdca26"
             ],
             [
              1,
              "#f0f921"
             ]
            ],
            "type": "surface"
           }
          ],
          "table": [
           {
            "cells": {
             "fill": {
              "color": "#EBF0F8"
             },
             "line": {
              "color": "white"
             }
            },
            "header": {
             "fill": {
              "color": "#C8D4E3"
             },
             "line": {
              "color": "white"
             }
            },
            "type": "table"
           }
          ]
         },
         "layout": {
          "annotationdefaults": {
           "arrowcolor": "#2a3f5f",
           "arrowhead": 0,
           "arrowwidth": 1
          },
          "autotypenumbers": "strict",
          "coloraxis": {
           "colorbar": {
            "outlinewidth": 0,
            "ticks": ""
           }
          },
          "colorscale": {
           "diverging": [
            [
             0,
             "#8e0152"
            ],
            [
             0.1,
             "#c51b7d"
            ],
            [
             0.2,
             "#de77ae"
            ],
            [
             0.3,
             "#f1b6da"
            ],
            [
             0.4,
             "#fde0ef"
            ],
            [
             0.5,
             "#f7f7f7"
            ],
            [
             0.6,
             "#e6f5d0"
            ],
            [
             0.7,
             "#b8e186"
            ],
            [
             0.8,
             "#7fbc41"
            ],
            [
             0.9,
             "#4d9221"
            ],
            [
             1,
             "#276419"
            ]
           ],
           "sequential": [
            [
             0,
             "#0d0887"
            ],
            [
             0.1111111111111111,
             "#46039f"
            ],
            [
             0.2222222222222222,
             "#7201a8"
            ],
            [
             0.3333333333333333,
             "#9c179e"
            ],
            [
             0.4444444444444444,
             "#bd3786"
            ],
            [
             0.5555555555555556,
             "#d8576b"
            ],
            [
             0.6666666666666666,
             "#ed7953"
            ],
            [
             0.7777777777777778,
             "#fb9f3a"
            ],
            [
             0.8888888888888888,
             "#fdca26"
            ],
            [
             1,
             "#f0f921"
            ]
           ],
           "sequentialminus": [
            [
             0,
             "#0d0887"
            ],
            [
             0.1111111111111111,
             "#46039f"
            ],
            [
             0.2222222222222222,
             "#7201a8"
            ],
            [
             0.3333333333333333,
             "#9c179e"
            ],
            [
             0.4444444444444444,
             "#bd3786"
            ],
            [
             0.5555555555555556,
             "#d8576b"
            ],
            [
             0.6666666666666666,
             "#ed7953"
            ],
            [
             0.7777777777777778,
             "#fb9f3a"
            ],
            [
             0.8888888888888888,
             "#fdca26"
            ],
            [
             1,
             "#f0f921"
            ]
           ]
          },
          "colorway": [
           "#636efa",
           "#EF553B",
           "#00cc96",
           "#ab63fa",
           "#FFA15A",
           "#19d3f3",
           "#FF6692",
           "#B6E880",
           "#FF97FF",
           "#FECB52"
          ],
          "font": {
           "color": "#2a3f5f"
          },
          "geo": {
           "bgcolor": "white",
           "lakecolor": "white",
           "landcolor": "#E5ECF6",
           "showlakes": true,
           "showland": true,
           "subunitcolor": "white"
          },
          "hoverlabel": {
           "align": "left"
          },
          "hovermode": "closest",
          "mapbox": {
           "style": "light"
          },
          "paper_bgcolor": "white",
          "plot_bgcolor": "#E5ECF6",
          "polar": {
           "angularaxis": {
            "gridcolor": "white",
            "linecolor": "white",
            "ticks": ""
           },
           "bgcolor": "#E5ECF6",
           "radialaxis": {
            "gridcolor": "white",
            "linecolor": "white",
            "ticks": ""
           }
          },
          "scene": {
           "xaxis": {
            "backgroundcolor": "#E5ECF6",
            "gridcolor": "white",
            "gridwidth": 2,
            "linecolor": "white",
            "showbackground": true,
            "ticks": "",
            "zerolinecolor": "white"
           },
           "yaxis": {
            "backgroundcolor": "#E5ECF6",
            "gridcolor": "white",
            "gridwidth": 2,
            "linecolor": "white",
            "showbackground": true,
            "ticks": "",
            "zerolinecolor": "white"
           },
           "zaxis": {
            "backgroundcolor": "#E5ECF6",
            "gridcolor": "white",
            "gridwidth": 2,
            "linecolor": "white",
            "showbackground": true,
            "ticks": "",
            "zerolinecolor": "white"
           }
          },
          "shapedefaults": {
           "line": {
            "color": "#2a3f5f"
           }
          },
          "ternary": {
           "aaxis": {
            "gridcolor": "white",
            "linecolor": "white",
            "ticks": ""
           },
           "baxis": {
            "gridcolor": "white",
            "linecolor": "white",
            "ticks": ""
           },
           "bgcolor": "#E5ECF6",
           "caxis": {
            "gridcolor": "white",
            "linecolor": "white",
            "ticks": ""
           }
          },
          "title": {
           "x": 0.05
          },
          "xaxis": {
           "automargin": true,
           "gridcolor": "white",
           "linecolor": "white",
           "ticks": "",
           "title": {
            "standoff": 15
           },
           "zerolinecolor": "white",
           "zerolinewidth": 2
          },
          "yaxis": {
           "automargin": true,
           "gridcolor": "white",
           "linecolor": "white",
           "ticks": "",
           "title": {
            "standoff": 15
           },
           "zerolinecolor": "white",
           "zerolinewidth": 2
          }
         }
        },
        "title": {
         "text": "Side By Side Subplots"
        },
        "width": 800,
        "xaxis": {
         "anchor": "y",
         "domain": [
          0,
          0.45
         ]
        },
        "xaxis2": {
         "anchor": "y2",
         "domain": [
          0.55,
          1
         ]
        },
        "yaxis": {
         "anchor": "x",
         "domain": [
          0,
          1
         ]
        },
        "yaxis2": {
         "anchor": "x2",
         "domain": [
          0,
          1
         ]
        }
       }
      }
     },
     "metadata": {},
     "output_type": "display_data"
    }
   ],
   "source": [
    "import plotly.subplots as subplots\n",
    "fig = subplots.make_subplots(rows=1, cols=2)\n",
    "\n",
    "fig.add_trace(\n",
    "    go.Scatter(x=[1, 2, 3], y=[4, 5, 6]),\n",
    "    row=1, col=1\n",
    ")\n",
    "\n",
    "fig.add_trace(\n",
    "    go.Scatter(x=[20, 30, 40], y=[50, 60, 70]),\n",
    "    row=1, col=2\n",
    ")\n",
    "\n",
    "fig.update_layout(height=600, width=800, title_text=\"Side By Side Subplots\")\n",
    "fig.show()"
   ]
  }
 ],
 "metadata": {
  "kernelspec": {
   "display_name": "venv",
   "language": "python",
   "name": "python3"
  },
  "language_info": {
   "codemirror_mode": {
    "name": "ipython",
    "version": 3
   },
   "file_extension": ".py",
   "mimetype": "text/x-python",
   "name": "python",
   "nbconvert_exporter": "python",
   "pygments_lexer": "ipython3",
   "version": "3.10.6"
  },
  "orig_nbformat": 4
 },
 "nbformat": 4,
 "nbformat_minor": 2
}
